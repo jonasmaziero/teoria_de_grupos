{
 "cells": [
  {
   "cell_type": "markdown",
   "metadata": {},
   "source": [
    "## Notas de aula de Teoria de Grupos <br> Autor: Jonas Maziero"
   ]
  },
  {
   "cell_type": "code",
   "execution_count": 23,
   "metadata": {},
   "outputs": [],
   "source": [
    "%run init.ipynb"
   ]
  },
  {
   "cell_type": "markdown",
   "metadata": {},
   "source": [
    "# Grupos $GL(n,\\mathbb{F})$, $U(n)$, $U(1)$, $SU(n)$, $O(n)$, $SO(n)$ e $Sp(2n,\\mathbb{F})$\n",
    "\n",
    "<a id=\"sec_gl\"></a>\n",
    "## Grupo linear geral, $GL(n,\\mathbb{F})$\n",
    "As matrizes $n\\mathrm{x}n$ sobre o campo escalar $\\mathbb{F}$, i.e., $A\\in\\mathbb{F}^{n\\text{x}n}$, com determinante diferente de zero, $\\det(A)\\ne 0$, formam um grupo sob a operação $*=$ produto matricial, chamado de grupo linear geral e denotado por $GL(n,\\mathbb{F}).$ \n",
    "\n",
    "Para verificar essa afirmação, lembramos que $$\\det(AB)=\\det(A)\\det(B)\\ne 0$$ se $A$ e $B$ possuem inversa. Isso implicade que se $A,B\\in GL(n,\\mathbb{F})$ então $AB\\in GL(n,\\mathbb{F})$ (fechamento). Associatividade vem da associatividade do produto matricial. A identidade de $GL(n,\\mathbb{F})$ é a matriz identidade $n\\text{x}n$. Para qualquer $A\\in GL(n,\\mathbb{C})$ o elemento inverso é $A^{-1}=cof(A)^{T}/\\det(A)\\in GL(n,\\mathbb{C}).$\n",
    "\n",
    "## Grupo unitário, $U(n)$\n",
    "As matrizes unitárias $n\\mathrm{x}n$, matrizes cuja adjunta é igual à inversa ($U^{\\dagger}=U^{-1}$), também formam um grupo sob a operação de produto matricial. Esse grupo é chamado de grupo unitário e é denotado por $U(n),$ e é um subgrupo de $GL(n,\\mathbb{F})$. Aqui também verificamos prontamente a estrutura de grupo pois se $A,B\\in U(n)$ então $$AB(AB)^{\\dagger}=ABB^{\\dagger}A^{\\dagger}=A\\mathbb{I}_{n}A^{\\dagger}=AA^{\\dagger}=\\mathbb{I}_{n}.$$"
   ]
  },
  {
   "cell_type": "markdown",
   "metadata": {},
   "source": [
    "## Grupo circular, $U(1)$\n",
    "A operação de multiplicação por uma fase $e^{i\\phi}$ também forma um grupo, chamado de grupo circular (pois é formado pelo círculo de números complexos com módulo igual a um) e denotado por $U(1).$\n",
    "\n",
    "## Grupo unitário especial, $SU(n)$\n",
    "Se $A\\in U(n)$ e $A|a\\rangle=a|a\\rangle$ então $|a|=1\\therefore a = e^{i\\phi}$. Como para $B\\in U(n)$ temos \\begin{align}\n",
    "\\det(A) &= \\det(BAB^{\\dagger})=\\det(diag(e^{i\\phi_{1}},\\cdots,e^{i\\phi_{n}}))=\\Pi_{j=1}^{n}e^{i\\phi_{j}}=e^{i\\sum_{j=1}^{n}\\phi_{j}} \\\\ \n",
    "&=: e^{i\\phi}.\n",
    "\\end{align}\n",
    "As matrizes unitárias $n\\mathrm{x}n$ com determinante igual a um (i.e., $\\phi=0$) também formam um grupo, chamado grupo unitário especial e denotado por $SU(n),$ que é um subgrupo de $U(n)$. Para verificar composição notamos que $$\\det(AB)=\\det(A)\\det(B)=(1)(1)=1$$ se $A,B\\in SU(n)$."
   ]
  },
  {
   "cell_type": "markdown",
   "metadata": {},
   "source": [
    "## $U(3)$ a partir de $U(2)$\n",
    "Uma tarefa muito comum em teoria de grupos é a de escrevermos um conjunto de transformações de simetria em termos de transformações mais simples. A seguir veremos um exemplo deste procedimento.\n",
    "Considera um elemento qualquer $U\\in U(3)$ escrito, na base padrão $\\{|e_{1}\\rangle,|e_{2}\\rangle,|e_{3}\\rangle\\}$, como:\n",
    "\\begin{equation}\n",
    "U = \\begin{bmatrix} a&d&g \\\\ b&e&h \\\\c&f&i \\end{bmatrix}. \\hspace{2cm}(\\star)\n",
    "\\end{equation}\n",
    "Vamos construir $U_{1},U_{2},U_{3}\\in U(2)$ tais que $U_{3}U_{2}U_{1}U=\\mathbb{I}_{3}$, i.e., \n",
    "\\begin{equation}\n",
    "U=U_{1}^{\\dagger}U_{2}^{\\dagger}U_{3}^{\\dagger}.\n",
    "\\end{equation}\n",
    "OBS. Na realidade, as matrizes $U_{1},U_{2},U_{3}\\in U(3)$, mas são isomórficas a matrizes de $U(2).$ \n",
    "\n",
    "* Essa construção é feita como segue. Se $b=0$ faz $U_{1}=\\mathbb{I}_{3}$ senão faz\n",
    "\\begin{equation}\n",
    "U_{1} = \\begin{bmatrix} a^{*}/s & b^{*}/s & 0 \\\\ b/s & -a/s & 0 \\\\ 0 & 0 & 1 \\end{bmatrix},\n",
    "\\end{equation}\n",
    "com $s:=\\sqrt{|a|^{2}+|b|^{2}}$. O código abaixo é utilizado para verificar a unitariedade de $U_{1}$ e para multiplicá-la por $U$."
   ]
  },
  {
   "cell_type": "code",
   "execution_count": 2,
   "metadata": {},
   "outputs": [
    {
     "data": {
      "image/png": "[encoded data removed]",
      "text/latex": [
       "$$\\left ( \\left[\\begin{matrix}a & d & g\\\\b & e & h\\\\c & f & i\\end{matrix}\\right], \\quad \\left[\\begin{matrix}\\frac{\\overline{a}}{\\sqrt{\\left|{a}\\right|^{2} + \\left|{b}\\right|^{2}}} & \\frac{\\overline{b}}{\\sqrt{\\left|{a}\\right|^{2} + \\left|{b}\\right|^{2}}} & 0\\\\\\frac{b}{\\sqrt{\\left|{a}\\right|^{2} + \\left|{b}\\right|^{2}}} & - \\frac{a}{\\sqrt{\\left|{a}\\right|^{2} + \\left|{b}\\right|^{2}}} & 0\\\\0 & 0 & 1\\end{matrix}\\right], \\quad \\left[\\begin{matrix}\\frac{a \\overline{a} + b \\overline{b}}{\\left|{a}\\right|^{2} + \\left|{b}\\right|^{2}} & 0 & 0\\\\0 & \\frac{a \\overline{a} + b \\overline{b}}{\\left|{a}\\right|^{2} + \\left|{b}\\right|^{2}} & 0\\\\0 & 0 & 1\\end{matrix}\\right], \\quad \\left[\\begin{matrix}\\frac{a \\overline{a} + b \\overline{b}}{\\left|{a}\\right|^{2} + \\left|{b}\\right|^{2}} & 0 & 0\\\\0 & \\frac{a \\overline{a} + b \\overline{b}}{\\left|{a}\\right|^{2} + \\left|{b}\\right|^{2}} & 0\\\\0 & 0 & 1\\end{matrix}\\right]\\right )$$"
      ],
      "text/plain": [
       "⎛           ⎡       _                 _           ⎤                           \n",
       "⎜           ⎢       a                 b           ⎥  ⎡   _     _              \n",
       "⎜           ⎢────────────────  ────────────────  0⎥  ⎢ a⋅a + b⋅b              \n",
       "⎜           ⎢   _____________     _____________   ⎥  ⎢───────────       0     \n",
       "⎜           ⎢  ╱    2      2     ╱    2      2    ⎥  ⎢   2      2             \n",
       "⎜⎡a  d  g⎤  ⎢╲╱  │a│  + │b│    ╲╱  │a│  + │b│     ⎥  ⎢│a│  + │b│              \n",
       "⎜⎢       ⎥  ⎢                                     ⎥  ⎢                        \n",
       "⎜⎢b  e  h⎥, ⎢       b                -a           ⎥, ⎢                _     _ \n",
       "⎜⎢       ⎥  ⎢────────────────  ────────────────  0⎥  ⎢              a⋅a + b⋅b \n",
       "⎜⎣c  f  i⎦  ⎢   _____________     _____________   ⎥  ⎢     0       ───────────\n",
       "⎜           ⎢  ╱    2      2     ╱    2      2    ⎥  ⎢                2      2\n",
       "⎜           ⎢╲╱  │a│  + │b│    ╲╱  │a│  + │b│     ⎥  ⎢             │a│  + │b│ \n",
       "⎜           ⎢                                     ⎥  ⎢                        \n",
       "⎝           ⎣       0                 0          1⎦  ⎣     0            0     \n",
       "\n",
       "                                   ⎞\n",
       "   ⎤  ⎡   _     _                 ⎤⎟\n",
       "   ⎥  ⎢ a⋅a + b⋅b                 ⎥⎟\n",
       "  0⎥  ⎢───────────       0       0⎥⎟\n",
       "   ⎥  ⎢   2      2                ⎥⎟\n",
       "   ⎥  ⎢│a│  + │b│                 ⎥⎟\n",
       "   ⎥  ⎢                           ⎥⎟\n",
       "   ⎥, ⎢                _     _    ⎥⎟\n",
       "   ⎥  ⎢              a⋅a + b⋅b    ⎥⎟\n",
       "  0⎥  ⎢     0       ───────────  0⎥⎟\n",
       "   ⎥  ⎢                2      2   ⎥⎟\n",
       "   ⎥  ⎢             │a│  + │b│    ⎥⎟\n",
       "   ⎥  ⎢                           ⎥⎟\n",
       "  1⎦  ⎣     0            0       1⎦⎠"
      ]
     },
     "execution_count": 2,
     "metadata": {},
     "output_type": "execute_result"
    }
   ],
   "source": [
    "a,b,c,d,e,f,g,h,i = symbols(\"a,b,c,d,e,f,g,h,i\"); U = Matrix([[a,d,g],[b,e,h],[c,f,i]])\n",
    "s = sqrt(abs(a)**2+abs(b)**2); U1 = Matrix([[conjugate(a)/s,conjugate(b)/s,0],[b/s,-a/s,0],[0,0,1]])\n",
    "U, U1, simplify(U1*Dagger(U1)), simplify(Dagger(U1)*U1) # verificação que U1 é unitária. ok!"
   ]
  },
  {
   "cell_type": "code",
   "execution_count": 3,
   "metadata": {},
   "outputs": [
    {
     "data": {
      "image/png": "[encoded data removed]",
      "text/latex": [
       "$$\\left[\\begin{matrix}\\frac{a \\overline{a} + b \\overline{b}}{\\sqrt{\\left|{a}\\right|^{2} + \\left|{b}\\right|^{2}}} & \\frac{d \\overline{a} + e \\overline{b}}{\\sqrt{\\left|{a}\\right|^{2} + \\left|{b}\\right|^{2}}} & \\frac{g \\overline{a} + h \\overline{b}}{\\sqrt{\\left|{a}\\right|^{2} + \\left|{b}\\right|^{2}}}\\\\0 & \\frac{- a e + b d}{\\sqrt{\\left|{a}\\right|^{2} + \\left|{b}\\right|^{2}}} & \\frac{- a h + b g}{\\sqrt{\\left|{a}\\right|^{2} + \\left|{b}\\right|^{2}}}\\\\c & f & i\\end{matrix}\\right]$$"
      ],
      "text/plain": [
       "⎡     _     _           _     _           _     _    ⎤\n",
       "⎢   a⋅a + b⋅b         d⋅a + e⋅b         g⋅a + h⋅b    ⎥\n",
       "⎢────────────────  ────────────────  ────────────────⎥\n",
       "⎢   _____________     _____________     _____________⎥\n",
       "⎢  ╱    2      2     ╱    2      2     ╱    2      2 ⎥\n",
       "⎢╲╱  │a│  + │b│    ╲╱  │a│  + │b│    ╲╱  │a│  + │b│  ⎥\n",
       "⎢                                                    ⎥\n",
       "⎢                     -a⋅e + b⋅d        -a⋅h + b⋅g   ⎥\n",
       "⎢       0          ────────────────  ────────────────⎥\n",
       "⎢                     _____________     _____________⎥\n",
       "⎢                    ╱    2      2     ╱    2      2 ⎥\n",
       "⎢                  ╲╱  │a│  + │b│    ╲╱  │a│  + │b│  ⎥\n",
       "⎢                                                    ⎥\n",
       "⎣       c                 f                 i        ⎦"
      ]
     },
     "execution_count": 3,
     "metadata": {},
     "output_type": "execute_result"
    }
   ],
   "source": [
    "simplify(U1*U)"
   ]
  },
  {
   "cell_type": "markdown",
   "metadata": {},
   "source": [
    "Definimos assim\n",
    "\\begin{align}\n",
    "U_{1}U &= \\begin{bmatrix} a^{*}/s & b^{*}/s & 0 \\\\ b/s & -a/s & 0 \\\\ 0 & 0 & 1 \\end{bmatrix}\\begin{bmatrix} a&d&g \\\\ b&e&h \\\\c&f&i \\end{bmatrix} \n",
    "= \\begin{bmatrix} s & (da^{*}+eb^{*})/s & (ga^{*}+hb^{*})/s \\\\ 0 & (-ae+bd)/s & (-ah+bg)/s \\\\ c & f & i \\end{bmatrix} \\\\ \n",
    "& =: \\begin{bmatrix} a' & d' & g' \\\\ 0 & e' & h' \\\\ c' & f' & i' \\end{bmatrix}.\n",
    "\\end{align}\n",
    "\n",
    "* Seguindo, se $c'=c=0$ faz $U_{2}=\\mathbb{I}_{3}$, senão faz\n",
    "\\begin{equation}\n",
    "U_{2} = \\begin{bmatrix} a'^{*}/s' & 0 & c'^{*}/s' \\\\ 0 & 1 & 0 \\\\ c'/s' & 0 & -a'/s' \\end{bmatrix},\n",
    "\\end{equation}\n",
    "com $s':=\\sqrt{|a'|^{2}+|c'|^{2}}=\\sqrt{|a|^{2}+|b|^{2}+|c|^{2}}$. O código abaixo é utilizado para verificar a unitariedade de $U_{2}$ e para multiplicá-la por $U_{1}U$."
   ]
  },
  {
   "cell_type": "code",
   "execution_count": 4,
   "metadata": {},
   "outputs": [
    {
     "data": {
      "image/png": "[encoded data removed]",
      "text/latex": [
       "$$\\left ( \\left[\\begin{matrix}a' & d' & g'\\\\0 & e' & h'\\\\c & f & i\\end{matrix}\\right], \\quad \\left[\\begin{matrix}\\frac{\\overline{a'}}{\\sqrt{\\left|{a}\\right|^{2} + \\left|{b}\\right|^{2} + \\left|{c'}\\right|^{2}}} & 0 & \\frac{\\overline{c'}}{\\sqrt{\\left|{a}\\right|^{2} + \\left|{b}\\right|^{2} + \\left|{c'}\\right|^{2}}}\\\\0 & 1 & 0\\\\\\frac{c'}{\\sqrt{\\left|{a}\\right|^{2} + \\left|{b}\\right|^{2} + \\left|{c'}\\right|^{2}}} & 0 & - \\frac{a'}{\\sqrt{\\left|{a}\\right|^{2} + \\left|{b}\\right|^{2} + \\left|{c'}\\right|^{2}}}\\end{matrix}\\right], \\quad \\left[\\begin{matrix}\\frac{a' \\overline{a'} + c' \\overline{c'}}{\\left|{a}\\right|^{2} + \\left|{b}\\right|^{2} + \\left|{c'}\\right|^{2}} & 0 & 0\\\\0 & 1 & 0\\\\0 & 0 & \\frac{a' \\overline{a'} + c' \\overline{c'}}{\\left|{a}\\right|^{2} + \\left|{b}\\right|^{2} + \\left|{c'}\\right|^{2}}\\end{matrix}\\right], \\quad \\left[\\begin{matrix}\\frac{a' \\overline{a'} + c' \\overline{c'}}{\\left|{a}\\right|^{2} + \\left|{b}\\right|^{2} + \\left|{c'}\\right|^{2}} & 0 & 0\\\\0 & 1 & 0\\\\0 & 0 & \\frac{a' \\overline{a'} + c' \\overline{c'}}{\\left|{a}\\right|^{2} + \\left|{b}\\right|^{2} + \\left|{c'}\\right|^{2}}\\end{matrix}\\right]\\right )$$"
      ],
      "text/plain": [
       "⎛              ⎡           __                           __           ⎤        \n",
       "⎜              ⎢           a'                           c'           ⎥  ⎡     \n",
       "⎜              ⎢────────────────────────  0  ────────────────────────⎥  ⎢   a'\n",
       "⎜              ⎢   _____________________        _____________________⎥  ⎢─────\n",
       "⎜              ⎢  ╱    2      2       2        ╱    2      2       2 ⎥  ⎢   2 \n",
       "⎜⎡a'  d'  g'⎤  ⎢╲╱  │a│  + │b│  + │c'│       ╲╱  │a│  + │b│  + │c'│  ⎥  ⎢│a│  \n",
       "⎜⎢          ⎥  ⎢                                                     ⎥  ⎢     \n",
       "⎜⎢0   e'  h'⎥, ⎢           0              1             0            ⎥, ⎢     \n",
       "⎜⎢          ⎥  ⎢                                                     ⎥  ⎢     \n",
       "⎜⎣c   f   i ⎦  ⎢           c'                          -a'           ⎥  ⎢     \n",
       "⎜              ⎢────────────────────────  0  ────────────────────────⎥  ⎢     \n",
       "⎜              ⎢   _____________________        _____________________⎥  ⎢     \n",
       "⎜              ⎢  ╱    2      2       2        ╱    2      2       2 ⎥  ⎢     \n",
       "⎝              ⎣╲╱  │a│  + │b│  + │c'│       ╲╱  │a│  + │b│  + │c'│  ⎦  ⎣     \n",
       "\n",
       "                                                                              \n",
       " __      __                           ⎤  ⎡      __      __                    \n",
       "⋅a' + c'⋅c'                           ⎥  ⎢   a'⋅a' + c'⋅c'                    \n",
       "──────────────  0           0         ⎥  ⎢───────────────────  0           0  \n",
       "     2       2                        ⎥  ⎢   2      2       2                 \n",
       "+ │b│  + │c'│                         ⎥  ⎢│a│  + │b│  + │c'│                  \n",
       "                                      ⎥  ⎢                                    \n",
       "    0           1           0         ⎥, ⎢         0           1           0  \n",
       "                                      ⎥  ⎢                                    \n",
       "                         __      __   ⎥  ⎢                              __    \n",
       "                      a'⋅a' + c'⋅c'   ⎥  ⎢                           a'⋅a' + c\n",
       "    0           0  ───────────────────⎥  ⎢         0           0  ────────────\n",
       "                      2      2       2⎥  ⎢                           2      2 \n",
       "                   │a│  + │b│  + │c'│ ⎦  ⎣                        │a│  + │b│  \n",
       "\n",
       "        ⎞\n",
       "       ⎤⎟\n",
       "       ⎥⎟\n",
       "       ⎥⎟\n",
       "       ⎥⎟\n",
       "       ⎥⎟\n",
       "       ⎥⎟\n",
       "       ⎥⎟\n",
       "       ⎥⎟\n",
       "  __   ⎥⎟\n",
       "'⋅c'   ⎥⎟\n",
       "───────⎥⎟\n",
       "      2⎥⎟\n",
       "+ │c'│ ⎦⎠"
      ]
     },
     "execution_count": 4,
     "metadata": {},
     "output_type": "execute_result"
    }
   ],
   "source": [
    "al,bl,cl,dl,el,fl,gl,hl,il,sl = symbols(\"a',b',c',d',e',f',g',h',i',s'\")\n",
    "U1U = Matrix([[al,dl,gl],[0,el,hl],[c,f,i]]); sl = sqrt(s**2+abs(cl)**2)\n",
    "U2 = Matrix([[conjugate(al)/sl,0,conjugate(cl)/sl],[0,1,0],[cl/sl,0,-al/sl]])\n",
    "U1U, U2, simplify(U2*Dagger(U2)), simplify(Dagger(U2)*U2) # verificação que U2 é unitária. ok!"
   ]
  },
  {
   "cell_type": "code",
   "execution_count": 5,
   "metadata": {},
   "outputs": [
    {
     "data": {
      "image/png": "[encoded data removed]",
      "text/latex": [
       "$$\\left[\\begin{matrix}\\frac{a' \\overline{a'} + c \\overline{c'}}{\\sqrt{\\left|{a}\\right|^{2} + \\left|{b}\\right|^{2} + \\left|{c'}\\right|^{2}}} & \\frac{d' \\overline{a'} + f \\overline{c'}}{\\sqrt{\\left|{a}\\right|^{2} + \\left|{b}\\right|^{2} + \\left|{c'}\\right|^{2}}} & \\frac{g' \\overline{a'} + i \\overline{c'}}{\\sqrt{\\left|{a}\\right|^{2} + \\left|{b}\\right|^{2} + \\left|{c'}\\right|^{2}}}\\\\0 & e' & h'\\\\\\frac{a' \\left(- c + c'\\right)}{\\sqrt{\\left|{a}\\right|^{2} + \\left|{b}\\right|^{2} + \\left|{c'}\\right|^{2}}} & \\frac{- a' f + c' d'}{\\sqrt{\\left|{a}\\right|^{2} + \\left|{b}\\right|^{2} + \\left|{c'}\\right|^{2}}} & \\frac{- a' i + c' g'}{\\sqrt{\\left|{a}\\right|^{2} + \\left|{b}\\right|^{2} + \\left|{c'}\\right|^{2}}}\\end{matrix}\\right]$$"
      ],
      "text/plain": [
       "⎡         __     __                 __     __                 __     __      ⎤\n",
       "⎢      a'⋅a' + c⋅c'              d'⋅a' + f⋅c'              g'⋅a' + i⋅c'      ⎥\n",
       "⎢────────────────────────  ────────────────────────  ────────────────────────⎥\n",
       "⎢   _____________________     _____________________     _____________________⎥\n",
       "⎢  ╱    2      2       2     ╱    2      2       2     ╱    2      2       2 ⎥\n",
       "⎢╲╱  │a│  + │b│  + │c'│    ╲╱  │a│  + │b│  + │c'│    ╲╱  │a│  + │b│  + │c'│  ⎥\n",
       "⎢                                                                            ⎥\n",
       "⎢           0                         e'                        h'           ⎥\n",
       "⎢                                                                            ⎥\n",
       "⎢      a'⋅(-c + c')             -a'⋅f + c'⋅d'             -a'⋅i + c'⋅g'      ⎥\n",
       "⎢────────────────────────  ────────────────────────  ────────────────────────⎥\n",
       "⎢   _____________________     _____________________     _____________________⎥\n",
       "⎢  ╱    2      2       2     ╱    2      2       2     ╱    2      2       2 ⎥\n",
       "⎣╲╱  │a│  + │b│  + │c'│    ╲╱  │a│  + │b│  + │c'│    ╲╱  │a│  + │b│  + │c'│  ⎦"
      ]
     },
     "execution_count": 5,
     "metadata": {},
     "output_type": "execute_result"
    }
   ],
   "source": [
    "simplify(U2*U1U)"
   ]
  },
  {
   "cell_type": "markdown",
   "metadata": {},
   "source": [
    "Definimos assim\n",
    "\\begin{align}\n",
    "U_{2}U_{1}U &= \\begin{bmatrix} a'^{*}/s' & 0 & c'^{*}/s' \\\\ 0 & 1 & 0 \\\\ c'/s' & 0 & -a'/s' \\end{bmatrix}\\begin{bmatrix} a' & d' & g' \\\\ 0 & e' & h' \\\\ c' & f' & i' \\end{bmatrix} \n",
    "= \\begin{bmatrix} s' & (d'a'^{*}+f'c'^{*})/s' & (g'a'^{*}+i'c'^{*})/s' \\\\ 0 & e' & h' \\\\ 0 & (c'd'-f'a')/s' & (c'g'-i'a')/s' \\end{bmatrix} \\\\ \n",
    "& =:\\begin{bmatrix} a'' & d'' & g'' \\\\ 0 & e'' & h'' \\\\ 0 & f'' & i'' \\end{bmatrix}. \\hspace{1cm}(\\star\\star)\n",
    "\\end{align}\n",
    "Essa matriz é unitária pois $$(U_{2}U_{1}U)^{\\dagger}U_{2}U_{1}U = U^{\\dagger}U_{1}^{\\dagger}U_{2}^{\\dagger}U_{2}U_{1}U=\\mathbb{I}_{3}=U_{2}U_{1}U(U_{2}U_{1}U)^{\\dagger}.$$ Portanto seus vetores linha e vetores coluna devem ter norma $=1$. Isso implica que $$a''=1,$$ que é satisfeito pois $a''=s'=\\sqrt{|a|^{2}+|b|^{2}+|c|^{2}}=|||C_{1}^{U}\\rangle||$, e que consequentemente $$d''=g''=0.$$ Na verdade, pode-se verificar que $d''\\propto\\langle C_{1}^{U}|C_{2}^{U}\\rangle$ e $g''\\propto\\langle C_{1}^{U}|C_{3}^{U}\\rangle.$\n",
    "\n",
    "Por conseguinte\n",
    "\\begin{equation}\n",
    "U_{2}U_{1}U =: \\begin{bmatrix} 1 & 0 & 0 \\\\ 0 & e'' & h'' \\\\ 0 & f'' & i'' \\end{bmatrix}.\n",
    "\\end{equation}\n",
    "\n",
    "* Por fim, definimos\n",
    "\\begin{equation}\n",
    "U_{3} = \\begin{bmatrix} 1 & 0 & 0 \\\\ 0 & e''^{*} & f''^{*} \\\\ 0 & h''^{*} & i''^{*} \\end{bmatrix}.\n",
    "\\end{equation}\n",
    "A unitariedade de $U_{3}$ é verificada com a ajuda do código abaixo."
   ]
  },
  {
   "cell_type": "code",
   "execution_count": 6,
   "metadata": {},
   "outputs": [
    {
     "data": {
      "image/png": "[encoded data removed]",
      "text/latex": [
       "$$\\left ( \\left[\\begin{matrix}1 & 0 & 0\\\\0 & \\overline{e''} & \\overline{f''}\\\\0 & \\overline{h''} & \\overline{i''}\\end{matrix}\\right], \\quad \\left[\\begin{matrix}1 & 0 & 0\\\\0 & e'' \\overline{e''} + f'' \\overline{f''} & h'' \\overline{e''} + i'' \\overline{f''}\\\\0 & e'' \\overline{h''} + f'' \\overline{i''} & h'' \\overline{h''} + i'' \\overline{i''}\\end{matrix}\\right], \\quad \\left[\\begin{matrix}1 & 0 & 0\\\\0 & e'' \\overline{e''} + h'' \\overline{h''} & e'' \\overline{f''} + h'' \\overline{i''}\\\\0 & f'' \\overline{e''} + i'' \\overline{h''} & f'' \\overline{f''} + i'' \\overline{i''}\\end{matrix}\\right]\\right )$$"
      ],
      "text/plain": [
       "⎛⎡1   0    0 ⎤  ⎡1          0                  0        ⎤  ⎡1          0      \n",
       "⎜⎢           ⎥  ⎢                                       ⎥  ⎢                  \n",
       "⎜⎢   ___  ___⎥  ⎢       ___       ___      ___       ___⎥  ⎢       ___       _\n",
       "⎜⎢0  e''  f''⎥, ⎢0  e''⋅e'' + f''⋅f''  h''⋅e'' + i''⋅f''⎥, ⎢0  e''⋅e'' + h''⋅h\n",
       "⎜⎢           ⎥  ⎢                                       ⎥  ⎢                  \n",
       "⎜⎢   ___  ___⎥  ⎢       ___       ___      ___       ___⎥  ⎢       ___       _\n",
       "⎝⎣0  h''  i''⎦  ⎣0  e''⋅h'' + f''⋅i''  h''⋅h'' + i''⋅i''⎦  ⎣0  f''⋅e'' + i''⋅h\n",
       "\n",
       "            0        ⎤⎞\n",
       "                     ⎥⎟\n",
       "__      ___       ___⎥⎟\n",
       "''  e''⋅f'' + h''⋅i''⎥⎟\n",
       "                     ⎥⎟\n",
       "__      ___       ___⎥⎟\n",
       "''  f''⋅f'' + i''⋅i''⎦⎠"
      ]
     },
     "execution_count": 6,
     "metadata": {},
     "output_type": "execute_result"
    }
   ],
   "source": [
    "ell,fll,hll,ill = symbols(\"e'',f'',h'',i''\")\n",
    "U3 = Matrix([[1,0,0],[0,conjugate(ell),conjugate(fll)],[0,conjugate(hll),conjugate(ill)]])\n",
    "U3, simplify(U3*Dagger(U3)), simplify(Dagger(U3)*U3) # verificação que U3 é unitária. ok!"
   ]
  },
  {
   "cell_type": "markdown",
   "metadata": {},
   "source": [
    "Vemos que $U_{3}$ é unitária pois, pela unitariedade de $U_{2}U_{1}U$, temos que ($W\\equiv U_{2}U_{1}U$)\n",
    "\\begin{align}\n",
    "& \\langle C_{2}^{W}|C_{2}^{W}\\rangle=1 \\Rightarrow |e''|^{2}+|f''|^{2}=1, \\\\\n",
    "& \\langle C_{2}^{W}|C_{3}^{W}\\rangle=0 \\Rightarrow e''^{*}h''+f''^{*}i''=0, \\\\\n",
    "& \\langle C_{3}^{W}|C_{2}^{W}\\rangle=0 \\Rightarrow h''^{*}e''+i''^{*}f''=0, \\\\\n",
    "& \\langle C_{3}^{W}|C_{3}^{W}\\rangle=1 \\Rightarrow |h''|^{2}+|i''|^{2}=1.\n",
    "\\end{align}\n",
    "Com a ajuda do código abaixo, e pela unitariedade de $U_{2}U_{1}U$, obtemos $$U_{3}U_{2}U_{1}U=\\mathbb{I}_{3}.$$"
   ]
  },
  {
   "cell_type": "code",
   "execution_count": 7,
   "metadata": {},
   "outputs": [
    {
     "data": {
      "image/png": "[encoded data removed]",
      "text/latex": [
       "$$\\left ( \\left[\\begin{matrix}1 & 0 & 0\\\\0 & e'' & h''\\\\0 & f'' & i''\\end{matrix}\\right], \\quad \\left[\\begin{matrix}1 & 0 & 0\\\\0 & e'' \\overline{e''} + f'' \\overline{f''} & h'' \\overline{e''} + i'' \\overline{f''}\\\\0 & e'' \\overline{h''} + f'' \\overline{i''} & h'' \\overline{h''} + i'' \\overline{i''}\\end{matrix}\\right]\\right )$$"
      ],
      "text/plain": [
       "⎛               ⎡1          0                  0        ⎤⎞\n",
       "⎜⎡1   0    0 ⎤  ⎢                                       ⎥⎟\n",
       "⎜⎢           ⎥  ⎢       ___       ___      ___       ___⎥⎟\n",
       "⎜⎢0  e''  h''⎥, ⎢0  e''⋅e'' + f''⋅f''  h''⋅e'' + i''⋅f''⎥⎟\n",
       "⎜⎢           ⎥  ⎢                                       ⎥⎟\n",
       "⎜⎣0  f''  i''⎦  ⎢       ___       ___      ___       ___⎥⎟\n",
       "⎝               ⎣0  e''⋅h'' + f''⋅i''  h''⋅h'' + i''⋅i''⎦⎠"
      ]
     },
     "execution_count": 7,
     "metadata": {},
     "output_type": "execute_result"
    }
   ],
   "source": [
    "U2U1U = Matrix([[1,0,0],[0,ell,hll],[0,fll,ill]]); U2U1U, U3*U2U1U"
   ]
  },
  {
   "cell_type": "markdown",
   "metadata": {},
   "source": [
    "Fornecida a matriz unitária $U$, o código abaixo retorna as matrizes unitárias $\\{U_{j}\\}_{j=1}^{3}$ tais que $U=U_{1}^{\\dagger}U_{2}^{\\dagger}U_{3}^{\\dagger}.$"
   ]
  },
  {
   "cell_type": "code",
   "execution_count": 8,
   "metadata": {},
   "outputs": [],
   "source": [
    "def u3_from_u2(U):\n",
    "    '''Returs U1d, U2d, U3d such that U = U1d*U2d*U3d'''\n",
    "    s = sqrt(abs(U[0,0])**2+abs(U[1,0])**2)\n",
    "    if U[1,0] == 0: # verifica se b = 0\n",
    "        U1 = id(3)\n",
    "    else:\n",
    "        U1 = Matrix([[conjugate(U[0,0])/s,conjugate(U[1,0])/s,0],\n",
    "                     [U[1,0]/s,-U[0,0]/s,0],[0,0,1]])\n",
    "    sl = sqrt(s**2+abs(U[2,0])**2)\n",
    "    if U[2,0] == 0: # verifica se c = 0\n",
    "        U2 = id(3)\n",
    "    else:\n",
    "        U2 = Matrix([[s/sl,0,conjugate(U[2,0])/sl],[0,1,0],\n",
    "                     [U[2,0]/sl,0,-s/sl]])\n",
    "    ell = (U[1,0]*U[0,1]-U[0,0]*U[1,1])/s\n",
    "    hll = (U[1,0]*U[0,2]-U[0,0]*U[1,2])/s\n",
    "    dl = (U[0,1]*conjugate(U[0,0])+U[1,1]*conjugate(U[1,0]))/s\n",
    "    fll = (U[2,0]*dl-s*U[2,1])/sl\n",
    "    gl = (U[0,2]*conjugate(U[0,0])+U[1,2]*conjugate(U[0,1]))/s\n",
    "    ill = (U[2,0]*gl-s*U[2,2])/sl\n",
    "    if fll == 0:\n",
    "        U3 = id(3)\n",
    "    else:\n",
    "        U3 = Matrix([[1,0,0],[0,conjugate(ell),conjugate(fll)],\n",
    "                     [0,conjugate(hll),conjugate(ill)]])\n",
    "    return Dagger(U1), Dagger(U2), Dagger(U3)"
   ]
  },
  {
   "cell_type": "code",
   "execution_count": 9,
   "metadata": {},
   "outputs": [
    {
     "data": {
      "image/png": "[encoded data removed]",
      "text/latex": [
       "$$\\left ( \\left[\\begin{matrix}\\frac{\\sqrt{2}}{2} & \\frac{\\sqrt{2}}{2} & 0\\\\\\frac{\\sqrt{2}}{2} & - \\frac{\\sqrt{2}}{2} & 0\\\\0 & 0 & 1\\end{matrix}\\right], \\quad \\left[\\begin{matrix}1 & 0 & 0\\\\0 & 1 & 0\\\\0 & 0 & 1\\end{matrix}\\right], \\quad \\left[\\begin{matrix}\\frac{\\sqrt{2}}{2} & \\frac{\\sqrt{2}}{2} & 0\\\\\\frac{\\sqrt{2}}{2} & - \\frac{\\sqrt{2}}{2} & 0\\\\0 & 0 & 1\\end{matrix}\\right]\\right )$$"
      ],
      "text/plain": [
       "⎛⎡√2   √2    ⎤             ⎡√2   √2    ⎤⎞\n",
       "⎜⎢──   ──   0⎥             ⎢──   ──   0⎥⎟\n",
       "⎜⎢2    2     ⎥  ⎡1  0  0⎤  ⎢2    2     ⎥⎟\n",
       "⎜⎢           ⎥  ⎢       ⎥  ⎢           ⎥⎟\n",
       "⎜⎢√2  -√2    ⎥, ⎢0  1  0⎥, ⎢√2  -√2    ⎥⎟\n",
       "⎜⎢──  ────  0⎥  ⎢       ⎥  ⎢──  ────  0⎥⎟\n",
       "⎜⎢2    2     ⎥  ⎣0  0  1⎦  ⎢2    2     ⎥⎟\n",
       "⎜⎢           ⎥             ⎢           ⎥⎟\n",
       "⎝⎣0    0    1⎦             ⎣0    0    1⎦⎠"
      ]
     },
     "execution_count": 9,
     "metadata": {},
     "output_type": "execute_result"
    }
   ],
   "source": [
    "U = (1/sqrt(2))*Matrix([[1,1,0],[1,-1,0],[0,0,sqrt(2)]])\n",
    "#U = id(3)\n",
    "U1d, U2d, U3d = u3_from_u2(U); U, simplify(U*Dagger(U)), simplify(U1d*U2d*U3d)"
   ]
  },
  {
   "cell_type": "markdown",
   "metadata": {},
   "source": [
    "OBS. Podemos usar o mesmo tipo de procedimento para escrever qualquer transformação de $U(n)$ em termos da composição de transformações de $U(2).$"
   ]
  },
  {
   "cell_type": "markdown",
   "metadata": {},
   "source": [
    "## Grupo ortogonal, $O(n)$\n",
    "As matrizes ortogonais $n\\mathrm{x}n$, i.e., as matrizes cuja transposta é igual à inversa ($O^{T}=O^{-1}$), formam um grupo sob multiplicação, que é chamado de grupo ortogonal e é denotado por $$O(n).$$ Verificamos a estrutura de grupo notando que se $A,B\\in O(n)$ então\n",
    "\\begin{equation}\n",
    "AB(AB)^{T}=ABB^{T}A^{T}=A\\mathbb{I}_{n}A^{T} =AA^{T}=\\mathbb{I}_{n}.\n",
    "\\end{equation}\n",
    "\n",
    "OBS. Claro, $O(n)$ é um subgrupo do grupo [$GL(n,\\mathbb{F})$](#sec_gl).\n",
    "\n",
    "## Grupo ortogonal especial, $SO(n)$\n",
    "Para $A\\in O(n)$ temos $$\\det(AA^{T})=\\det(A)\\det(A^{T})=\\det(A)^{2}=\\det(\\mathbb{I})=1\\therefore \\det(A)=\\pm 1.$$  As matrizes ortogonais com determinante $=1$ também formam um grupo, chamado de grupo ortogonal especial e denotado por $$SO(n).$$\n",
    "\n",
    "A verificação é fácil pois se $A,B\\in SO(n)$ então $\\det(AB)=\\det(A)\\det(B)=(1)(1)=1.$"
   ]
  },
  {
   "cell_type": "markdown",
   "metadata": {},
   "source": [
    "## Matrizes de rotação em $\\mathbb{R}^{n}$\n",
    "O vetor posição pode ser escrito em diferentes referencias como: $$\\vec{r} = \\sum_{j}x_{j}\\hat{e}_{j} = \\sum_{j}x'_{j}\\hat{e'}_{j}=\\vec{r'}.$$ Para rotações do referencial, o chamado ponto de vista passivo, consideremos que os versores nos diferentes referenciais são relacionados pela matriz de rotação:\n",
    "\\begin{equation}\n",
    "\\hat{e'}_{j}=\\sum_{k}A_{j,k}\\hat{e}_{k}\\therefore\\begin{bmatrix}\\hat{e'}_{1}\\\\\\vdots\\\\\\hat{e'}_{n}\\end{bmatrix}=A\\begin{bmatrix}\\hat{e}_{1}\\\\\\vdots\\\\\\hat{e}_{n}\\end{bmatrix}.\n",
    "\\end{equation}\n",
    "\n",
    "Como rotações devem preservar o produto interno, devemos ter que\n",
    "\\begin{align}\n",
    "\\delta_{j,k} & = \\hat{e'}_{j}\\cdot\\hat{e'}_{k} = \\sum_{l}A_{j,l}\\hat{e}_{l}\\cdot\\sum_{m}A_{k,m}\\hat{e}_{m} = \\sum_{l,m}A_{j,l}A_{k,m}\\hat{e}_{l}\\cdot\\hat{e}_{m} = \\sum_{l,m}A_{j,l}A_{k,m}\\delta_{l,m}  \\\\\n",
    "& = \\sum_{l}A_{j,l}A_{k,l} = \\sum_{l}A_{j,l}(A^{T})_{l,k} = (AA^{T})_{j,k} \\\\\n",
    "& \\Rightarrow AA^{T}=\\mathbb{I}_{n}.\n",
    "\\end{align}\n",
    "Pode-se verificar também que $A^{T}A=\\mathbb{I}$. Portanto $A\\in O(n)$. \n",
    "\n",
    "Assim\n",
    "\\begin{align}\n",
    "\\vec{r'} & = \\sum_{j}x'_{j}\\hat{e'}_{j} = \\sum_{j}x'_{j}\\sum_{k}A_{jk}\\hat{e}_{k} = \\sum_{k}\\left(\\sum_{j}(A^{T})_{kj}x'_{j}\\right)\\hat{e}_{k} = \\sum_{k}x_{k}\\hat{e}_{k}=\\vec{r}.\n",
    "\\end{align}\n",
    "Ou seja, se giramos o vetor sem mudar o referencial, o chamado ponto de vista ativo, teremos\n",
    "\\begin{equation}\n",
    "\\vec{r}=A^{T}\\vec{r'}.\n",
    "\\end{equation}\n",
    "\n",
    "\n",
    "Ademais, notemos que \n",
    "\\begin{equation}\n",
    "\\hat{e}_{l}\\cdot\\hat{e'}_{j}=\\hat{e}_{l}\\cdot\\sum_{k}A_{j,k}\\hat{e}_{k}=\\sum_{k}A_{j,k}\\hat{e}_{l}\\cdot\\hat{e}_{k}=A_{j,l}=\\cos(\\text{ângulo entre } \\hat{e}_{l} \\text{ e } \\hat{e'}_{j}).\n",
    "\\end{equation}"
   ]
  },
  {
   "cell_type": "markdown",
   "metadata": {},
   "source": [
    "## Rotações em $\\mathbb{R}^{3}$\n",
    "### Rotações em torno de $z$\n",
    "Para rotações do referencial em torno da direção $z$ positiva, temos as seguintes relações entre os versores (veja a figura abaixo):\n",
    "\\begin{equation}\n",
    "\\begin{cases}\n",
    "\\hat{i'} = \\hat{i}\\cos\\theta+\\hat{j}\\sin\\theta, \\\\\n",
    "\\hat{j'} = -\\hat{i}\\sin\\theta+\\hat{j}\\cos\\theta, \\\\\n",
    "\\hat{k'} = k,\n",
    "\\end{cases}\n",
    "\\ \\therefore \\begin{bmatrix} \\hat{i'} \\\\ \\hat{j'} \\\\ \\hat{k'} \\end{bmatrix} = \\begin{bmatrix} \\cos\\theta & \\sin\\theta & 0 \\\\ -\\sin\\theta & \\cos\\theta & 0 \\\\ 0&0&1 \\end{bmatrix}\\begin{bmatrix} \\hat{i} \\\\ \\hat{j} \\\\ \\hat{k} \\end{bmatrix} =:R_{z}(\\theta)^{T}\\begin{bmatrix} \\hat{i} \\\\ \\hat{j} \\\\ \\hat{k} \\end{bmatrix}.\n",
    "\\end{equation}\n",
    "\n",
    "<table><tr>\n",
    "<td> <img src=\"fig_04_O3_vec.png\" alt=\"Drawing\" style=\"width: 250px;\"/> </td>\n",
    "<td> <img src=\"fig_04_O3_Rz.png\" alt=\"Drawing\" style=\"width: 250px;\"/> </td>\n",
    "</tr></table>\n",
    "\n",
    "Com isso, vem que\n",
    "\\begin{align}\n",
    "\\vec{r'} & = x'\\hat{i'}+y'\\hat{j'}+z'\\hat{k'} \\\\\n",
    "& = x'(\\hat{i}\\cos\\theta+\\hat{j}\\sin\\theta) + y'(-\\hat{i}\\sin\\theta+\\hat{j}\\cos\\theta)+z'\\hat{k'} \\\\\n",
    "& = (x'\\cos\\theta-y'\\sin\\theta)\\hat{i} + (x'\\sin\\theta+y'\\cos\\theta)\\hat{j}+z'\\hat{k} \\\\\n",
    "& = \\vec{r} = x\\hat{i}+y\\hat{j}+z\\hat{k}.\n",
    "\\end{align}\n",
    "Na forma matricial, esta equação fica escrita como segue:\n",
    "\\begin{equation}\n",
    "\\begin{bmatrix} x \\\\ y \\\\ z \\end{bmatrix}=\\begin{bmatrix}\\cos\\theta & -\\sin\\theta & 0 \\\\ \\sin\\theta & \\cos\\theta & 0 \\\\ 0 & 0 & 1 \\end{bmatrix}\\begin{bmatrix} x' \\\\ y' \\\\ z' \\end{bmatrix}\\therefore \\vec{r}=R_{z}(\\theta)\\vec{r'}.\n",
    "\\end{equation}\n",
    "Como visto usando o código abaixo, $R_{z}(\\theta)\\in SO(3)$. Assim $\\vec{r'}=R_{z}(\\theta)^{T}R_{z}(\\theta)\\vec{r'}=R_{z}(\\theta)^{T}\\vec{r}$."
   ]
  },
  {
   "cell_type": "code",
   "execution_count": 10,
   "metadata": {},
   "outputs": [],
   "source": [
    "t = symbols(\"theta\")\n",
    "def Rz(t):\n",
    "    return Matrix([[cos(t),-sin(t),0],[sin(t),cos(t),0],[0,0,1]])"
   ]
  },
  {
   "cell_type": "code",
   "execution_count": 11,
   "metadata": {},
   "outputs": [
    {
     "data": {
      "image/png": "[encoded data removed]",
      "text/latex": [
       "$$\\left ( \\left[\\begin{matrix}\\cos{\\left (\\theta \\right )} & - \\sin{\\left (\\theta \\right )} & 0\\\\\\sin{\\left (\\theta \\right )} & \\cos{\\left (\\theta \\right )} & 0\\\\0 & 0 & 1\\end{matrix}\\right], \\quad \\left[\\begin{matrix}1 & 0 & 0\\\\0 & 1 & 0\\\\0 & 0 & 1\\end{matrix}\\right], \\quad \\left[\\begin{matrix}1 & 0 & 0\\\\0 & 1 & 0\\\\0 & 0 & 1\\end{matrix}\\right], \\quad 1\\right )$$"
      ],
      "text/plain": [
       "⎛⎡cos(θ)  -sin(θ)  0⎤  ⎡1  0  0⎤  ⎡1  0  0⎤   ⎞\n",
       "⎜⎢                  ⎥  ⎢       ⎥  ⎢       ⎥   ⎟\n",
       "⎜⎢sin(θ)  cos(θ)   0⎥, ⎢0  1  0⎥, ⎢0  1  0⎥, 1⎟\n",
       "⎜⎢                  ⎥  ⎢       ⎥  ⎢       ⎥   ⎟\n",
       "⎝⎣  0        0     1⎦  ⎣0  0  1⎦  ⎣0  0  1⎦   ⎠"
      ]
     },
     "execution_count": 11,
     "metadata": {},
     "output_type": "execute_result"
    }
   ],
   "source": [
    "Rz(t), simplify(Rz(t)*Rz(t).T), simplify(Rz(t).T*Rz(t)), simplify(det(Rz(t)))"
   ]
  },
  {
   "cell_type": "markdown",
   "metadata": {},
   "source": [
    "### Rotações em torno de $y$\n",
    "Para rotações do referencial em torno da direção $y$ positiva, temos as seguintes relações entre os versores (veja a figura abaixo):\n",
    "\\begin{align}\n",
    "& \\hat{i'} = \\hat{i}\\cos\\theta-\\hat{k}\\sin\\theta, \\\\\n",
    "& \\hat{j'} = \\hat{j}, \\\\  \n",
    "& \\hat{k'} = \\hat{i}\\sin\\theta+\\hat{k}\\cos\\theta.\n",
    "\\end{align}\n",
    "\n",
    "<img src=\"fig_04_O3_Ry.png\" width=\"250\">\n",
    "\n",
    "Com isso, vem que\n",
    "\\begin{align}\n",
    "\\vec{r'} & = x'(\\hat{i}\\cos\\theta-\\hat{k}\\sin\\theta) + y'\\hat{j'} + z'(\\hat{i}\\sin\\theta+\\hat{k}\\cos\\theta) \\\\\n",
    "& = (x'\\cos\\theta+z'\\sin\\theta)\\hat{i} + y'\\hat{j'} + (-x'\\sin\\theta+z'\\cos\\theta)\\hat{k'}=\\vec{r}.\n",
    "\\end{align}\n",
    "Na forma matricial, esta equação fica escrita como segue:\n",
    "\\begin{equation}\n",
    "\\begin{bmatrix} x \\\\ y \\\\ z \\end{bmatrix}=\\begin{bmatrix}\\cos\\theta & 0 & \\sin\\theta \\\\ 0 & 1 & 0 \\\\ -\\sin\\theta & 0 & \\cos\\theta \\end{bmatrix}\\begin{bmatrix} x' \\\\ y' \\\\ z' \\end{bmatrix}\\therefore \\vec{r}=R_{y}(\\theta)\\vec{r'}.\n",
    "\\end{equation}\n",
    "Como visto usando o código abaixo, $R_{y}(\\theta)\\in SO(3)$. Portanto $\\vec{r'}=R_{y}(\\theta)^{T}\\vec{r}$."
   ]
  },
  {
   "cell_type": "code",
   "execution_count": 12,
   "metadata": {},
   "outputs": [],
   "source": [
    "def Ry(t):\n",
    "    return Matrix([[cos(t),0,sin(t)],[0,1,0],[-sin(t),0,cos(t)]])"
   ]
  },
  {
   "cell_type": "code",
   "execution_count": 13,
   "metadata": {},
   "outputs": [
    {
     "data": {
      "image/png": "[encoded data removed]",
      "text/latex": [
       "$$\\left ( \\left[\\begin{matrix}\\cos{\\left (\\theta \\right )} & 0 & \\sin{\\left (\\theta \\right )}\\\\0 & 1 & 0\\\\- \\sin{\\left (\\theta \\right )} & 0 & \\cos{\\left (\\theta \\right )}\\end{matrix}\\right], \\quad \\left[\\begin{matrix}1 & 0 & 0\\\\0 & 1 & 0\\\\0 & 0 & 1\\end{matrix}\\right], \\quad \\left[\\begin{matrix}1 & 0 & 0\\\\0 & 1 & 0\\\\0 & 0 & 1\\end{matrix}\\right], \\quad 1\\right )$$"
      ],
      "text/plain": [
       "⎛⎡cos(θ)   0  sin(θ)⎤  ⎡1  0  0⎤  ⎡1  0  0⎤   ⎞\n",
       "⎜⎢                  ⎥  ⎢       ⎥  ⎢       ⎥   ⎟\n",
       "⎜⎢   0     1    0   ⎥, ⎢0  1  0⎥, ⎢0  1  0⎥, 1⎟\n",
       "⎜⎢                  ⎥  ⎢       ⎥  ⎢       ⎥   ⎟\n",
       "⎝⎣-sin(θ)  0  cos(θ)⎦  ⎣0  0  1⎦  ⎣0  0  1⎦   ⎠"
      ]
     },
     "execution_count": 13,
     "metadata": {},
     "output_type": "execute_result"
    }
   ],
   "source": [
    "Ry(t), simplify(Ry(t)*Ry(t).T), simplify(Ry(t).T*Ry(t)), simplify(det(Ry(t)))"
   ]
  },
  {
   "cell_type": "markdown",
   "metadata": {},
   "source": [
    "### Rotações em torno de $x$\n",
    "Já para rotações do referencial em torno da direção $x$ positiva, temos as seguintes relações entre os versores (veja a figura abaixo):\n",
    "\\begin{align}\n",
    "& \\hat{i'} = \\hat{i}, \\\\\n",
    "& \\hat{j'} = \\hat{j}\\cos\\theta+\\hat{k}\\sin\\theta, \\\\  \n",
    "& \\hat{k'} = -\\hat{j}\\sin\\theta+\\hat{k}\\cos\\theta.\n",
    "\\end{align}\n",
    "\n",
    "<img src=\"fig_04_O3_Rx.png\" width=\"250\">\n",
    "\n",
    "Com isso, vem que\n",
    "\\begin{align}\n",
    "\\vec{r'} & = x'\\hat{i'} + y'(\\hat{j}\\cos\\theta+\\hat{k}\\sin\\theta) +  z'(-\\hat{j}\\sin\\theta+\\hat{k}\\cos\\theta) \\\\\n",
    "& = x'\\hat{i} + (y'\\cos\\theta-z'\\sin\\theta)\\hat{j} + (y'\\sin\\theta+z'\\cos\\theta)\\hat{k} =\\vec{r}.\n",
    "\\end{align}\n",
    "Na forma matricial, esta equação fica escrita como segue:\n",
    "\\begin{equation}\n",
    "\\begin{bmatrix} x \\\\ y \\\\ z \\end{bmatrix}=\\begin{bmatrix} 1 & 0 & 0 \\\\ 0 & \\cos\\theta & -\\sin\\theta \\\\ 0 & \\sin\\theta & \\cos\\theta \\end{bmatrix}\\begin{bmatrix} x' \\\\ y' \\\\ z' \\end{bmatrix}\\therefore \\vec{r}=R_{x}(\\theta)\\vec{r'}.\n",
    "\\end{equation}"
   ]
  },
  {
   "cell_type": "code",
   "execution_count": 14,
   "metadata": {},
   "outputs": [],
   "source": [
    "def Rx(t):\n",
    "    return Matrix([[1,0,0],[0,cos(t),-sin(t)],[0,sin(t),cos(t)]])"
   ]
  },
  {
   "cell_type": "code",
   "execution_count": 15,
   "metadata": {},
   "outputs": [
    {
     "data": {
      "image/png": "[encoded data removed]",
      "text/latex": [
       "$$\\left ( \\left[\\begin{matrix}1 & 0 & 0\\\\0 & \\cos{\\left (\\theta \\right )} & - \\sin{\\left (\\theta \\right )}\\\\0 & \\sin{\\left (\\theta \\right )} & \\cos{\\left (\\theta \\right )}\\end{matrix}\\right], \\quad \\left[\\begin{matrix}1 & 0 & 0\\\\0 & 1 & 0\\\\0 & 0 & 1\\end{matrix}\\right], \\quad \\left[\\begin{matrix}1 & 0 & 0\\\\0 & 1 & 0\\\\0 & 0 & 1\\end{matrix}\\right], \\quad 1\\right )$$"
      ],
      "text/plain": [
       "⎛⎡1    0        0   ⎤  ⎡1  0  0⎤  ⎡1  0  0⎤   ⎞\n",
       "⎜⎢                  ⎥  ⎢       ⎥  ⎢       ⎥   ⎟\n",
       "⎜⎢0  cos(θ)  -sin(θ)⎥, ⎢0  1  0⎥, ⎢0  1  0⎥, 1⎟\n",
       "⎜⎢                  ⎥  ⎢       ⎥  ⎢       ⎥   ⎟\n",
       "⎝⎣0  sin(θ)  cos(θ) ⎦  ⎣0  0  1⎦  ⎣0  0  1⎦   ⎠"
      ]
     },
     "execution_count": 15,
     "metadata": {},
     "output_type": "execute_result"
    }
   ],
   "source": [
    "Rx(t), simplify(Rx(t)*Rx(t).T), simplify(Rx(t).T*Rx(t)),simplify(det(Rx(t)))"
   ]
  },
  {
   "cell_type": "markdown",
   "metadata": {},
   "source": [
    "### Rotação geral em $\\mathbb{R}^{3}$\n",
    "Podemos escrever a matriz de rotação em $\\mathbb{R}^{3}$ de forma geral e independente de referencial como segue. Como ilustrado na figura abaixo, para fazer uma rotação por um ângulo $\\alpha$ em torno da direção $\\hat{n}$ escolhemos $\\hat{e}_{3}=\\hat{n}$ e colocamos o vetor $\\vec{r}$ no plano gerado por $\\hat{e}_{1}$ e $\\hat{e}_{3}$.\n",
    "\n",
    "<img src=\"fig_rotacao_R3.png\" width=\"250\">\n",
    "\n",
    "As componentes do vetor girado $\\vec{r'}$ na base $\\{\\hat{e}_{1},\\hat{e}_{2},\\hat{e}_{3}\\}$ podem ser escritas como (usamos $r'=r$):\n",
    "\\begin{align}\n",
    "& x'_{1} = r\\sin\\beta\\cos\\alpha, \\\\\n",
    "& x'_{2} = r\\sin\\beta\\sin\\alpha, \\\\\n",
    "& x'_{3} = r\\cos\\beta.\n",
    "\\end{align}"
   ]
  },
  {
   "cell_type": "markdown",
   "metadata": {},
   "source": [
    "Seguindo escreveremos os versores da base em termos de $\\hat{n}$ e de $\\vec{r}$. Claro, $\\hat{e}_{3}=\\hat{n}$. Além disso\n",
    "\\begin{align}\n",
    "& \\hat{e}_{2}=\\frac{\\hat{e}_{3}\\mathrm{x}\\vec{r}}{||\\hat{e}_{3}\\mathrm{x}\\vec{r}||}=\\frac{\\hat{n}\\mathrm{x}\\vec{r}}{r\\sin\\beta}, \\\\\n",
    "& \\hat{e}_{1}=\\hat{e}_{2}\\mathrm{x}\\hat{e}_{3} = \\frac{(\\hat{n}\\mathrm{x}\\vec{r})\\mathrm{x}\\hat{n}}{r\\sin\\beta}.\n",
    "\\end{align}\n",
    "\n",
    "Pode-se verificar que $(\\hat{n}\\mathrm{x}\\vec{r})\\mathrm{x}\\hat{n}=\\hat{n}\\mathrm{x}(\\vec{r}\\mathrm{x}\\hat{n}) = \\vec{r} - (\\vec{r}\\cdot\\hat{n})\\hat{n}.$ Com isso vem que\n",
    "\\begin{align}\n",
    "\\vec{r'} & = x'_{1}\\hat{e}_{1} + x'_{2}\\hat{e}_{2} + x'_{3}\\hat{e}_{3} \\\\\n",
    "& = r\\sin\\beta\\cos\\alpha\\frac{ \\vec{r} - (\\vec{r}\\cdot\\hat{n})\\hat{n}}{r\\sin\\beta} + r\\sin\\beta\\sin\\alpha\\frac{\\hat{n}\\mathrm{x}\\vec{r}}{r\\sin\\beta} + r\\cos\\beta\\hat{n} \\\\\n",
    "& = \\cos\\alpha(\\vec{r} - (\\vec{r}\\cdot\\hat{n})\\hat{n}) + \\sin\\alpha\\hat{n}\\mathrm{x}\\vec{r} +(\\vec{r}\\cdot\\hat{n})\\hat{n} \\\\\n",
    "& = \\left(\\cos\\alpha\\mathbb{I}_{3} + (1-\\cos\\alpha)\\hat{n}\\hat{n}^{T} + \\sin\\alpha\\hat{n}\\mathrm{x}\\right)\\vec{r} \\\\\n",
    "& =: R_{\\hat{n}}(\\alpha)\\vec{r}.\n",
    "\\end{align}\n",
    "Ademais, para $\\vec{r}=\\begin{bmatrix}r_{1}&r_{2}&r_{3}\\end{bmatrix}^{T}$, podemos usar a representação matricial $$\\hat{n}\\text{x}=\\begin{bmatrix}0&-n_{3}&n_{2} \\\\ n_{3}&0&-n_{1} \\\\ -n_{2}&n_{1}&0\\end{bmatrix}.$$\n",
    "Ou seja, uma matriz de rotação por um ângulo $\\alpha$ em torno de uma diração qualquer $\\hat{n}$ pode ser escrita como\n",
    "\\begin{equation}\n",
    "R_{\\hat{n}}(\\alpha)=\\begin{bmatrix} \n",
    "\\cos\\alpha+n_{1}^{2}(1-\\cos\\alpha) & -n_{3}\\sin\\alpha+n_{1}n_{2}(1-\\cos\\alpha) & n_{2}\\sin\\alpha +n_{1}n_{2}(1-\\cos\\alpha)\\\\\n",
    "n_{3}\\sin\\alpha+n_{2}n_{1}(1-\\cos\\alpha) & \\cos\\alpha+n_{2}^{2}(1-\\cos\\alpha) & -n_{1}\\sin\\alpha+n_{2}n_{3}(1-\\cos\\alpha)\\\\\n",
    "-n_{2}\\sin\\alpha+n_{3}n_{1}(1-\\cos\\alpha) & n_{1}\\sin\\alpha+n_{3}n_{2}(1-\\cos\\alpha) & \\cos\\alpha+n_{3}^{2}(1-\\cos\\alpha) \\end{bmatrix}.\n",
    "\\end{equation}"
   ]
  },
  {
   "cell_type": "markdown",
   "metadata": {},
   "source": [
    "### Rotações de Euler\n",
    "Vimos que qualquer elemento de $U(n)$ pode ser decomposto em termos de elementos de $U(2)$. O mesmo vale para $SO(n)$ e $SO(2)$. A decomposição via rotações de Euler é frequentemente usada. Nessa decomposição, fazemos:\n",
    "* Uma rotação por um ângulo $\\phi$ em torno do eixo $z$, que será implementada através da matriz de rotação $R_{z}(\\phi)$.\n",
    "* Uma rotação por um ângulo $\\theta\\in[0,\\pi]$ em torno de $x'$, que é implementada por $R_{x'}(\\theta)$.\n",
    "* Uma rotação por um ângulo $\\psi$ em torno do eixo $z'$, que implementamos usando $R_{z'}(\\psi)$.\n",
    "Essa sequência está exemplificada na figura abaixo.\n",
    "<img src=\"fig_04_euler.png\" width=\"600\">\n",
    "\n",
    "A matriz de rotação obtida via essa composição está mostrada abaixo."
   ]
  },
  {
   "cell_type": "code",
   "execution_count": 16,
   "metadata": {},
   "outputs": [
    {
     "data": {
      "image/png": "[encoded data removed]",
      "text/latex": [
       "$$\\left[\\begin{matrix}- \\sin{\\left (\\phi \\right )} \\sin{\\left (\\psi \\right )} \\cos{\\left (\\theta \\right )} + \\cos{\\left (\\phi \\right )} \\cos{\\left (\\psi \\right )} & - \\sin{\\left (\\phi \\right )} \\cos{\\left (\\psi \\right )} - \\sin{\\left (\\psi \\right )} \\cos{\\left (\\phi \\right )} \\cos{\\left (\\theta \\right )} & \\sin{\\left (\\psi \\right )} \\sin{\\left (\\theta \\right )}\\\\\\sin{\\left (\\phi \\right )} \\cos{\\left (\\psi \\right )} \\cos{\\left (\\theta \\right )} + \\sin{\\left (\\psi \\right )} \\cos{\\left (\\phi \\right )} & - \\sin{\\left (\\phi \\right )} \\sin{\\left (\\psi \\right )} + \\cos{\\left (\\phi \\right )} \\cos{\\left (\\psi \\right )} \\cos{\\left (\\theta \\right )} & - \\sin{\\left (\\theta \\right )} \\cos{\\left (\\psi \\right )}\\\\\\sin{\\left (\\phi \\right )} \\sin{\\left (\\theta \\right )} & \\sin{\\left (\\theta \\right )} \\cos{\\left (\\phi \\right )} & \\cos{\\left (\\theta \\right )}\\end{matrix}\\right]$$"
      ],
      "text/plain": [
       "⎡-sin(φ)⋅sin(ψ)⋅cos(θ) + cos(φ)⋅cos(ψ)  -sin(φ)⋅cos(ψ) - sin(ψ)⋅cos(φ)⋅cos(θ) \n",
       "⎢                                                                             \n",
       "⎢sin(φ)⋅cos(ψ)⋅cos(θ) + sin(ψ)⋅cos(φ)   -sin(φ)⋅sin(ψ) + cos(φ)⋅cos(ψ)⋅cos(θ) \n",
       "⎢                                                                             \n",
       "⎣            sin(φ)⋅sin(θ)                          sin(θ)⋅cos(φ)             \n",
       "\n",
       " sin(ψ)⋅sin(θ) ⎤\n",
       "               ⎥\n",
       " -sin(θ)⋅cos(ψ)⎥\n",
       "               ⎥\n",
       "     cos(θ)    ⎦"
      ]
     },
     "execution_count": 16,
     "metadata": {},
     "output_type": "execute_result"
    }
   ],
   "source": [
    "f, p = symbols(\"phi psi\"); Re = Rz(p)*Rx(t)*Rz(f); simplify(Re)"
   ]
  },
  {
   "cell_type": "markdown",
   "metadata": {},
   "source": [
    "## Por quê $SO(3)$ é utilizado para descrever rotações \"Físicas\"?\n",
    "Notemos que $-\\mathbb{I}_{3}\\in O(3)$ pois $(-\\mathbb{I}_{3})(-\\mathbb{I}_{3})^{T}=(-\\mathbb{I}_{3})^{T}(-\\mathbb{I}_{3})=\\mathbb{I}_{3}$ e $\\det(-\\mathbb{I}_{3})=-1$. Mas \n",
    "\\begin{equation}\n",
    "-\\mathbb{I}_{3}\\begin{bmatrix}\\hat{e}_{1} \\\\ \\hat{e}_{2} \\\\ \\hat{e}_{3}\\end{bmatrix}=\\begin{bmatrix}-\\hat{e}_{1} \\\\ -\\hat{e}_{2} \\\\ -\\hat{e}_{3}\\end{bmatrix}.\n",
    "\\end{equation}\n",
    "Ou seja, $-\\mathbb{I}_{3}$ é um operador de inversão espacial. Agora, temos o produto vetorial \n",
    "\\begin{equation}\n",
    "\\hat{e}_{j}\\mathrm{x}\\hat{e}_{k}=\\epsilon_{jkl}\\hat{e}_{l},\n",
    "\\end{equation}\n",
    "o que caracteriza um __sistema de coordenadas destrógiro__ (SCD). Já para os versores depois da inversão espacial, teremos\n",
    "\\begin{equation}\n",
    "(-\\hat{e}_{j})\\mathrm{x}(-\\hat{e}_{k})=-\\epsilon_{jkl}(-\\hat{e}_{l}),\n",
    "\\end{equation}\n",
    "o que caracteriza um __sistema de coordenadas levógiro__. Então, uma maneira de evitar sair do SCD por rotações é usar matrizes com $\\det = 1$, as matrizes de $SO(3)$."
   ]
  },
  {
   "cell_type": "markdown",
   "metadata": {},
   "source": [
    "## Correspondência homomórfica 2 pra 1 entre $SU(2)$ e $SO(3)$ \n",
    "Qualquer matriz complexa $2\\mathrm{x}2$, Hermitiana e de traço nulo pode ser escrita em termos das matrizes de Pauli:\n",
    "\\begin{equation}\n",
    "A=\\begin{bmatrix} z & x-iy \\\\ x+iy & -z \\end{bmatrix} = x\\sigma_{x}+y\\sigma_{y}+z\\sigma_{z}.\n",
    "\\end{equation}\n",
    "Considera $U\\in SU(2)$ e faz a transformação de similaridade: $$A' = UAU^{\\dagger}.$$ Como $A'^{\\dagger}=(UAU^{\\dagger})^{\\dagger}=UA^{\\dagger}U^{\\dagger}=UAU^{\\dagger}=A'$ e $Tr(A')=Tr(UA^{\\dagger}U^{\\dagger})=Tr(A)=0$, podemos escrever\n",
    "\\begin{equation}\n",
    "A'=\\begin{bmatrix} z' & x'-iy' \\\\ x'+iy' & -z' \\end{bmatrix} = x'\\sigma_{x}+y'\\sigma_{y}+z'\\sigma_{z}.\n",
    "\\end{equation}\n",
    "Como $\\det(A')=\\det(UAU^{\\dagger})=\\det(A)$, temos uma indicação da correspondência entre $SU(2)$ e $SO(3)$ por\n",
    "\\begin{align}\n",
    "& \\det(A)=-z^{2}-(x-iy)(x+iy) = -z^{2}-x^{2}-y^{2}=-r^{2}, \\\\\n",
    "& \\det(A')=-z'^{2}-(x'-iy')(x'+iy') = -z'^{2}-x'^{2}-y'^{2}=-r'^{2}.\n",
    "\\end{align}"
   ]
  },
  {
   "cell_type": "markdown",
   "metadata": {},
   "source": [
    "Pode-se verificar que um elemento qualquer de $U\\in SU(2)$ pode ser escrito como\n",
    "\\begin{equation}\n",
    "U=\\begin{bmatrix} e^{i\\xi}\\cos\\eta & e^{i\\zeta}\\sin\\eta  \\\\ -e^{-i\\zeta}\\sin\\eta & e^{-i\\xi}\\cos\\eta \\end{bmatrix}=:U(\\xi,\\eta,\\zeta),\n",
    "\\end{equation}\n",
    "com $\\zeta,\\xi,\\eta\\in\\mathbb{R}$.\n",
    "\n",
    "* Continuando, vamos considerar $U(\\xi,\\eta=0,\\zeta)=\\begin{bmatrix} e^{i\\xi} & 0  \\\\ 0 & e^{-i\\xi} \\end{bmatrix}=:U_{3}=U_{3}(\\xi)$."
   ]
  },
  {
   "cell_type": "code",
   "execution_count": 18,
   "metadata": {},
   "outputs": [
    {
     "data": {
      "image/png": "[encoded data removed]",
      "text/latex": [
       "$$\\left ( \\left[\\begin{matrix}z & x - 1.0 i y\\\\x + 1.0 i y & - z\\end{matrix}\\right], \\quad \\left[\\begin{matrix}e^{1.0 i \\xi} & 0\\\\0 & e^{- 1.0 i \\xi}\\end{matrix}\\right], \\quad \\left[\\begin{matrix}z & \\left(x - 1.0 i y\\right) e^{2.0 i \\xi}\\\\\\left(x + 1.0 i y\\right) e^{- 2.0 i \\xi} & - z\\end{matrix}\\right]\\right )$$"
      ],
      "text/plain": [
       "⎛                            ⎡ 1.0⋅ⅈ⋅ξ           ⎤  ⎡                         \n",
       "⎜⎡     z       x - 1.0⋅ⅈ⋅y⎤  ⎢ℯ             0    ⎥  ⎢           z             \n",
       "⎜⎢                        ⎥, ⎢                   ⎥, ⎢                         \n",
       "⎜⎣x + 1.0⋅ⅈ⋅y      -z     ⎦  ⎢           -1.0⋅ⅈ⋅ξ⎥  ⎢               -2.0⋅ⅈ⋅ξ  \n",
       "⎝                            ⎣   0      ℯ        ⎦  ⎣(x + 1.0⋅ⅈ⋅y)⋅ℯ          \n",
       "\n",
       "               2.0⋅ⅈ⋅ξ⎤⎞\n",
       "(x - 1.0⋅ⅈ⋅y)⋅ℯ       ⎥⎟\n",
       "                      ⎥⎟\n",
       "                      ⎥⎟\n",
       "          -z          ⎦⎠"
      ]
     },
     "execution_count": 18,
     "metadata": {},
     "output_type": "execute_result"
    }
   ],
   "source": [
    "c, e, z = symbols(\"xi eta zeta\",real=True); U3 = Matrix([[exp(1j*c),0],[0,exp(-1j*c)]])\n",
    "x, y, z = symbols(\"x y z\"); A = Matrix([[z,x-1j*y],[x+1j*y,-z]])\n",
    "A, U3, U3*A*Dagger(U3) # = A'"
   ]
  },
  {
   "cell_type": "markdown",
   "metadata": {},
   "source": [
    "Ou seja, pode-se verificar que\n",
    "\\begin{align}\n",
    "A'&=U_{3}AU_{3}^{\\dagger} \\\\ \n",
    "& = (x\\cos(2\\xi)+y\\sin(2\\xi))\\sigma_{x} + (-x\\sin(2\\xi)+y\\cos(2\\xi))\\sigma_{y} + z\\sigma_{z} \\\\\n",
    "& = x'\\sigma_{x} + y'\\sigma_{y} + z'\\sigma_{z}.\n",
    "\\end{align}\n",
    "\n",
    "Essa mesma relação é obtida usando\n",
    "\\begin{equation}\n",
    "\\vec{r'} = \\begin{bmatrix}x'\\\\y'\\\\z'\\end{bmatrix} = \\begin{bmatrix}\\cos(2\\xi) & \\sin(2\\xi) & 0 \\\\ -\\sin(2\\xi) & \\cos(2\\xi) & 0 \\\\ 0 &  0 & 1\\end{bmatrix}\\begin{bmatrix}x\\\\y\\\\z\\end{bmatrix} = R_{z}(-2\\xi)^{T}\\vec{r}.\n",
    "\\end{equation}\n",
    "Portanto $U_{3}\\in SU(2)$ é equivalente a $R_{z}\\in SO_{3}$.\n",
    "\n",
    "* Seguindo, consideremos $U(\\xi=0,\\eta,\\zeta=0)=\\begin{bmatrix}\\cos\\eta & \\sin\\eta \\\\ -\\sin\\eta & \\cos\\eta \\end{bmatrix}=:U_{2}$."
   ]
  },
  {
   "cell_type": "code",
   "execution_count": 19,
   "metadata": {},
   "outputs": [
    {
     "data": {
      "image/png": "[encoded data removed]",
      "text/latex": [
       "$$\\left ( \\left[\\begin{matrix}\\cos{\\left (\\eta \\right )} & \\sin{\\left (\\eta \\right )}\\\\- \\sin{\\left (\\eta \\right )} & \\cos{\\left (\\eta \\right )}\\end{matrix}\\right], \\quad \\left[\\begin{matrix}x \\sin{\\left (2 \\eta \\right )} + z \\cos{\\left (2 \\eta \\right )} & 1.0 x \\cos{\\left (2 \\eta \\right )} - 1.0 i y - 1.0 z \\sin{\\left (2 \\eta \\right )}\\\\1.0 x \\cos{\\left (2 \\eta \\right )} + 1.0 i y - 1.0 z \\sin{\\left (2 \\eta \\right )} & - x \\sin{\\left (2 \\eta \\right )} - z \\cos{\\left (2 \\eta \\right )}\\end{matrix}\\right]\\right )$$"
      ],
      "text/plain": [
       "⎛⎡cos(η)   sin(η)⎤  ⎡         x⋅sin(2⋅η) + z⋅cos(2⋅η)           1.0⋅x⋅cos(2⋅η)\n",
       "⎜⎢               ⎥, ⎢                                                         \n",
       "⎝⎣-sin(η)  cos(η)⎦  ⎣1.0⋅x⋅cos(2⋅η) + 1.0⋅ⅈ⋅y - 1.0⋅z⋅sin(2⋅η)          -x⋅sin\n",
       "\n",
       " - 1.0⋅ⅈ⋅y - 1.0⋅z⋅sin(2⋅η)⎤⎞\n",
       "                           ⎥⎟\n",
       "(2⋅η) - z⋅cos(2⋅η)         ⎦⎠"
      ]
     },
     "execution_count": 19,
     "metadata": {},
     "output_type": "execute_result"
    }
   ],
   "source": [
    "U2 = Matrix([[cos(e),sin(e)],[-sin(e),cos(e)]]); U2, simplify(U2*A*Dagger(U2)) # = A'"
   ]
  },
  {
   "cell_type": "markdown",
   "metadata": {},
   "source": [
    "Por conseguinte\n",
    "\\begin{align}\n",
    "A'&=U_{2}AU_{2}^{\\dagger} \\\\ \n",
    "& = (x\\cos(2\\eta)-z\\sin(2\\eta))\\sigma_{x} + y\\sigma_{y} + (x\\sin(2\\eta)+z\\cos(2\\eta))\\sigma_{z} \\\\\n",
    "& = x'\\sigma_{x} + y'\\sigma_{y} + z'\\sigma_{z}.\n",
    "\\end{align}\n",
    "Essa transformação entre $\\vec{r'}$ e $\\vec{r}$ é a mesma dada pela matriz de rotação:\n",
    "\\begin{equation}\n",
    "R_{y}(-2\\eta)^{T} = \\begin{bmatrix}\\cos(2\\eta) & 0 & -\\sin(2\\eta) \\\\ 0 & 1 & 0 \\\\ \\sin(2\\eta) & 0 & \\cos(2\\eta)\\end{bmatrix}.\n",
    "\\end{equation}\n",
    "Ou seja, $U_{2}\\in SU(2)$ é equivalente a $R_{y}\\in SO_{3}$.\n",
    "\n",
    "* Por fim, consideremos $U(\\xi=0,\\eta,\\zeta=\\pi/2)=\\begin{bmatrix} \\cos\\eta & i\\sin\\eta \\\\ i\\sin\\eta & \\cos\\eta\\end{bmatrix}=: U_{1}$."
   ]
  },
  {
   "cell_type": "code",
   "execution_count": 20,
   "metadata": {},
   "outputs": [
    {
     "data": {
      "image/png": "[encoded data removed]",
      "text/latex": [
       "$$\\left ( \\left[\\begin{matrix}\\cos{\\left (\\eta \\right )} & 1.0 i \\sin{\\left (\\eta \\right )}\\\\1.0 i \\sin{\\left (\\eta \\right )} & \\cos{\\left (\\eta \\right )}\\end{matrix}\\right], \\quad \\left[\\begin{matrix}- 1.0 y \\sin{\\left (2 \\eta \\right )} + 1.0 z \\cos{\\left (2 \\eta \\right )} & 1.0 x - 1.0 i y \\cos{\\left (2 \\eta \\right )} - 1.0 i z \\sin{\\left (2 \\eta \\right )}\\\\1.0 x + 1.0 i y \\cos{\\left (2 \\eta \\right )} + 1.0 i z \\sin{\\left (2 \\eta \\right )} & 1.0 y \\sin{\\left (2 \\eta \\right )} - 1.0 z \\cos{\\left (2 \\eta \\right )}\\end{matrix}\\right]\\right )$$"
      ],
      "text/plain": [
       "⎛⎡   cos(η)     1.0⋅ⅈ⋅sin(η)⎤  ⎡     -1.0⋅y⋅sin(2⋅η) + 1.0⋅z⋅cos(2⋅η)        1\n",
       "⎜⎢                          ⎥, ⎢                                              \n",
       "⎝⎣1.0⋅ⅈ⋅sin(η)     cos(η)   ⎦  ⎣1.0⋅x + 1.0⋅ⅈ⋅y⋅cos(2⋅η) + 1.0⋅ⅈ⋅z⋅sin(2⋅η)   \n",
       "\n",
       ".0⋅x - 1.0⋅ⅈ⋅y⋅cos(2⋅η) - 1.0⋅ⅈ⋅z⋅sin(2⋅η)⎤⎞\n",
       "                                          ⎥⎟\n",
       "     1.0⋅y⋅sin(2⋅η) - 1.0⋅z⋅cos(2⋅η)      ⎦⎠"
      ]
     },
     "execution_count": 20,
     "metadata": {},
     "output_type": "execute_result"
    }
   ],
   "source": [
    "U1 = Matrix([[cos(e),1j*sin(e)],[1j*sin(e),cos(e)]]); U1, simplify(U1*A*Dagger(U1)) # = A'"
   ]
  },
  {
   "cell_type": "markdown",
   "metadata": {},
   "source": [
    "Assim\n",
    "\\begin{align}\n",
    "A' & = U_{1}AU_{1}^{\\dagger} \\\\ \n",
    "& = x\\sigma_{x} + (y\\cos(2\\eta)+z\\sin(2\\eta))\\sigma_{y} + (-y\\sin(2\\eta)+z\\cos(2\\eta))\\sigma_{z} \\\\\n",
    "& = x'\\sigma_{x} + y'\\sigma_{y} + z'\\sigma_{z}.\n",
    "\\end{align}\n",
    "Essa transformação entre $\\vec{r'}$ e $\\vec{r}$ é a mesma dada pela matriz de rotação:\n",
    "\\begin{equation}\n",
    "R_{x}(-2\\eta)^{T} = \\begin{bmatrix} 1 & 0 & 0 \\\\ 0 & \\cos(2\\eta) & \\sin(2\\eta) \\\\ 0 & -\\sin(2\\eta) & \\cos(2\\eta) \\end{bmatrix}.\n",
    "\\end{equation}\n",
    "Ou seja, $U_{1}\\in SU(2)$ é equivalente a $R_{x}\\in SO_{3}$."
   ]
  },
  {
   "cell_type": "markdown",
   "metadata": {},
   "source": [
    "* Homomorfismo\n",
    "Usamos $U_{3}$ e $R_{z}$. Para $n\\in\\mathbb{Z}$, temos que\n",
    "\\begin{align}\n",
    "& \\cos(2\\xi+n2\\pi)=\\cos(2\\xi)\\cos(n2\\pi)-\\sin(2\\xi)\\sin(n2\\pi)=\\cos(2\\xi), \\\\\n",
    "& \\sin(2\\xi+n2\\pi)=\\sin(2\\xi)\\cos(n2\\pi)+\\cos(2\\xi)\\sin(n2\\pi)=\\sin(2\\xi), \\\\\n",
    "& \\cos((2\\xi+n2\\pi)/2)=\\cos(\\xi)\\cos(n\\pi)-\\sin(\\xi)\\sin(n\\pi)=(-1)^{n}\\cos(\\xi), \\\\\n",
    "& \\sin((2\\xi+n2\\pi)/2)=\\sin(\\xi)\\cos(n\\pi)+\\cos(\\xi)\\sin(n\\pi)=(-1)^{n}\\sin(\\xi).\n",
    "\\end{align}\n",
    "Com isso vemos que $$R_{z}(2\\xi+n2\\pi)=R_{z}(2\\xi)$$ e que $$U_{3}((2\\xi+n2\\pi)/2)=(-1)^{n}U_{3}(\\xi).$$ Vemos assim que um mesmo elemento de $SO(3)$ é mapeado em dois elementos de $SU(2)$ ($\\pm U_{3}$). Portanto a correspondência $$U_{2}\\mapsto O_{3} \\text{ é homomórfica 2 pra 1.}$$"
   ]
  },
  {
   "cell_type": "markdown",
   "metadata": {},
   "source": [
    "## Grupo simplético\n",
    "Matrizes simpléticas são matrizes $A$ de dimensão $2n\\mathrm{x}2n$ com determinante diferente de zero que satisfazem a igualdade\n",
    "\\begin{equation}\n",
    "A^{T}\\Omega A=\\Omega \\text{ para } \\Omega=\\begin{bmatrix} \\mathbb{O}_{n} & \\mathbb{I}_{n} \\\\ -\\mathbb{I}_{n} & \\mathbb{O}_{n} \\end{bmatrix}.\n",
    "\\end{equation}\n",
    "Se $A$ e $B$ são matrizes simpléticas, então\n",
    "\\begin{equation}\n",
    "(AB)^{T}\\Omega AB=B^{T}A^{T}\\Omega AB=B^{T}\\Omega B=\\Omega.\n",
    "\\end{equation}\n",
    "Por conseguinte, matrizes simpléticas formam um grupo sob multiplicação matricial chamado de grupo simplético e denotado por $$Sp(2n,\\mathbb{F}),$$ com $\\mathbb{F}$ sendo o campo escalar sobre o qual as matrizes simpléticas estão definidas. Alguns exemplos de matrizes simpléticas são:\n",
    "\\begin{equation}\n",
    "\\begin{bmatrix} 1&1\\\\0&1 \\end{bmatrix}\\in Sp(2,\\mathbb{R})\n",
    " \\text{, }  \\begin{bmatrix} \\cosh\\theta & \\sinh\\theta & 0 & \\sinh\\theta \\\\ \\sinh\\theta & \\cosh\\theta & \\sinh\\theta & 0 \\\\ 0 & 0 & \\cosh\\theta & -\\sinh\\theta \\\\ 0 & 0 & -\\sinh\\theta & \\cosh\\theta \\end{bmatrix}\\in Sp(4,\\mathbb{R}).\n",
    "\\end{equation}\n",
    "A verificação de que essas matrizes são de fato simpléticas é feita com a ajuda do código abaixo."
   ]
  },
  {
   "cell_type": "code",
   "execution_count": 21,
   "metadata": {},
   "outputs": [],
   "source": [
    "def Omeg(n): # retorna a matriz Omega definida acima\n",
    "    O = zeros(2*n,2*n); O[0:n,n:2*n] = id(n); O[n:2*n,0:n] = -id(n)\n",
    "    return O"
   ]
  },
  {
   "cell_type": "code",
   "execution_count": 22,
   "metadata": {},
   "outputs": [
    {
     "data": {
      "image/png": "[encoded data removed]",
      "text/latex": [
       "$$\\left ( \\left[\\begin{matrix}0 & 1\\\\-1 & 0\\end{matrix}\\right], \\quad \\left[\\begin{matrix}1 & 1\\\\0 & 1\\end{matrix}\\right], \\quad \\left[\\begin{matrix}0 & 1\\\\-1 & 0\\end{matrix}\\right]\\right )$$"
      ],
      "text/plain": [
       "⎛⎡0   1⎤  ⎡1  1⎤  ⎡0   1⎤⎞\n",
       "⎜⎢     ⎥, ⎢    ⎥, ⎢     ⎥⎟\n",
       "⎝⎣-1  0⎦  ⎣0  1⎦  ⎣-1  0⎦⎠"
      ]
     },
     "execution_count": 22,
     "metadata": {},
     "output_type": "execute_result"
    }
   ],
   "source": [
    "A1 = Matrix([[1,1],[0,1]]); Omeg(1), A1, A1.T*Omeg(1)*A1"
   ]
  },
  {
   "cell_type": "code",
   "execution_count": 16,
   "metadata": {},
   "outputs": [
    {
     "data": {
      "image/png": "[encoded data removed]",
      "text/latex": [
       "$$\\left ( \\left[\\begin{matrix}0 & 0 & 1 & 0\\\\0 & 0 & 0 & 1\\\\-1 & 0 & 0 & 0\\\\0 & -1 & 0 & 0\\end{matrix}\\right], \\quad \\left[\\begin{matrix}\\cosh{\\left (\\theta \\right )} & \\sinh{\\left (\\theta \\right )} & 0 & \\sinh{\\left (\\theta \\right )}\\\\\\sinh{\\left (\\theta \\right )} & \\cosh{\\left (\\theta \\right )} & \\sinh{\\left (\\theta \\right )} & 0\\\\0 & 0 & \\cosh{\\left (\\theta \\right )} & - \\sinh{\\left (\\theta \\right )}\\\\0 & 0 & - \\sinh{\\left (\\theta \\right )} & \\cosh{\\left (\\theta \\right )}\\end{matrix}\\right], \\quad \\left[\\begin{matrix}0 & 0 & 1 & 0\\\\0 & 0 & 0 & 1\\\\-1 & 0 & 0 & 0\\\\0 & -1 & 0 & 0\\end{matrix}\\right]\\right )$$"
      ],
      "text/plain": [
       "⎛⎡0   0   1  0⎤  ⎡cosh(θ)  sinh(θ)     0      sinh(θ) ⎤  ⎡0   0   1  0⎤⎞\n",
       "⎜⎢            ⎥  ⎢                                    ⎥  ⎢            ⎥⎟\n",
       "⎜⎢0   0   0  1⎥  ⎢sinh(θ)  cosh(θ)  sinh(θ)      0    ⎥  ⎢0   0   0  1⎥⎟\n",
       "⎜⎢            ⎥, ⎢                                    ⎥, ⎢            ⎥⎟\n",
       "⎜⎢-1  0   0  0⎥  ⎢   0        0     cosh(θ)   -sinh(θ)⎥  ⎢-1  0   0  0⎥⎟\n",
       "⎜⎢            ⎥  ⎢                                    ⎥  ⎢            ⎥⎟\n",
       "⎝⎣0   -1  0  0⎦  ⎣   0        0     -sinh(θ)  cosh(θ) ⎦  ⎣0   -1  0  0⎦⎠"
      ]
     },
     "execution_count": 16,
     "metadata": {},
     "output_type": "execute_result"
    }
   ],
   "source": [
    "t = symbols(\"theta\")\n",
    "A2 = Matrix([[cosh(t),sinh(t),0,sinh(t)],[sinh(t),cosh(t),sinh(t),0],\n",
    "             [0,0,cosh(t),-sinh(t)],[0,0,-sinh(t),cosh(t)]])\n",
    "Omeg(2), A2, simplify(A2.T*Omeg(2)*A2)"
   ]
  },
  {
   "cell_type": "markdown",
   "metadata": {},
   "source": [
    "---\n",
    "# Exercícios\n",
    "\n",
    "1. Mostre que uma matriz $n\\mathrm{x}n$ unitária, sobre o campo escalar $\\mathbb{C}$, é determinanda por $n^{2}-1$ parâmetros reais independentes.\n",
    "\n",
    "1. Considere a Eq. $(\\star\\star)$ e verifique que $d''=\\langle C_{1}^{U}|C_{2}^{U}\\rangle/s'$ e $g''=\\langle C_{1}^{U}|C_{3}^{U}\\rangle/s'$, com $\\{|C_{j}^{U}\\rangle\\}_{j=1}^{3}$ sendo os vetores coluna de $U$ da Eq. ($\\star$).\n",
    "\n",
    "1. Forneça um subgrupo de $U(3)$ que é isomorficamente mapeável em $U(2)$.\n",
    "\n",
    "1. Mostre que uma matriz $n\\mathrm{x}n$ ortogonal possui $n(n-1)/2$ parâmetros reais independentes.\n",
    "\n",
    "1. No contexto das rotações em $\\mathbb{R}^{n}$, faça as manipulações necessárias para mostrar que as matrizes de rotação em $\\mathbb{R}^{n}$ devem satisfazer a condição: $A^{T}A=\\mathbb{I}_{n}.$\n",
    "\n",
    "1. Verifique que $(\\hat{n}\\mathrm{x}\\vec{r})\\mathrm{x}\\hat{n}=\\hat{n}\\mathrm{x}(\\vec{r}\\mathrm{x}\\hat{n}) = \\vec{r} - (\\vec{r}\\cdot\\hat{n})\\hat{n}.$\n",
    "\n",
    "1. Dada uma matriz qualquer $A\\in SO(3)$, escreva os ângulos $\\phi,\\theta,\\psi$ (da matriz obtida por rotações de Euler) em termos dos elementos de matriz de $A$.\n",
    "\n",
    "1. Verifique que um elemento qualquer de $U(2)$ pode ser escrito como $U=\\begin{bmatrix} e^{i\\xi}\\cos\\eta & e^{i\\zeta}\\sin\\eta  \\\\ -e^{-i\\zeta}\\sin\\eta & e^{-i\\xi}\\cos\\eta \\end{bmatrix}.$\n",
    "\n",
    "1. Considerando dois vetores quaisquer $\\vec{a},\\vec{b}\\in\\mathbb{R}^{3}$, verifique que o produto vetorial pode ser escrito na forma matricial: $\\vec{a}\\text{x}\\vec{b}=\\begin{bmatrix}0&-a_{3}&a_{2} \\\\ a_{3}&0&-a_{1} \\\\ -a_{2}&a_{1}&0\\end{bmatrix}\\begin{bmatrix}b_{1}\\\\b_{2}\\\\b_{3}\\end{bmatrix}$."
   ]
  },
  {
   "cell_type": "code",
   "execution_count": null,
   "metadata": {},
   "outputs": [],
   "source": []
  }
 ],
 "metadata": {
  "kernelspec": {
   "display_name": "Python 3 (ipykernel)",
   "language": "python",
   "name": "python3"
  },
  "language_info": {
   "codemirror_mode": {
    "name": "ipython",
    "version": 3
   },
   "file_extension": ".py",
   "mimetype": "text/x-python",
   "name": "python",
   "nbconvert_exporter": "python",
   "pygments_lexer": "ipython3",
   "version": "3.8.8"
  }
 },
 "nbformat": 4,
 "nbformat_minor": 2
}
