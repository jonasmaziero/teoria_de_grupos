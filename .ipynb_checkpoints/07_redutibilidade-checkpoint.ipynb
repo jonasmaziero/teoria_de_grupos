{
 "cells": [
  {
   "cell_type": "markdown",
   "metadata": {},
   "source": [
    "## Notas de aula de Teoria de Grupos <br> Autor: Jonas Maziero"
   ]
  },
  {
   "cell_type": "code",
   "execution_count": 1,
   "metadata": {},
   "outputs": [],
   "source": [
    "%run init.ipynb"
   ]
  },
  {
   "cell_type": "markdown",
   "metadata": {},
   "source": [
    "# Redutibilidade de representações\n",
    "Consideremos a representação linear de um grupo $G\\mapsto D(\\mathcal{H})$. A princípio, as matrizes $A_{\\psi}\\in D_{\\psi}(\\mathcal{H})$ tem uma forma geral, e.g.\n",
    "\\begin{equation}\n",
    "A_{\\psi} = \\begin{bmatrix} A^{(1)}_{\\psi} & O^{(1)}_{\\psi} \\\\ \\tilde{O}^{(1)}_{\\psi} & A^{(2)}_{\\psi} \\end{bmatrix},\n",
    "\\end{equation}\n",
    "com $A^{(1)}_{\\psi},A^{(2)}_{\\psi}$ sendo matrizes quadradas e $O^{(1)}_{\\psi},\\tilde{O}^{(1)}_{\\psi}$ sendo matrizes retangulares, com as dimensões apropriadas. \n",
    "\n",
    "Dizemos que a representação $G\\mapsto D_{\\psi}(\\mathcal{H})$ é __redutível__ se podemos encontrar uma base tal que todas as matrizes $A_{\\psi}\\in D_{\\psi}(\\mathcal{H})$ dessa representação tem a forma\n",
    "\\begin{equation}\n",
    "A_{\\psi} = \\begin{bmatrix} A^{(1)}_{\\psi} & O^{(1)}_{\\psi} \\\\ \\mathbb{O} & A^{(2)}_{\\psi} \\end{bmatrix}.\n",
    "\\end{equation}\n",
    "\n",
    "Dizemos que a representação $G\\mapsto D_{\\psi}(\\mathcal{H})$S é __completamente redutível__ se $O^{(1)}_{\\psi}=\\mathbb{O}$, i.e., as matrizes $A_{\\psi}$ são bloco-diagonais:\n",
    "\\begin{equation}\n",
    "A_{\\psi} = \\begin{bmatrix} A^{(1)}_{\\psi} & \\mathbb{O} \\\\ \\mathbb{O} & A^{(2)}_{\\psi} \\end{bmatrix}.\n",
    "\\end{equation}"
   ]
  },
  {
   "cell_type": "markdown",
   "metadata": {},
   "source": [
    "Nesse último caso, dizemos que $A_{\\psi}$ é a soma (direta) das representações $A^{(j)}_{\\psi}$, pois estas atuam subespaços ortogonais de $\\mathcal{H}$: $$A_{\\psi}=A^{(1)}_{\\psi}+A^{(2)}_{\\psi}.$$\n",
    "\n",
    "Para representações completamente redutíveis, o caráter de um elemento é a soma dos caracteres das sub-representações, i.e., para $g\\mapsto A_{\\psi}(g)$ teremos\n",
    "\\begin{equation}\n",
    "\\chi(g)=Tr\\big(A_{\\psi}(g)\\big)=Tr\\big(A_{\\psi}^{(1)}(g)\\big)+Tr\\big(A_{\\psi}^{(2)}(g)\\big).\n",
    "\\end{equation}\n",
    "\n",
    "Quando não conseguirmos mais reduzir as representações que aparecem na \"decomposição\" de $A_{\\psi}$, teremos encontrado a __representação irredutível__ do grupo $G$:\n",
    "\\begin{equation}\n",
    "A_{\\psi}=\\begin{bmatrix} A_{\\psi}^{(1)} & & O^{(1)} & &  \\\\ \\mathbb{O} & A_{\\psi}^{(2)} & & O^{(2)} &  \\\\ \\vdots & \\vdots & \\ddots & \\vdots & \\vdots \\\\ \\mathbb{O}  & \\mathbb{O}  & \\cdots & A_{\\psi}^{(k-1)} & O^{(k-1)} \\\\ \\mathbb{O}  & \\mathbb{O}  & \\cdots & \\mathbb{O}  & A_{\\psi}^{(k)} \\end{bmatrix}.\n",
    "\\end{equation}"
   ]
  },
  {
   "cell_type": "markdown",
   "metadata": {},
   "source": [
    "## Critério para redutibilidade\n",
    "Como podemos determinar se uma representação linear qualquer $G\\mapsto D_{\\psi}(\\mathcal{H})$ é redutível? Bom, se uma representação é redutível, então para vetores $|x\\rangle\\in\\mathcal{H}_{\\iota}$ de um subspaço $\\mathcal{H}_{\\iota}\\subset\\mathcal{H}$ teremos\n",
    "\\begin{equation}\n",
    "\\begin{bmatrix} A_{\\psi}^{(1)} & O^{(1)} \\\\ \\mathbb{O} & A_{\\psi}^{(2)} \\end{bmatrix}\\begin{bmatrix} |x\\rangle \\\\ |\\oslash\\rangle\\end{bmatrix} = \\begin{bmatrix} A_{\\psi}^{(1)}|x\\rangle \\\\ |\\oslash\\rangle\\end{bmatrix}.\n",
    "\\end{equation}\n",
    "Note que $\\dim\\mathcal{H}_{\\iota}$ é igual à ordem de $A_{\\psi}^{(1)}.$\n",
    "Por conseguinte, se todas as transformações de $A_{\\psi}\\in D_{\\psi}(\\mathcal{H})$ deixam um subespaço $\\mathcal{H}_{\\iota}\\subset\\mathcal{H}$ invariante, i.e., não levam vetores do subespaço pra fora dele, i.e., se $$A_{\\psi}:\\mathcal{H}_{\\iota}\\rightarrow \\mathcal{H}_{\\iota}\\ \\forall A_{\\psi}\\in D_{\\psi}(\\mathcal{H}),$$ então a representação $$G\\mapsto D_{\\psi}(\\mathcal{H}) \\text{ é redutível}.$$\n",
    "\n",
    "Note que podemos ter desde subespaços invariantes com dimensão $\\dim\\mathcal{H}_{\\iota}=1$ até $\\dim\\mathcal{H}_{\\iota}=\\dim\\mathcal{H}-1.$"
   ]
  },
  {
   "cell_type": "markdown",
   "metadata": {},
   "source": [
    "## Teorema\n",
    "Para __representações unitárias__ (para grupos finitos, em particular), redutibilidade implica em redutibilidade completa.\n",
    "\n",
    "### Prova\n",
    "Para representações $G\\mapsto D_{\\psi}(\\mathcal{H})$ unitárias, teremos que $$A_{\\psi}A_{\\psi}^{\\dagger} = A_{\\psi}^{\\dagger}A_{\\psi} = \\mathbb{I}\\ \\forall A_{\\psi}\\in D_{\\psi}(\\mathcal{H}).$$ Se a representação é redutível, vem que\n",
    "\\begin{align}\n",
    "A_{\\psi}A_{\\psi}^{\\dagger} & = \\begin{bmatrix} A_{\\psi}^{(1)} & O^{(1)} \\\\ \\mathbb{O} & A_{\\psi}^{(2)} \\end{bmatrix}\\begin{bmatrix} (A_{\\psi}^{(1)})^{\\dagger} &  \\mathbb{O} \\\\ (O_{(1)})^{\\dagger} & (A_{\\psi}^{(2)})^{\\dagger} \\end{bmatrix} \\\\\n",
    "&= \\begin{bmatrix} A_{\\psi}^{(1)}(A_{\\psi}^{(1)})^{\\dagger} + O^{(1)}(O^{(1)})^{\\dagger}  & O^{(1)}(A_{\\psi}^{(2)})^{\\dagger} \\\\ A_{\\psi}^{(2)}(O^{(1)})^{\\dagger} & A_{\\psi}^{(2)}(A_{\\psi}^{(2)})^{\\dagger} \\end{bmatrix} \\\\\n",
    "& = \\begin{bmatrix} \\mathbb{I} + O^{(1)}(O^{(1)})^{\\dagger}  & O^{(1)}(A_{\\psi}^{(2)})^{\\dagger} \\\\ A_{\\psi}^{(2)}(O^{(1)})^{\\dagger} & \\mathbb{I} \\end{bmatrix} \\\\\n",
    "&:= \\begin{bmatrix} \\mathbb{I} & \\mathbb{O} \\\\ \\mathbb{O} & \\mathbb{I} \\end{bmatrix}.\n",
    "\\end{align}\n",
    "A única maneira de satisfazer essa igualdade de forma geral é se $$O^{(1)}=\\mathbb{O}.$$ Mas isso implica que a representação é completamente redutível, completando assim a prova do teorema. $\\hspace{1cm} \\square$\n",
    "\n",
    "Por conseguinte, para grupos finitos podemos encontrar uma representação unitária que pode ser decomposta como a soma de representações irredutíveis."
   ]
  },
  {
   "cell_type": "markdown",
   "metadata": {},
   "source": [
    "## Lemas de Schur\n",
    "Na sequência, obteremos critérios mais simples para irredutibilidade. Também obteremos restrições para o possível número de representações não equivalentes de um grupo.\n",
    "\n",
    "### Proposição\n",
    "Uma representação $G\\mapsto D(\\mathcal{H})$ de ordem $n$ é redutível se e somente se existe uma matriz $A\\in\\mathbb{C}^{m\\text{x}n}$, com $m<n$, tal que \n",
    "$$AD(g) = D'(g)A\\ \\forall g\\in G,$$\n",
    "em que $G\\mapsto D'(\\mathcal{H})$ é uma representação de ordem $m.$\n",
    "\n",
    "#### Prova\n",
    "##### $D$ é redutível  $\\ \\therefore \\exists A$ tal que $D'(g)A=AD(g)\\ \\forall g\\in G$\n",
    "Suponha que $\\{\\psi_{j}\\}_{j=1}^{n},$ com $n=\\dim\\mathcal{H},$ é uma base de funções usada para obter uma representação linear do grupo $G\\mapsto D(\\mathcal{H}).$ Nesse caso, $\\forall g\\in G$ teremos que $$O_{g}\\psi_{j}=\\sum_{k=1}^{n}D_{j,k}(g)\\psi_{k}.$$ \n",
    "Aqui usamos a notação $D(g)=(D_{j,k}(g))$ para a matriz de $D(\\mathcal{H})$ que representa $g$. Se a representação $D(\\mathcal{H})$ é _redutível_, por definição, existe um subespaço $\\mathcal{H}_{\\iota}\\subset\\mathcal{H}$ com dimensão $\\dim\\mathcal{H}_{\\iota}=m< n$ que é invariante sob a ação das matrizes de $D_{\\psi}(\\mathcal{H}).$ Por outro lado, podemos usar uma base de funções $\\phi_{j}\\in\\mathcal{H}_{\\iota},$ com $j=1,\\cdots,m,$ para obter uma outra representação $D'(\\mathcal{H})$:\n",
    "$$O_{g}\\phi_{j}=\\sum_{k=1}^{m}D'_{j,k}(g)\\phi_{k}.$$"
   ]
  },
  {
   "cell_type": "markdown",
   "metadata": {},
   "source": [
    "Ademais, podemos escrever qualquer função de $\\mathcal{H}_{\\iota}\\subset\\mathcal{H}$ como combinação linear de uma base de $\\mathcal{H}$ :\n",
    "$$\\phi_{j}=\\sum_{k=1}^{n}A_{j,k}\\psi_{k}, \\ (j=1,\\cdots,m).$$ \n",
    "Com isso, vem que\n",
    "\\begin{align}\n",
    "O_{g}\\phi_{j} &= O_{g}\\sum_{k=1}^{n}A_{j,k}\\psi_{k} = \\sum_{k=1}^{n}A_{j,k}O_{g}\\psi_{k}  \\\\\n",
    "& = \\sum_{k=1}^{n}A_{j,k}\\sum_{l=1}^{n}D_{k,l}\\psi_{l} = \\sum_{l=1}^{n}\\left(\\sum_{k=1}^{n}A_{j,k}D_{k,l}\\right)\\psi_{l} \\\\\n",
    "&= \\sum_{k=1}^{m}D'_{j,k}(g)\\phi_{k} = \\sum_{k=1}^{m}D'_{j,k}(g)\\sum_{l=1}^{n}A_{k,l}\\psi_{l} \\\\\n",
    "&= \\sum_{l=1}^{n}\\left(\\sum_{k=1}^{m}D'_{j,k}(g)A_{k,l}\\right)\\psi_{l}\n",
    "\\end{align}\n",
    "para todo $j=1,\\cdots,m.$ Por conseguinte, se $D(\\mathcal{H})$ é uma representação redutível do grupo $G$, deve existir uma matriz $A$ tal que \n",
    "$$D'(g)A=AD(g)\\ \\forall g\\in G.$$"
   ]
  },
  {
   "cell_type": "markdown",
   "metadata": {},
   "source": [
    "##### $\\exists A$ tal que $D'(g)A=AD(g)\\ \\forall g\\in G$  $\\ \\therefore$ $D$ é redutível\n",
    "Por outro lado, para duas representações $D(\\mathcal{H})$, de ordem $n$, e $D'(\\mathcal{H})$, de ordem $m<n$, de um grupo $G,$ vamos assumir que existe uma matriz $A$ $m\\text{x}n$ tal que \n",
    "$$D'(g)A=AD(g)\\ \\forall g\\in G.$$\n",
    "Em termos dos elementos de matriz correspondentes, teremos, para todo $j=1,\\cdots,m$ e $k=1,\\cdots,n$, que\n",
    "$$(D'(g)A)_{j,k}=(AD(g))_{j,k}\\ \\therefore\\ \\sum_{l=1}^{m}D'_{j,l}(g)A_{l,k} = \\sum_{l=1}^{n}A_{j,l}D_{l,k}(g).$$ Multiplicando pelos elementos de uma base $\\psi_{l}\\in \\mathcal{H}$ e somando sobre todos esse elementos, obteremos\n",
    "\\begin{align}\n",
    "& \\sum_{k=1}^{n}\\sum_{l=1}^{n}A_{j,l}D_{l,k}(g)\\psi_{k} = \\sum_{l=1}^{n}A_{j,l}O_{g}\\psi_{l} = O_{g}\\sum_{l=1}^{n}A_{j,l}\\psi_{l} \\\\\n",
    "& =\\sum_{k=1}^{n}\\sum_{l=1}^{m}D'_{j,l}(g)A_{l,k}\\psi_{k} =\\sum_{l=1}^{m}D'_{j,l}(g)\\sum_{k=1}^{n}A_{l,k}\\psi_{k} \\\\ \n",
    "& =\\sum_{l=1}^{m}D'_{j,l}(g)\\phi_{l} = O_{g}\\phi_{j}.\n",
    "\\end{align}\n",
    "Portanto\n",
    "$$\\phi_{j} = \\sum_{l=1}^{n}A_{j,l}\\psi_{l}$$\n",
    "forma uma base para a representação $G\\mapsto D'(\\mathcal{H}).$ Como $m<n,$ a representação $G\\mapsto D(\\mathcal{H})$ deve ser redutível."
   ]
  },
  {
   "cell_type": "markdown",
   "metadata": {},
   "source": [
    "#### Lema I (Schur)\n",
    "Se $D(\\mathcal{H})$ e $D'(\\mathcal{H})$ são duas representações irredutíveis, com ordens diferentes, de um grupo $G,$ a única matriz $A$ que satisfaz $D'(g)A=AD(g)\\ \\forall g\\in G$ é $A=\\mathbb{O}.$\n",
    "\n",
    "##### Prova\n",
    "Na última parte da prova da proposição acima, mostramos que $\\exists A$ tal que $D'(g)A=AD(g)\\ \\forall g\\in G$  $\\Rightarrow$ $D$ é redutível. Consequentemente $D$ é irredutível $\\Rightarrow\\nexists A$ tal que $D'(g)A=AD(g)\\ \\forall g\\in G$. A única possibilidade então para satisfazer essa igualdade seria $A=\\mathbb{O}.$"
   ]
  },
  {
   "cell_type": "markdown",
   "metadata": {},
   "source": [
    "#### Lema I.a (Schur)\n",
    "Se $D(\\mathcal{H})$ e $D'(\\mathcal{H})$ são duas representações irredutíveis, com ordens iguais, de um grupo $G,$ e se $D'(g)A=AD(g)\\ \\forall g\\in G$, então $D(\\mathcal{H})$ e $D'(\\mathcal{H})$ são equivalentes ou $A=\\mathbb{O}.$\n",
    "\n",
    "##### Prova\n",
    "Como as ordens de $D(\\mathcal{H})$ e $D'(\\mathcal{H})$ são iguais, devemos ter $m=n.$ No contexto da 1ª parte da prova da proposição acima, as $m=n$ funções $\\phi_{j}=\\sum_{k=1}^{n}A_{j,k}\\psi_{k}$, que fornecem a representação $D'(\\mathcal{H})$, devem ser linearmente independentes (LI). Se olhamos para $\\begin{bmatrix}\\phi_{1}\\\\\\vdots\\\\\\phi_{m}\\end{bmatrix}=\\begin{bmatrix}A_{1,1}&\\cdots&A_{1,m}\\\\\\vdots&\\ddots&\\vdots\\\\A_{m,1}&\\cdots&A_{m,m}\\end{bmatrix}\\begin{bmatrix}\\psi_{1}\\\\\\vdots\\\\\\psi_{m}\\end{bmatrix},$ vemos que para que isso ocorra, as linhas da matriz $A$ devem ser LI. Ou seja, $\\det(A)\\ne 0$ e $\\exists A^{-1}.$ Dessa forma \n",
    "$$D'(g)A=AD(g) \\ \\therefore D'(g)=D'(g)AA^{-1}=AD(g)A^{-1}\\ \\forall g\\in G,$$ e portanto $D(\\mathcal{H})$ e $D'(\\mathcal{H})$ devem ser representações equivalentes. Claro, outra maneira de satisfazer $D'(g)A=AD(g)\\ \\forall g\\in G$ é com $A=\\mathbb{O}.$"
   ]
  },
  {
   "cell_type": "markdown",
   "metadata": {},
   "source": [
    "#### Lema II (Schur)\n",
    "Se $D(\\mathcal{H})$ é uma representação irredutível de um grupo $G$ e $D(g)A=AD(g)\\ \\forall g\\in G,$ então $A\\propto\\mathbb{I}$ ou $A=\\mathbb{O}.$\n",
    "\n",
    "##### Prova\n",
    "Seja $A|a\\rangle=a|a\\rangle$ a eq. característica para a matriz $A.$ Usando a suposição de que $[D(g),A]=\\mathbb{O}\\ \\forall g\\in G,$ vemos que \n",
    "$$AD(g)|a\\rangle=D(g)A|a\\rangle=D(g)a|a\\rangle=aD(g)|a\\rangle.$$ \n",
    "Ou seja, $D(g)|a\\rangle$ também é autovetor de $A$ correspondente ao mesmo autovalor $a,$ para todo $g\\in G.$ Ou seja, o subespaço $\\mathcal{H}_{a}\\subseteq\\mathcal{H}$ gerado pelos autovetores $|a\\rangle$ é invariante sob todas as transformações do grupo $G.$ Mas isso só é possível se $\\mathcal{H}_{a}=\\mathcal{H}$ ou $\\mathcal{H}_{a}=\\{|\\oslash\\rangle\\}.$ A 1ª possibilidade implica que $A$ tem um único autovalor, i.e., $$A=a\\mathbb{I}.$$ A 2ª possibilidade implica que $$A=\\mathbb{O}.$$"
   ]
  },
  {
   "cell_type": "markdown",
   "metadata": {},
   "source": [
    "### Relações de ortogonalidade\n"
   ]
  },
  {
   "cell_type": "markdown",
   "metadata": {},
   "source": [
    "---\n",
    "# Exercícios\n",
    "\n",
    "1. Cosidere duas matrizes $A_{\\psi},B_{\\psi}\\in D_{\\psi}(\\mathcal{H})$ de uma representação $G\\mapsto D_{\\psi}(\\mathcal{H})$ redutível, i.e. $A_{\\psi} = \\begin{bmatrix} A^{(1)}_{\\psi} & O^{(1)}_{\\psi} \\\\ \\mathbb{O} & A^{(2)}_{\\psi} \\end{bmatrix}$ e $\n",
    "B_{\\psi} = \\begin{bmatrix} B^{(1)}_{\\psi} & Q^{(1)}_{\\psi} \\\\ \\mathbb{O} & B^{(2)}_{\\psi} \\end{bmatrix}$. Verifique que a composição $C_{\\psi}=A_{\\psi}B_{\\psi}$ também tem a forma redutível $C_{\\psi} = \\begin{bmatrix} C^{(1)}_{\\psi} & P^{(1)}_{\\psi} \\\\ \\mathbb{O} & C^{(2)}_{\\psi} \\end{bmatrix}.$ \n",
    "\n",
    "1. Verifique que vetores do subespaço complementar ao subespaço invariante (i.e., vetores do tipo $\\begin{bmatrix}|\\oslash\\rangle & |x_{c}\\rangle\\end{bmatrix}^{T}$) não são invariantes sob a ação de matrizes de uma transformação redutível, $A_{\\psi} = \\begin{bmatrix} A^{(1)}_{\\psi} & O^{(1)}_{\\psi} \\\\ \\mathbb{O} & A^{(2)}_{\\psi} \\end{bmatrix}.$   "
   ]
  },
  {
   "cell_type": "code",
   "execution_count": null,
   "metadata": {},
   "outputs": [],
   "source": []
  }
 ],
 "metadata": {
  "kernelspec": {
   "display_name": "Python 3 (ipykernel)",
   "language": "python",
   "name": "python3"
  },
  "language_info": {
   "codemirror_mode": {
    "name": "ipython",
    "version": 3
   },
   "file_extension": ".py",
   "mimetype": "text/x-python",
   "name": "python",
   "nbconvert_exporter": "python",
   "pygments_lexer": "ipython3",
   "version": "3.8.8"
  }
 },
 "nbformat": 4,
 "nbformat_minor": 4
}
