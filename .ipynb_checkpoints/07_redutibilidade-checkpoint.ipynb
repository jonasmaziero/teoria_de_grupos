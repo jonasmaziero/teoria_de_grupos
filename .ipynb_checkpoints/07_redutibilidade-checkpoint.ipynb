{
 "cells": [
  {
   "cell_type": "markdown",
   "metadata": {},
   "source": [
    "## Notas de aula de Teoria de Grupos <br> Autor: Jonas Maziero\n",
    "Link para o vídeo da aula sobre esse tópico:"
   ]
  },
  {
   "cell_type": "code",
   "execution_count": 1,
   "metadata": {},
   "outputs": [],
   "source": [
    "%run init.ipynb"
   ]
  },
  {
   "cell_type": "markdown",
   "metadata": {},
   "source": [
    "## Redutibilidade de representações\n",
    "Consideremos a representação linear matricial de um grupo $G\\mapsto A^{\\psi}$. Se todas as matrizes dessa representação tem a forma\n",
    "\\begin{equation}\n",
    "A^{\\psi} = \\begin{bmatrix} A^{\\psi}_{(1)} & O_{(1)} \\\\ \\mathbb{O} & A^{\\psi}_{(2)} \\end{bmatrix},\n",
    "\\end{equation}\n",
    "dizemos que essa representação é _redutível_. Se $O_{(1)}=\\mathbb{O}$ (as matrizes são bloco-diagonal) a representação é dita ser _completamente redutível_. Nesse último caso dizemos que $A^{\\psi}$ é a soma direta das representações $A^{\\psi}_{(j)}$, pois estas atuam subespaços ortogonais de $\\mathcal{H}$.\n",
    "\n",
    "Para representações completamente redutíveis, o caráter de um elemento é a soma dos caracteres das sub-representações, i.e.,\n",
    "\\begin{equation}\n",
    "\\chi(g)=Tr(A^{\\psi}_{(1)}(g))+Tr(A^{\\psi}_{(2)}(g)).\n",
    "\\end{equation}\n",
    "\n",
    "Quando não conseguirmos mais reduzir as representações que aparecem na \"decomposição\" de $A^{\\psi}$, teremos encontrado a __representação irredutível__ do grupo $G$:\n",
    "\\begin{equation}\n",
    "G\\mapsto A^{\\psi}=\\begin{bmatrix} A^{\\psi}_{(1)} & & O_{(1)} & &  \\\\ \\mathbb{O} & A^{\\psi}_{(2)} & & O_{(2)} &  \\\\ \\vdots & \\vdots & \\cdots & \\vdots & \\vdots \\\\ \\mathbb{O}  & \\mathbb{O}  & \\cdots & A^{\\psi}_{(k-1)} & O_{(k-1)} \\\\ \\mathbb{O}  & \\mathbb{O}  & \\cdots & \\mathbb{O}  & A^{\\psi}_{(k-1)} \\end{bmatrix}\n",
    "\\end{equation}"
   ]
  },
  {
   "cell_type": "markdown",
   "metadata": {},
   "source": [
    "## Critério de redutibilidade\n",
    "Se uma representação é redutível então\n",
    "\\begin{equation}\n",
    "\\begin{bmatrix} A^{\\psi}_{(1)} & O_{(1)} \\\\ \\mathbb{O} & A^{\\psi}_{(2)} \\end{bmatrix}\\begin{bmatrix} |x\\rangle \\\\ |\\oslash\\rangle\\end{bmatrix} = \\begin{bmatrix} A^{\\psi}_{(1)}|x\\rangle \\\\ |\\oslash\\rangle\\end{bmatrix}.\n",
    "\\end{equation}\n",
    "Por conseguinte, se todas as transformações de $A^{\\psi}$ deixam um subespaço de $\\mathcal{H}$ invariante (i.e., não levam vetores do subespaço pra fora dele), a representação $G\\mapsto A^{\\psi}$ é redutível."
   ]
  },
  {
   "cell_type": "markdown",
   "metadata": {},
   "source": [
    "### Teorema\n",
    "Para representações unitárias (para grupos finitos, em particular), redutibilidade implica em redutibilidade completa.\n",
    "\n",
    "#### Prova\n",
    "Para representações unitárias teremos $A^{\\psi}(A^{\\psi})^{\\dagger} = (A^{\\psi})^{\\dagger}A^{\\psi} = \\mathbb{I}$. Se a representação é redutível, vem que\n",
    "\\begin{align}\n",
    "A^{\\psi}(A^{\\psi})^{\\dagger} & = \\begin{bmatrix} A^{\\psi}_{(1)} & O_{(1)} \\\\ \\mathbb{O} & A^{\\psi}_{(2)} \\end{bmatrix}\\begin{bmatrix} (A^{\\psi}_{(1)})^{\\dagger} &  \\mathbb{O} \\\\ (O_{(1)})^{\\dagger} & (A^{\\psi}_{(2)})^{\\dagger} \\end{bmatrix} \\\\\n",
    "&= \\begin{bmatrix} A^{\\psi}_{(1)}(A^{\\psi}_{(1)})^{\\dagger} + O_{(1)}(O_{(1)})^{\\dagger}  & O_{(1)}(A^{\\psi}_{(2)})^{\\dagger} \\\\ A^{\\psi}_{(2)}(O_{(1)})^{\\dagger} & A^{\\psi}_{(2)}(A^{\\psi}_{(2)})^{\\dagger} \\end{bmatrix} \\\\\n",
    "& = \\begin{bmatrix} \\mathbb{I} + O_{(1)}(O_{(1)})^{\\dagger}  & O_{(1)}(A^{\\psi}_{(2)})^{\\dagger} \\\\ A^{\\psi}_{(2)}(O_{(1)})^{\\dagger} & \\mathbb{I} \\end{bmatrix}  = \\begin{bmatrix} \\mathbb{I} & \\mathbb{O} \\\\ \\mathbb{O} & \\mathbb{I} \\end{bmatrix}.\n",
    "\\end{align}\n",
    "A única maneira de satisfazer essa igualdade de forma geral é se $O_{(1)}=\\mathbb{O}$. Mas isso implica que a representação é completamente redutível, completando assim a prova do teorema. $\\hspace{2cm} \\square$"
   ]
  },
  {
   "cell_type": "markdown",
   "metadata": {},
   "source": [
    "# Exercícios\n",
    "\n",
    "1. dddd"
   ]
  },
  {
   "cell_type": "code",
   "execution_count": null,
   "metadata": {},
   "outputs": [],
   "source": []
  }
 ],
 "metadata": {
  "kernelspec": {
   "display_name": "Python 3",
   "language": "python",
   "name": "python3"
  },
  "language_info": {
   "codemirror_mode": {
    "name": "ipython",
    "version": 3
   },
   "file_extension": ".py",
   "mimetype": "text/x-python",
   "name": "python",
   "nbconvert_exporter": "python",
   "pygments_lexer": "ipython3",
   "version": "3.6.6"
  }
 },
 "nbformat": 4,
 "nbformat_minor": 4
}
