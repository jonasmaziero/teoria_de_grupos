{
 "cells": [
  {
   "cell_type": "markdown",
   "metadata": {},
   "source": [
    "## Notas de aula de Teoria de Grupos <br> Autor: Jonas Maziero\n",
    "Links para os vídeos das aulas sobre esse tópico: e ."
   ]
  },
  {
   "cell_type": "code",
   "execution_count": 2,
   "metadata": {},
   "outputs": [],
   "source": [
    "%run init.ipynb"
   ]
  },
  {
   "cell_type": "markdown",
   "metadata": {},
   "source": [
    "# Teoria de grupos\n",
    "Teoria de grupos tem uma rica história em Matemática, sendo também de grande importância atual. Na Física, as práticas leis de conservação são consequência das simetrias das leis físicas sob certas transformações, um resultado que foi formalizado através do teorema de Emmy Noether. Ademais, teoria de grupos tem sido fundamental para o desenvolvimento da física, indo desde a cristalografia até a física de partículas elementares, e também é de grande valia para pesquisas atuais."
   ]
  },
  {
   "cell_type": "markdown",
   "metadata": {},
   "source": [
    "## Grupo\n",
    "Um conjunto de objetos $G=\\{g_{1},g_{2},\\cdots,g_{|G|}\\}$ forma um grupo sob a operação de composição $*$ se:\n",
    "* A composição de quaisquer dois elementos do cojunto é um elemento do conjunto (__fechamento__):\n",
    "\\begin{equation}\n",
    "g_{j}*g_{k}\\in G\\ \\forall g_{j},g_{k}\\in G.\n",
    "\\end{equation}\n",
    "\n",
    "* A composição de elementos do grupo é associativa (__associatividade__):\n",
    "\\begin{equation}\n",
    "g_{j}*(g_{k}*g_{l})=(g_{j}*g_{k})*g_{l}\\ \\forall g_{j},g_{k},g_{l}\\in G.\n",
    "\\end{equation}\n",
    "\n",
    "* Existe o __elemento identidade__ $e$ tal que\n",
    "\\begin{equation}\n",
    "g_{j}*e=e*g_{j}=g_{j}\\ \\forall g_{j}\\in G.\n",
    "\\end{equation}\n",
    "\n",
    "* Para qualquer elemento $g_{j}\\in G,$ existe o __elemento inverso__ $g_{j}^{-1}\\in G$ tal que\n",
    "\\begin{equation}\n",
    "g_{j}*g_{j}^{-1}=g_{j}^{-1}*g_{j}=e.\n",
    "\\end{equation}\n",
    "\n",
    "#### Ordem\n",
    "A ordem de um grupo $(G,*)$, denotada por $$|G|,$$ é igual ao número de elementos distintos que compõem este grupo.\n",
    "\n",
    "#### Grupos Abelianos\n",
    "Grupos Abelianos são grupos comutativos, i.e., são grupos tais que\n",
    "\\begin{equation}\n",
    "g_{j}*g_{k}=g_{k}*g_{j}\\text{ }\\forall g_{j},g_{k}\\in G.\n",
    "\\end{equation}"
   ]
  },
  {
   "cell_type": "markdown",
   "metadata": {},
   "source": [
    "### Proposição (unicidade da inversa)\n",
    "O elemento inverso é unicamente definido.\n",
    "##### Prova\n",
    "Para $g_{j}^{-1}*g_{j}=e$, assume que existe outro elemento de $G$, o denotemos por $\\tilde{g}_{j}^{-1}$, que é também elemento inverso de $g_{j}$. Teríamos nesse caso que $\\tilde{g}_{j}^{-1}*g_{j}=e$. Mas assim\n",
    "\\begin{equation}\n",
    "\\tilde{g}_{j}^{-1}*g_{j}*g_{j}^{-1}=e*g_{j}^{-1}\\therefore \\tilde{g}_{j}^{-1}*e=\\tilde{g}_{j}^{-1}=g_{j}^{-1}. \\hspace{3cm} \\square\n",
    "\\end{equation}\n",
    "OBS. O elemento inverso de $e$ é ele próprio pois $e*e=e.$\n",
    "\n",
    "### Proposição (inversa da composição)\n",
    "Pode-se verificar que, para quaisquer dois elementos $g_{j}$ e $g_{k}$ de um grupo $(G,*)$, segue que $$(g_{j}*g_{k})^{-1}=g_{k}^{-1}*g_{j}^{-1}.$$ \n",
    "#### Prova\n",
    "Pela definição de elemento inverso, e usando as propriedades que definem um grupo, temos que\n",
    "\\begin{align}\n",
    "& (g_{j}*g_{k})*(g_{j}*g_{k})^{-1} = e \\therefore g_{j}^{-1}*g_{j}*g_{k}*(g_{j}*g_{k})^{-1} = g_{j}^{-1}*e \\\\\n",
    "& \\therefore e*g_{k}*(g_{j}*g_{k})^{-1} = g_{j}^{-1} \\therefore g_{k}^{-1}*g_{k}*(g_{j}*g_{k})^{-1} = g_{k}^{-1}*g_{j}^{-1} \\\\\n",
    "& \\therefore e*(g_{j}*g_{k})^{-1} = g_{k}^{-1}*g_{j}^{-1}. \\hspace{2cm}\\square\n",
    "\\end{align}"
   ]
  },
  {
   "cell_type": "markdown",
   "metadata": {},
   "source": [
    "##### Exemplo\n",
    "Existem grupos e operações dos mais variados tipos. Por exemplo, os números inteiros (e os reais) formam um grupo sob a operação de soma. Já $\\mathbb{R}_{\\ne0}$ forma um grupo sob a operação de multiplicação. Nestas notas de aula, veremos em mais detalhes vários exemplos de grupos. O 1º exemplo está mostrado a seguir.\n",
    "\n",
    "#### Grupo de Pauli\n",
    "Sejam $\\sigma_{1} = \\begin{bmatrix} 0 & 1 \\\\ 1&0\\end{bmatrix}\\text{, }\\sigma_{2} = \\begin{bmatrix} 0 & -i \\\\ i&0\\end{bmatrix}\\text{ e }\\sigma_{3} = \\begin{bmatrix} 1 & 0 \\\\ 0 & -1\\end{bmatrix}$ as matrizes de Pauli e $\\sigma_{0} = \\begin{bmatrix} 1 & 0 \\\\ 0 & 1\\end{bmatrix}$ a matriz identidade. Podemos verificar que o conjunto \n",
    "\\begin{align}\n",
    "G_{p} &= \\{g_{1},g_{2},g_{3},g_{4},g_{5},g_{6},g_{7},g_{8},g_{9},g_{10},g_{11},g_{12},g_{13},g_{14},g_{15},g_{16}\\} \\\\\n",
    "&= \\{ \\sigma_{0},-\\sigma_{0},i\\sigma_{0},-i\\sigma_{0}, \\sigma_{1},-\\sigma_{1},i\\sigma_{1},-i\\sigma_{1}, \\sigma_{2},-\\sigma_{2},i\\sigma_{2},-i\\sigma_{2}, \\sigma_{3},-\\sigma_{3},i\\sigma_{3},-i\\sigma_{3} \\} \\\\\n",
    "&= \\{\\pm\\sigma_{j},\\pm i\\sigma_{j}\\}_{j=0}^{3}\n",
    "\\end{align}\n",
    "forma um grupo sob a operação de multiplicação matricial. Usaremos este grupo com vistas que ele é complicado o suficiente para ilustrarmos as principais definições e resultados que obteremos a seguir.\n",
    "\n",
    "Nesse caso $e=\\sigma_{0}$ e a verificação do fechamento está mostrada na __tabela de composição__ (ou tabela de Kayley) abaixo. Associatividade vem da associatividade do produto matricial. Para os elementos inversos obtemos (lembre, $\\sigma_{j}\\sigma_{k}=\\delta_{j,k}\\sigma_{0}+sgn(j,k,l)i\\sigma_{l}$)\n",
    "\\begin{equation}\n",
    "G_{p}^{-1}=\\{ \\sigma_{0},-\\sigma_{0},-i\\sigma_{0},i\\sigma_{0}, \\sigma_{1},-\\sigma_{1},-i\\sigma_{1},i\\sigma_{1}, \\sigma_{2},-\\sigma_{2},-i\\sigma_{2},i\\sigma_{2}, \\sigma_{3},-\\sigma_{3},-i\\sigma_{3},i\\sigma_{3} \\}.\n",
    "\\end{equation}"
   ]
  },
  {
   "cell_type": "markdown",
   "metadata": {},
   "source": [
    "Tabela de composição (usamos o código abaixo para obter essa tabela):\n",
    "\\begin{align}\n",
    "TC & = \\begin{bmatrix} \n",
    "g_{1}*g_{1} & g_{1}*g_{2} & g_{1}*g_{3} & \\cdots \\\\ g_{2}*g_{1} & g_{2}*g_{2} & g_{2}*g_{3} & \\cdots \\\\ g_{3}*g_{1} & g_{3}*g_{2} & g_{3}*g_{3} & \\cdots \\\\ \\vdots & \\vdots & \\vdots & \\ddots \\\\ \\end{bmatrix} \\\\\n",
    "& = \\begin{bmatrix} \n",
    "\\sigma_{0} & -\\sigma_{0} & i\\sigma_{0} & -i\\sigma_{0} & \\sigma_{1} & -\\sigma_{1} & i\\sigma_{1} & -i\\sigma_{1} & \\sigma_{2} & -\\sigma_{2} & i\\sigma_{2} & -i\\sigma_{2} & \\sigma_{3} & -\\sigma_{3} & i\\sigma_{3} & -i\\sigma_{3} \\\\\n",
    "-\\sigma_{0} & \\sigma_{0} & -i\\sigma_{0} & i\\sigma_{0} & -\\sigma_{1} & \\sigma_{1} & -i\\sigma_{1} & i\\sigma_{1} & -\\sigma_{2} & \\sigma_{2} & -i\\sigma_{2} & i\\sigma_{2} & -\\sigma_{3} & \\sigma_{3} & -i\\sigma_{3} & i\\sigma_{3} \\\\\n",
    "i\\sigma_{0} & -i\\sigma_{0} & -\\sigma_{0} & \\sigma_{0} & i\\sigma_{1} & -i\\sigma_{1} & -\\sigma_{1} & \\sigma_{1} & i\\sigma_{2} & -i\\sigma_{2} & -\\sigma_{2} & \\sigma_{2} & i\\sigma_{3} & -i\\sigma_{3} & -\\sigma_{3} & \\sigma_{3} \\\\\n",
    "-i\\sigma_{0} & i\\sigma_{0} & \\sigma_{0} & -\\sigma_{0} & -i\\sigma_{1} & i\\sigma_{1} & \\sigma_{1} & -\\sigma_{1} & -i\\sigma_{2} & i\\sigma_{2} & \\sigma_{2} & -\\sigma_{2} & -i\\sigma_{3} & i\\sigma_{3} & \\sigma_{3} & -\\sigma_{3} \\\\\n",
    "\\sigma_{1} & -\\sigma_{1} & i\\sigma_{1} & -i\\sigma_{1} & \\sigma_{0} & -\\sigma_{0} & i\\sigma_{0} & -i\\sigma_{0} & i\\sigma_{3} & -i\\sigma_{3} & -\\sigma_{3} & \\sigma_{3} & -i\\sigma_{2} & i\\sigma_{2} & \\sigma_{2} & -\\sigma_{2} \\\\\n",
    "-\\sigma_{1} & \\sigma_{1} & -i\\sigma_{1} & i\\sigma_{1} & -\\sigma_{0} & \\sigma_{0} & -i\\sigma_{0} & i\\sigma_{0} & -i\\sigma_{3} & i\\sigma_{3} & \\sigma_{3} & -\\sigma_{3} & i\\sigma_{2} & -i\\sigma_{2} & -\\sigma_{2} & \\sigma_{2} \\\\\n",
    "i\\sigma_{1} & -i\\sigma_{1} & -\\sigma_{1} & \\sigma_{1} & i\\sigma_{0} & -i\\sigma_{0} & -\\sigma_{0} & \\sigma_{0} & -\\sigma_{3} & \\sigma_{3} & -i\\sigma_{3} & i\\sigma_{3} & \\sigma_{2} & -\\sigma_{2} & i\\sigma_{2} & -i\\sigma_{2} \\\\\n",
    "-i\\sigma_{1} & i\\sigma_{1} & \\sigma_{1} & -\\sigma_{1} & -i\\sigma_{0} & i\\sigma_{0} & \\sigma_{0} & -\\sigma_{0} & \\sigma_{3} & -\\sigma_{3} & i\\sigma_{3} & -i\\sigma_{3} & -\\sigma_{2} & \\sigma_{2} & -i\\sigma_{2} & i\\sigma_{2} \\\\\n",
    "\\vdots\n",
    "\\end{bmatrix}\n",
    "\\end{align}"
   ]
  },
  {
   "cell_type": "code",
   "execution_count": 3,
   "metadata": {},
   "outputs": [
    {
     "data": {
      "image/png": "[encoded data removed]",
      "text/latex": [
       "$$\\left ( \\left[\\begin{matrix}0 & 1\\\\1 & 0\\end{matrix}\\right], \\quad \\left [ \\left[\\begin{matrix}0 & 1\\\\1 & 0\\end{matrix}\\right], \\quad \\left[\\begin{matrix}0 & -1\\\\-1 & 0\\end{matrix}\\right], \\quad \\left[\\begin{matrix}0 & 1.0 i\\\\1.0 i & 0\\end{matrix}\\right], \\quad \\left[\\begin{matrix}0 & - 1.0 i\\\\- 1.0 i & 0\\end{matrix}\\right], \\quad \\left[\\begin{matrix}1 & 0\\\\0 & 1\\end{matrix}\\right], \\quad \\left[\\begin{matrix}-1 & 0\\\\0 & -1\\end{matrix}\\right], \\quad \\left[\\begin{matrix}1.0 i & 0\\\\0 & 1.0 i\\end{matrix}\\right], \\quad \\left[\\begin{matrix}- 1.0 i & 0\\\\0 & - 1.0 i\\end{matrix}\\right], \\quad \\left[\\begin{matrix}1.0 i & 0\\\\0 & - 1.0 i\\end{matrix}\\right], \\quad \\left[\\begin{matrix}- 1.0 i & 0\\\\0 & 1.0 i\\end{matrix}\\right], \\quad \\left[\\begin{matrix}-1.0 & 0\\\\0 & 1.0\\end{matrix}\\right], \\quad \\left[\\begin{matrix}1.0 & 0\\\\0 & -1.0\\end{matrix}\\right], \\quad \\left[\\begin{matrix}0 & -1\\\\1 & 0\\end{matrix}\\right], \\quad \\left[\\begin{matrix}0 & 1\\\\-1 & 0\\end{matrix}\\right], \\quad \\left[\\begin{matrix}0 & - 1.0 i\\\\1.0 i & 0\\end{matrix}\\right], \\quad \\left[\\begin{matrix}0 & 1.0 i\\\\- 1.0 i & 0\\end{matrix}\\right]\\right ]\\right )$$"
      ],
      "text/plain": [
       "⎛⎡0  1⎤  ⎡⎡0  1⎤  ⎡0   -1⎤  ⎡  0    1.0⋅ⅈ⎤  ⎡  0     -1.0⋅ⅈ⎤  ⎡1  0⎤  ⎡-1  0 ⎤\n",
       "⎜⎢    ⎥, ⎢⎢    ⎥, ⎢      ⎥, ⎢            ⎥, ⎢              ⎥, ⎢    ⎥, ⎢      ⎥\n",
       "⎝⎣1  0⎦  ⎣⎣1  0⎦  ⎣-1  0 ⎦  ⎣1.0⋅ⅈ    0  ⎦  ⎣-1.0⋅ⅈ    0   ⎦  ⎣0  1⎦  ⎣0   -1⎦\n",
       "\n",
       "  ⎡1.0⋅ⅈ    0  ⎤  ⎡-1.0⋅ⅈ    0   ⎤  ⎡1.0⋅ⅈ    0   ⎤  ⎡-1.0⋅ⅈ    0  ⎤  ⎡-1.0   \n",
       ", ⎢            ⎥, ⎢              ⎥, ⎢             ⎥, ⎢             ⎥, ⎢       \n",
       "  ⎣  0    1.0⋅ⅈ⎦  ⎣  0     -1.0⋅ⅈ⎦  ⎣  0    -1.0⋅ⅈ⎦  ⎣  0     1.0⋅ⅈ⎦  ⎣ 0    1\n",
       "\n",
       "0 ⎤  ⎡1.0   0  ⎤  ⎡0  -1⎤  ⎡0   1⎤  ⎡  0    -1.0⋅ⅈ⎤  ⎡  0     1.0⋅ⅈ⎤⎤⎞\n",
       "  ⎥, ⎢         ⎥, ⎢     ⎥, ⎢     ⎥, ⎢             ⎥, ⎢             ⎥⎥⎟\n",
       ".0⎦  ⎣ 0   -1.0⎦  ⎣1  0 ⎦  ⎣-1  0⎦  ⎣1.0⋅ⅈ    0   ⎦  ⎣-1.0⋅ⅈ    0  ⎦⎦⎠"
      ]
     },
     "execution_count": 3,
     "metadata": {},
     "output_type": "execute_result"
    }
   ],
   "source": [
    "s0,s1,s2,s3,Gp = symbols('sigma_0 sigma_1 sigma_2 sigma_3 G_p') # define os símbolos a serem usados\n",
    "s0 = id(2);  s1 = pauli(1);  s2 = pauli(2);  s3 = pauli(3)\n",
    "Gp = [s0,-s0,1j*s0,-1j*s0,s1,-s1,1j*s1,-1j*s1,s2,-s2,1j*s2,-1j*s2,s3,-s3,1j*s3,-1j*s3] # lista para o grupo\n",
    "TC = [Matrix([[0,0],[0,0]])]*16  # inicialização da lista com 16 elementos\n",
    "j = 4\n",
    "for k in range(0,16):\n",
    "    TC[k] = Gp[j]*Gp[k]\n",
    "Gp[j], TC"
   ]
  },
  {
   "cell_type": "markdown",
   "metadata": {},
   "source": [
    "## Teorema do rearranjamento\n",
    "Seja $G=\\{g_{1},g_{2},\\cdots,g_{|G|}\\}$ um grupo sob a operação $*$. Para um elemento qualquer $g_{j}\\in G$ teremos\n",
    "\\begin{equation}\n",
    "g_{j}*G := \\{g_{j}*g_{1},g_{j}*g_{2},\\cdots,g_{j}*g_{|G|}\\}\\equiv G.\n",
    "\\end{equation}\n",
    "O símbolo $\\equiv$ é usado para denotar que dois conjuntos são formados pelos mesmos elementos, indiferentemente da ordem com que estão arranjados. Da mesma forma, $G*g_{j}=\\{g_{1}*g_{j},\\cdots,g_{|G|}*g_{j}\\}\\equiv G.$\n",
    "### Prova\n",
    "Primeiro, notemos que todos os elementos do conjunto $\\{g_{j}*g_{k}\\}_{k=1}^{|G|}$ estão em $G$. Então, se verificarmos que não há repetição de elementos naquele conjunto, teremos que ele deve ser igual a $G$. Vamos provar isso por contradição. Consideremos dois elementos diferentes $g_{k},g_{l}\\in G$ (i.e., assumimos que $g_{k}\\ne g_{l}$). Se $g_{j}*g_{k}=g_{j}*g_{l}$, pela existência do elemento inverso, teremos\n",
    "\\begin{align}\n",
    "& g_{j}^{-1}*g_{j}*g_{k}=g_{j}^{-1}*g_{j}*g_{l} \\\\\n",
    "& \\Rightarrow e*g_{k}=e*g_{l}\\Rightarrow g_{k}=g_{l},\n",
    "\\end{align}\n",
    "o que contradiz nossa suposição inicial. Portanto, se $g_{k}\\ne g_{l}$ devemos ter $g_{j}*g_{k}\\ne g_{j}*g_{l}$. Com a verificação de $G*g_{j}\\equiv G$, que fica como exercício para você, concluímos a prova do teorema. $\\hspace{1cm}\\square$\n",
    "\n",
    "##### Exemplo \n",
    "A implementação desse teorema pode ser vista na tabela de composição acima, para o grupo de Pauli."
   ]
  },
  {
   "cell_type": "markdown",
   "metadata": {},
   "source": [
    "## Subgrupo\n",
    "Seja $(G,*)$ um grupo. Se um subconjunto $H$ de $G$ forma um grupo sob a mesma operação $*$, então dizemos que $H$ é um subgrupo de $G$.\n",
    "\n",
    "_OBS:_ Para verificar se um certo $H$ é um subgrupo de $G$, alguns requerimentos são satisfeitos automaticamente (elemento identidade e associatividade). \n",
    "\n",
    "OBS. Os conjuntos $\\{e\\}$ e $\\{G\\}$ são, obviamente, subgrupos de $G$, mas são ditos __subgrupos triviais__. Um subgrupo $H\\subset G$ e $H\\supset e$ é dito um __subgrupo próprio__.\n",
    "\n",
    "##### Exemplos\n",
    "É facil verificar que os seguintes conjuntos são subgrupos do grupo de Pauli:\n",
    "\\begin{align}\n",
    "H_{1} & := \\{ \\sigma_{0} \\}, \\\\\n",
    "H_{2} & := \\{ \\sigma_{0},\\sigma_{1} \\}, \\\\\n",
    "H_{3} & := \\{ \\sigma_{0},-\\sigma_{0},\\sigma_{1},-\\sigma_{1} \\}, \\\\\n",
    "H_{4} & := \\{\\sigma_{0},-\\sigma_{0},i\\sigma_{1},-i\\sigma_{1},i\\sigma_{2},-i\\sigma_{2},i\\sigma_{3},-i\\sigma_{3}\\}, \\\\\n",
    "H_{5} & := G_{p}. \\\\\n",
    "\\end{align}"
   ]
  },
  {
   "cell_type": "markdown",
   "metadata": {},
   "source": [
    "## Cosets\n",
    "Se $H$ é um subgrupo de $G$, então para um certo $g_{j}\\in G$ o conjunto\n",
    "\\begin{align}\n",
    "g_{j}*H & = g_{j}*\\{h_{1},h_{2},\\cdots,h_{|H|}\\} \\\\\n",
    "& := \\{g_{j}*h_{1},g_{j}*h_{2},\\cdots,g_{j}*h_{|H|}\\}\n",
    "\\end{align}\n",
    "é denominado coset à esquerda de $H$ em $G$ por $g_{j}$. A definição análoga segue para cosets à direita de $H$ em $G$ ($H*g_{j}=\\{h_{1}*g_{j},\\cdots,h_{|H|}*g_{j}\\}$).\n",
    "\n",
    "_OBS:_ Os elementos de um coset são todos distintos e estão em $G$, i.e., $g_{j}*H$ e $H*g_{j}$ são subconjuntos de G. \n",
    "\n",
    "### Teorema\n",
    "Se $g_{j}\\in H$ então $g_{j}*H\\equiv H$. Se $g_{j}\\notin H$ então $g_{j}*H$ não é um grupo. \n",
    "#### Prova \n",
    "Se $g_{j}\\in H$, então, pelo teorema do rearranjamento, teremos que $g_{j}*H\\equiv H.$ <br> \n",
    "Se $g_{j}\\notin H$, se $g_{j}*H$ é um grupo, então $g_{j}*h_{k}=e$ para algum $k$, o que implica em $h_{k}=g_{j}^{-1}\\in H$. Como $H$ é um grupo, a inversa de $g_{j}^{-1}$, que é $g_{j}$, deve estar em $H$, o que contradiz nossa suposição inicial. Por conseguinte, $g_{j}*H$ não pode formar um grupo se $g_{j}\\notin H$. \n",
    "\n",
    "##### Exemplo\n",
    "Para o subgrupo $H_{3}$ de $G_{p}$ teremos\n",
    "\\begin{align}\n",
    "\\sigma_{3}*H_{3} & \\equiv \\{ \\sigma_{3}*\\sigma_{0},\\sigma_{3}*(-\\sigma_{0}),\\sigma_{3}*\\sigma_{1},\\sigma_{3}*(-\\sigma_{1}) \\} \\\\\n",
    "& \\equiv \\{ \\sigma_{3},-\\sigma_{3},sgn(3,1,2)i\\sigma_{2},sgn(3,1,2)i\\sigma_{2} \\} \\\\\n",
    "& \\equiv \\{ \\sigma_{3},-\\sigma_{3},i\\sigma_{2},-i\\sigma_{2} \\},\n",
    "\\end{align}\n",
    "que, obviamente, não é um grupo pois e.g. $\\sigma_{3}*i\\sigma_{2}=sgn(3,2,1)i^{2}\\sigma_{1}=\\sigma_{1}.$"
   ]
  },
  {
   "cell_type": "markdown",
   "metadata": {},
   "source": [
    "### Teorema (de Lagrange)\n",
    "A ordem de um subgrupo divide a ordem de grupo, i.e., $|G|/|H|\\in\\mathbb{N}_{>0}$.<br>\n",
    "Um enunciado equivalente, mas com mais pistas para a prova, é que se $H$ é um subgrupo de $G$, então pode-se escolher apropriadamente elementos $g_{j},g_{k},\\cdots\\in G$ tais que $G$ é obtido pela união de cosets de $H$:\n",
    "\\begin{equation}\n",
    "G=H\\cup(g_{j}*H)\\cup(g_{k}*H)\\cup\\cdots,\n",
    "\\end{equation}\n",
    "onde $\\cup$ denota a união de dois conjuntos:\n",
    "$$A\\cup B \\text{ é o conjunto formado por todos os elementos que estão em } A \\text{ ou em }B.$$"
   ]
  },
  {
   "cell_type": "markdown",
   "metadata": {},
   "source": [
    "#### Prova\n",
    "No caso não trivial $H\\subset G$, começamos considerando um elemento $g_{j}\\in G$ que não está em $H$ ($g_{j}\\notin H$). Provemos por contradição que $H\\cap(g_{j}*H)\\equiv \\emptyset$, em que $\\emptyset$ é o conjunto vazio e $\\cap$ é a interseção entre dois conjuntos:\n",
    "$$ A\\cap B \\text{ é o conjunto formado por todos os elementos que estão em } A \\text{ e em } B.$$\n",
    "Se $g_{j}*H$ e $H$ possuem algum elemento em comum, então existem $h_{l},h_{m}\\in H$ tais que\n",
    "\\begin{align}\n",
    "& g_{j}*h_{l}=h_{m}\\Rightarrow g_{j}*h_{l}*h_{l}^{-1}=h_{m}*h_{l}^{-1} \\\\\n",
    "& \\Rightarrow g_{j}*e=g_{j}=h_{m}*h_{l}^{-1}\\in H \\Rightarrow g_{j}\\in H,\n",
    "\\end{align}\n",
    "pois $h_{l}^{-1}\\in H$. Mas esse resultado contradiz o que assumimos inicialmente, i.e., que $g_{j}\\notin H$. Portanto $H$ e $g_{j}*H$ não podem compartilhar nenhum elemento, ou seja, $H\\cap(g_{j}*H)\\equiv\\emptyset$ se $g_{j}\\notin H$. Com isso vemos que\n",
    "\\begin{equation}\n",
    "G\\supseteq H\\cup(g_{j}*H).\n",
    "\\end{equation}"
   ]
  },
  {
   "cell_type": "markdown",
   "metadata": {},
   "source": [
    "Agora, se $G\\supset H\\cup(g_{j}*H)$, consideremos um coset $g_{k}*H$ obtido usando um outro elemento $g_{k}\\in G$ tal que $g_{k}\\notin H$ e $g_{k}\\notin g_{j}*H$. Já mostramos que $(g_{k}* H)\\cap H\\equiv \\emptyset$. Vamos mostrar, por contradição, que $(g_{j}*H)\\cap(g_{k}*H)\\equiv\\emptyset$. Se $g_{j}*H$ e $g_{k}*H$ possuem algum elemento em comum, então existem $l$, $m$ e $n$ tais que\n",
    "\\begin{align}\n",
    "& g_{j}*h_{l}=g_{k}*h_{m}\\Rightarrow g_{j}*h_{l}h_{m}^{-1}=g_{k}*h_{m}*h_{m}^{-1} \\\\\n",
    "& \\Rightarrow g_{k}*e = g_{j}*h_{n} \\Rightarrow g_{k} = g_{j}*h_{n} \\in g_{j}*H \\\\\n",
    "& \\Rightarrow g_{k}\\in g_{j}*H,\n",
    "\\end{align}\n",
    "que contradiz nossa suposição inicial. Portanto $g_{j}*H$ e $g_{k}*H$ não compartilham nenhum elemento se $g_{k}\\notin g_{j}*H$. Com isso vem que\n",
    "\\begin{equation}\n",
    "G\\supseteq H\\cup(g_{j}*H)\\cup(g_{k}*H).\n",
    "\\end{equation}\n",
    "Se $G\\supset H\\cup(g_{j}*H)\\cup(g_{k}*H)$ seguimos com a mesma ideia, até completar $G$. Como o número de elementos dos cosets $g_{j}*H$ é $|H|\\text{ }\\forall j$, deve existir algum $r\\in\\mathbb{N}_{>0}$ tal que $|G|=r|H|$, completando assim a prova do teorema.  $\\hspace{1cm}\\square$"
   ]
  },
  {
   "cell_type": "markdown",
   "metadata": {},
   "source": [
    "##### Exemplo\n",
    "Usemos os exemplos acima para obter instâncias de implementação do teorema de Lagrange. Para o subgrupo $$H_{3} = \\{ \\sigma_{0},-\\sigma_{0},\\sigma_{1},-\\sigma_{1} \\}$$ temos $$\\sigma_{3}*H_{3} = \\{ \\sigma_{3},-\\sigma_{3},i\\sigma_{2},-i\\sigma_{2} \\}.$$ Ademais $$\\sigma_{2}*H_{3} = \\{ \\sigma_{2},-\\sigma_{2},-i\\sigma_{3},i\\sigma_{3} \\}$$ e $$i\\sigma_{1}*H_{3} = \\{ i\\sigma_{1},-i\\sigma_{1},i\\sigma_{0},-i\\sigma_{0} \\}.$$ Por conseguinte\n",
    "\\begin{align}\n",
    "G_{p} &=\\{ \\sigma_{0},-\\sigma_{0},i\\sigma_{0},-i\\sigma_{0}, \\sigma_{1},-\\sigma_{1},i\\sigma_{1},-i\\sigma_{1}, \\sigma_{2},-\\sigma_{2},i\\sigma_{2},-i\\sigma_{2}, \\sigma_{3},-\\sigma_{3},i\\sigma_{3},-i\\sigma_{3} \\} \\\\\n",
    "&\\equiv H_{3}\\cup (\\sigma_{3}*H_{3})\\cup (\\sigma_{2}*H_{3})\\cup (i\\sigma_{1}*H_{3}).\n",
    "\\end{align}\n",
    "\n",
    "Note também que para os subgrupos indentificados acima, temos as seguintes razões entre as ordens:\n",
    "\\begin{equation}\n",
    "\\frac{|G_{p}|}{|H_{1}|}=\\frac{16}{1}=16\\text{, }\\frac{|G_{p}|}{|H_{2}|}=\\frac{16}{2}=8\\text{, }\\frac{|G_{p}|}{|H_{3}|}=\\frac{16}{4}=4\\text{, }\\frac{|G_{p}|}{|H_{4}|}=\\frac{16}{8}=2\\text{, }\\frac{|G_{p}|}{|H_{5}|}=\\frac{16}{16}=1.\n",
    "\\end{equation}"
   ]
  },
  {
   "cell_type": "markdown",
   "metadata": {},
   "source": [
    "---\n",
    "## Elementos conjugados\n",
    "Dois elementos $g_{j}$ e $g_{k}$ de um grupo $(G,*)$ são ditos conjugados (ou equivalentes) se existir um elemento $g_{l}\\in G$ tal que\n",
    "\\begin{align}\n",
    "& g_{j}=g_{l}*g_{k}*g_{l}^{-1} \\\\\n",
    "& \\therefore g_{j}*g_{l}=g_{l}*g_{k} \\\\ \n",
    "& \\therefore g_{k}=g_{l}^{-1}*g_{j}*g_{l}.\n",
    "\\end{align}\n",
    "\n",
    "## Classe conjugada\n",
    "A classe conjugada de um elemento $g_{j}$ de um grupo $(G,*)$ é o conjunto de todos os elementos desse grupo que são conjugados a $g_{j}$:\n",
    "\\begin{equation}\n",
    "G_{g_{j}} := \\{g_{m}*g_{j}*g_{m}^{-1}\\}_{m=1}^{|G|}. \n",
    "\\end{equation}\n",
    "\n",
    "##### Exemplo\n",
    "Com o código abaixo, podemos obter facilmente as classes conjugadas para o grupo de Pauli. Um exemplo seria\n",
    "\\begin{equation}\n",
    "G_{\\sigma_{1}} = \\{ \\sigma_{1},-\\sigma_{1} \\}.\n",
    "\\end{equation}\n",
    "\n",
    "_OBS:_ Note que o elemento sob consideração sempre está em sua classe conjugada, pois $$e*g_{j}*(e)^{-1}=e*g_{j}*e=g_{j}.$$ "
   ]
  },
  {
   "cell_type": "code",
   "execution_count": 17,
   "metadata": {},
   "outputs": [],
   "source": [
    "Gpi = [s0,-s0,-1j*s0,1j*s0,s1,-s1,-1j*s1,1j*s1,s2,-s2,-1j*s2,1j*s2,s3,-s3,-1j*s3,1j*s3] # elementos inversos\n",
    "GpGpi = [Matrix([[0,0],[0,0]])]*16; GpiGp = [Matrix([[0,0],[0,0]])]*16 # inicialização\n",
    "for k in range(0,16): # verifica os inversos\n",
    "    GpGpi[k] = Gp[k]*Gpi[k]; GpiGp[k] = Gpi[k]*Gp[k]\n",
    "Ggj = [Matrix([[0,0],[0,0]])]*16 # inicialização\n",
    "j = 4\n",
    "for k in range(0,16):\n",
    "    Ggj[k] = Gp[k]*Gp[j]*Gpi[k]"
   ]
  },
  {
   "cell_type": "code",
   "execution_count": 18,
   "metadata": {},
   "outputs": [
    {
     "data": {
      "image/png": "[encoded data removed]",
      "text/latex": [
       "$$\\left ( \\left[\\begin{matrix}0 & 1\\\\1 & 0\\end{matrix}\\right], \\quad \\left [ \\left[\\begin{matrix}0 & 1\\\\1 & 0\\end{matrix}\\right], \\quad \\left[\\begin{matrix}0 & 1\\\\1 & 0\\end{matrix}\\right], \\quad \\left[\\begin{matrix}0 & 1.0\\\\1.0 & 0\\end{matrix}\\right], \\quad \\left[\\begin{matrix}0 & 1.0\\\\1.0 & 0\\end{matrix}\\right], \\quad \\left[\\begin{matrix}0 & 1\\\\1 & 0\\end{matrix}\\right], \\quad \\left[\\begin{matrix}0 & 1\\\\1 & 0\\end{matrix}\\right], \\quad \\left[\\begin{matrix}0 & 1.0\\\\1.0 & 0\\end{matrix}\\right], \\quad \\left[\\begin{matrix}0 & 1.0\\\\1.0 & 0\\end{matrix}\\right], \\quad \\left[\\begin{matrix}0 & -1.0\\\\-1.0 & 0\\end{matrix}\\right], \\quad \\left[\\begin{matrix}0 & -1.0\\\\-1.0 & 0\\end{matrix}\\right], \\quad \\left[\\begin{matrix}0 & -1.0\\\\-1.0 & 0\\end{matrix}\\right], \\quad \\left[\\begin{matrix}0 & -1.0\\\\-1.0 & 0\\end{matrix}\\right], \\quad \\left[\\begin{matrix}0 & -1\\\\-1 & 0\\end{matrix}\\right], \\quad \\left[\\begin{matrix}0 & -1\\\\-1 & 0\\end{matrix}\\right], \\quad \\left[\\begin{matrix}0 & -1.0\\\\-1.0 & 0\\end{matrix}\\right], \\quad \\left[\\begin{matrix}0 & -1.0\\\\-1.0 & 0\\end{matrix}\\right]\\right ]\\right )$$"
      ],
      "text/plain": [
       "⎛⎡0  1⎤  ⎡⎡0  1⎤  ⎡0  1⎤  ⎡ 0   1.0⎤  ⎡ 0   1.0⎤  ⎡0  1⎤  ⎡0  1⎤  ⎡ 0   1.0⎤  \n",
       "⎜⎢    ⎥, ⎢⎢    ⎥, ⎢    ⎥, ⎢        ⎥, ⎢        ⎥, ⎢    ⎥, ⎢    ⎥, ⎢        ⎥, \n",
       "⎝⎣1  0⎦  ⎣⎣1  0⎦  ⎣1  0⎦  ⎣1.0   0 ⎦  ⎣1.0   0 ⎦  ⎣1  0⎦  ⎣1  0⎦  ⎣1.0   0 ⎦  \n",
       "\n",
       "⎡ 0   1.0⎤  ⎡ 0    -1.0⎤  ⎡ 0    -1.0⎤  ⎡ 0    -1.0⎤  ⎡ 0    -1.0⎤  ⎡0   -1⎤  \n",
       "⎢        ⎥, ⎢          ⎥, ⎢          ⎥, ⎢          ⎥, ⎢          ⎥, ⎢      ⎥, \n",
       "⎣1.0   0 ⎦  ⎣-1.0   0  ⎦  ⎣-1.0   0  ⎦  ⎣-1.0   0  ⎦  ⎣-1.0   0  ⎦  ⎣-1  0 ⎦  \n",
       "\n",
       "⎡0   -1⎤  ⎡ 0    -1.0⎤  ⎡ 0    -1.0⎤⎤⎞\n",
       "⎢      ⎥, ⎢          ⎥, ⎢          ⎥⎥⎟\n",
       "⎣-1  0 ⎦  ⎣-1.0   0  ⎦  ⎣-1.0   0  ⎦⎦⎠"
      ]
     },
     "execution_count": 18,
     "metadata": {},
     "output_type": "execute_result"
    }
   ],
   "source": [
    "#Gpi, GpGpi, GpiGp #ok\n",
    "Gp[j], Ggj"
   ]
  },
  {
   "cell_type": "markdown",
   "metadata": {},
   "source": [
    "## Teorema\n",
    "Considere dois elementos $g_{j}$ e $g_{k}$ do grupo $(G,*)$. Se esses elementos são conjugados, então suas classes conjugadas são iguais.\n",
    "\n",
    "### Prova\n",
    "Assumimos que $g_{k}=g_{l}*g_{j}*g_{l}^{-1}$ para algum $g_{l}\\in G$. Então\n",
    "\\begin{align}\n",
    "G_{g_{k}} & = \\{g_{m}*g_{k}*g_{m}^{-1}\\}_{m=1}^{|G|} = \\{g_{m}*g_{l}*g_{j}*g_{l}^{-1}*g_{m}^{-1}\\}_{m=1}^{|G|} \\\\\n",
    "& = \\{(g_{m}*g_{l})*g_{j}*(g_{m}*g_{l})^{-1}\\}_{m=1}^{|G|} \\\\\n",
    "& = \\{g_{n}*g_{j}*g_{n}^{-1}\\}_{n=1}^{|G|} = G_{g_{j}}.\n",
    "\\end{align}\n",
    "Na 4ª igualdade usamos o teorema do rearranjamento. $\\hspace{1cm}\\square$\n",
    "\n",
    "_OBS:_ Note que esse teorema implica que as classes conjugadas de todos os elementos dentro de uma certa classe conjugada é a própria. Ou seja, <br> __todos os elementos conjugados estão dentro de uma mesma classe conjugada.__\n",
    "\n",
    "##### Exemplo\n",
    "Com o código acima, podemos verificar que $$G_{-\\sigma_{1}}=\\{\\sigma_{1},-\\sigma_{1}\\}=G_{\\sigma_{1}}.$$"
   ]
  },
  {
   "cell_type": "markdown",
   "metadata": {},
   "source": [
    "## Decompondo um grupo em termos de classes conjugadas\n",
    "Começamos notando que a classe conjugada do elemento identidade é ele mesmo:\n",
    "\\begin{align}\n",
    "G_{e} &= \\{g_{m}*e*g_{m}^{-1}\\}_{m=1}^{|G|} = \\{g_{m}*g_{m}^{-1}\\}_{m=1}^{|G|} = \\{e\\}_{m=1}^{|G|} \\\\\n",
    "&= e.\n",
    "\\end{align}\n",
    "_OBS:_ Da mesma forma, pode-se verificar que a classe conjugada de qualquer elemento \"proporcinal\" a $e$ é composta somente por aquele elemento. <br>\n",
    "Agora, se $G\\supset G_{e},$ escolhemos $g_{j}\\in G$ com $g_{j}\\ne e$. Como $e$ não está em $G_{g_{j}}$ vemos que\n",
    "\\begin{equation}\n",
    "G\\supseteq G_{e}\\cup G_{g_{j}}.\n",
    "\\end{equation}\n",
    "Se $G\\supset G_{e}\\cup G_{g_{j}}$ consideramos $g_{k}\\ne e$ com $g_{k}\\notin G_{g_{j}}$. Como $G_{g_{j}}\\cap G_{g_{k}}\\equiv\\emptyset$ teremos\n",
    "\\begin{equation}\n",
    "G\\supseteq G_{e}\\cup G_{g_{j}}\\cup G_{g_{k}}.\n",
    "\\end{equation}\n",
    "Se $G\\supset G_{e}\\cup G_{g_{j}}\\cup G_{g_{k}}$, continuamos com o mesmo procedimento até que:\n",
    "\\begin{equation}\n",
    "G\\equiv G_{e}\\cup G_{g_{j}}\\cup G_{g_{k}}\\cup\\cdots.\n",
    "\\end{equation}\n",
    "Note que o número de elementos das diferentes classes pode ser diferente (em contraste com o que tínhamos para os cosets).\n",
    "\n",
    "##### Exemplo\n",
    "Consideremos a decomposição do grupo de Pauli em termos de classes conjugadas. Com o código acima verificamos que $G_{\\sigma_{j}}=\\{\\sigma_{j},-\\sigma_{j}\\}$ e $G_{i\\sigma_{j}}=\\{i\\sigma_{j},-i\\sigma_{j}\\}$ para $j=1,2,3$. Com isso vemos que\n",
    "\\begin{equation}\n",
    "G_{p} \\equiv G_{\\sigma_{0}}\\cup G_{-\\sigma_{0}}\\cup G_{i\\sigma_{0}}\\cup G_{-i\\sigma_{0}}\\cup G_{\\sigma_{1}}\\cup G_{i\\sigma_{1}}\\cup G_{\\sigma_{2}}\\cup G_{i\\sigma_{2}}\\cup G_{\\sigma_{3}}\\cup G_{i\\sigma_{3}}.\n",
    "\\end{equation}"
   ]
  },
  {
   "cell_type": "markdown",
   "metadata": {},
   "source": [
    "## Subgrupo invariante\n",
    "Seja $H$ um subgrupo do grupo $G$ tal que\n",
    "\\begin{equation}\n",
    "g_{j}*H*g_{j}^{-1}\\equiv H \\therefore g_{j}*H = H*g_{j} \\text{ } \\forall g_{j}\\in G.\n",
    "\\end{equation}\n",
    "Dizemos nesse caso que $H$ é um subgrupo invariante de $G$. Note que $H$, visto como um único objeto, comuta com todos elementos de G. Colocado de outra forma, qualquer coset à esquerda de um subgrupo invariante é igual ao coset à diretira correspondente. \n",
    "\n",
    "_OBS:_ Note que não exigimos que $g_{j}*h_{k}*g_{j}^{-1}=h_{k}\\text{ }\\forall h_{k}\\in H$. Exigimos somente que os dois conjuntos contenham os mesmos elementos, independente da ordem com que estão arranjados, i.e., exigimos que o conjunto como um todo seja invariante por essas transformações de similaridade:\n",
    "\\begin{equation}\n",
    "\\{g_{j}*h_{1}*g_{j}^{-1},\\cdots,g_{j}*h_{|H|}*g_{j}^{-1}\\}\\equiv\\{h_{1},\\cdots,h_{|H|}\\}.\n",
    "\\end{equation}\n",
    "\n",
    "##### Exemplos\n",
    "* É fácil ver que $$H_{2}=\\{\\sigma_{0},\\sigma_{1}\\}$$ não é um subgrupo invariante pois e.g. $$\\sigma_{2}*H_{2}=\\{\\sigma_{2}*\\sigma_{0},\\sigma_{2}*\\sigma_{1}\\}=\\{\\sigma_{2},-i\\sigma_{3}\\}$$ e $$H_{2}*\\sigma_{2}=\\{\\sigma_{0}*\\sigma_{2},\\sigma_{1}*\\sigma_{2}\\}=\\{\\sigma_{2},i\\sigma_{3}\\}.$$"
   ]
  },
  {
   "cell_type": "markdown",
   "metadata": {},
   "source": [
    "* Por outro lado, $$H_{3}=\\{\\sigma_{0},-\\sigma_{0},\\sigma_{1},-\\sigma_{1}\\}$$ é um subgrupo invariante pois (usamos o código abaixo para verificar essas relações):\n",
    "\\begin{align}\n",
    "& \\pm\\sigma_{0}*H_{3} \\equiv H_{3}*(\\pm\\sigma_{0}) \\equiv H_{3}, \\\\\n",
    "& \\pm i\\sigma_{0}*H_{3} \\equiv H_{3}*(\\pm i\\sigma_{0}) \\equiv iH_{3}, \\\\\n",
    "& \\pm\\sigma_{1}*H_{3} \\equiv H_{3}*(\\pm\\sigma_{1}) \\equiv H_{3}, \\\\\n",
    "& \\pm i\\sigma_{1}*H_{3} \\equiv H_{3}*(\\pm i\\sigma_{1}) \\equiv iH_{3}, \\\\\n",
    "& \\pm\\sigma_{2}*H_{3} \\equiv H_{3}*(\\pm\\sigma_{2}) \\equiv \\{\\sigma_{2},-\\sigma_{2},i\\sigma_{3},-i\\sigma_{3}\\}, \\\\\n",
    "& \\pm i\\sigma_{2}*H_{3} \\equiv H_{3}*(\\pm i\\sigma_{2}) \\equiv \\{i\\sigma_{2},-i\\sigma_{2},\\sigma_{3},-\\sigma_{3}\\}, \\\\\n",
    "& \\pm\\sigma_{3}*H_{3} \\equiv H_{3}*(\\pm\\sigma_{3}) \\equiv \\{\\sigma_{3},-\\sigma_{3},i\\sigma_{2},-i\\sigma_{2}\\}, \\\\\n",
    "& \\pm i\\sigma_{3}*H_{3} \\equiv H_{3}*(\\pm i\\sigma_{3}) \\equiv \\{i\\sigma_{3},-i\\sigma_{3},\\sigma_{2},-\\sigma_{2}\\}.\n",
    "\\end{align}"
   ]
  },
  {
   "cell_type": "code",
   "execution_count": 4,
   "metadata": {},
   "outputs": [
    {
     "data": {
      "image/png": "[encoded data removed]",
      "text/latex": [
       "$$\\left ( \\left[\\begin{matrix}1.0 i & 0\\\\0 & - 1.0 i\\end{matrix}\\right], \\quad \\left [ \\left[\\begin{matrix}1.0 i & 0\\\\0 & - 1.0 i\\end{matrix}\\right], \\quad \\left[\\begin{matrix}- 1.0 i & 0\\\\0 & 1.0 i\\end{matrix}\\right], \\quad \\left[\\begin{matrix}0 & 1.0 i\\\\- 1.0 i & 0\\end{matrix}\\right], \\quad \\left[\\begin{matrix}0 & - 1.0 i\\\\1.0 i & 0\\end{matrix}\\right]\\right ], \\quad \\left [ \\left[\\begin{matrix}1.0 i & 0\\\\0 & - 1.0 i\\end{matrix}\\right], \\quad \\left[\\begin{matrix}- 1.0 i & 0\\\\0 & 1.0 i\\end{matrix}\\right], \\quad \\left[\\begin{matrix}0 & - 1.0 i\\\\1.0 i & 0\\end{matrix}\\right], \\quad \\left[\\begin{matrix}0 & 1.0 i\\\\- 1.0 i & 0\\end{matrix}\\right]\\right ]\\right )$$"
      ],
      "text/plain": [
       "⎛⎡1.0⋅ⅈ    0   ⎤  ⎡⎡1.0⋅ⅈ    0   ⎤  ⎡-1.0⋅ⅈ    0  ⎤  ⎡  0     1.0⋅ⅈ⎤  ⎡  0    \n",
       "⎜⎢             ⎥, ⎢⎢             ⎥, ⎢             ⎥, ⎢             ⎥, ⎢       \n",
       "⎝⎣  0    -1.0⋅ⅈ⎦  ⎣⎣  0    -1.0⋅ⅈ⎦  ⎣  0     1.0⋅ⅈ⎦  ⎣-1.0⋅ⅈ    0  ⎦  ⎣1.0⋅ⅈ  \n",
       "\n",
       "-1.0⋅ⅈ⎤⎤  ⎡⎡1.0⋅ⅈ    0   ⎤  ⎡-1.0⋅ⅈ    0  ⎤  ⎡  0    -1.0⋅ⅈ⎤  ⎡  0     1.0⋅ⅈ⎤⎤\n",
       "      ⎥⎥, ⎢⎢             ⎥, ⎢             ⎥, ⎢             ⎥, ⎢             ⎥⎥\n",
       "  0   ⎦⎦  ⎣⎣  0    -1.0⋅ⅈ⎦  ⎣  0     1.0⋅ⅈ⎦  ⎣1.0⋅ⅈ    0   ⎦  ⎣-1.0⋅ⅈ    0  ⎦⎦\n",
       "\n",
       "⎞\n",
       "⎟\n",
       "⎠"
      ]
     },
     "execution_count": 4,
     "metadata": {},
     "output_type": "execute_result"
    }
   ],
   "source": [
    "H3 = [s0,-s0,s1,-s1]\n",
    "def H3e(j):\n",
    "    return [Gp[j]*H3[0],Gp[j]*H3[1],Gp[j]*H3[2],Gp[j]*H3[3]]\n",
    "def H3d(j):\n",
    "    return [H3[0]*Gp[j],H3[1]*Gp[j],H3[2]*Gp[j],H3[3]*Gp[j]]\n",
    "j = 14; Gp[j], H3e(j), H3d(j)"
   ]
  },
  {
   "cell_type": "markdown",
   "metadata": {},
   "source": [
    "## Teorema\n",
    "Um subgrupo invariante $H$ contém todos os elementos de uma certa classe conjugada $G_{g_{j}}$, ou nenhum.\n",
    "### Prova\n",
    "Se um certo elemento de uma classe conjugada $G_{g_{j}}$ pertence a um subgrupo invariante $H$, então existem $g_{k}\\in G$ e $h_{l}\\in H$ tais que\n",
    "\\begin{equation}\n",
    "g_{k}*g_{j}*g_{k}^{-1}=h_{l}.\n",
    "\\end{equation}\n",
    "Vamos considerar as classes conjugadas dos elementos nos dois lados dessa igualdade:\n",
    "\\begin{align}\n",
    "& \\{g_{m}*g_{k}*g_{j}*g_{k}^{-1}*g_{m}^{-1}\\}_{m=1}^{|G|} = \\{g_{n}*g_{j}*g_{n}^{-1}\\}_{n=1}^{|G|} = G_{g_{j}} \\\\\n",
    "& = \\{g_{m}*h_{l}*g_{m}^{-1}\\}_{m=1}^{|G|}\\subseteq H,\n",
    "\\end{align}\n",
    "pois, como $H$ é um subgrupo invariante de $G$, e portanto $g_{m}*H*g_{m}^{-1}\\equiv H \\ \\forall g_{m}\\in G$, então todos os elementos $g_{m}*h_{l}*g_{m}^{-1}\\in H$. A outra opção é que nenhum elemento de $G_{g_{j}}$ esteja em $H. \\hspace{1cm}\\square$\n",
    "\n",
    "##### Exemplo\n",
    "Para instâncias de implementações desse teorema, notemos que para o subgrupo invariante $H_{3}=\\{\\pm\\sigma_{0},\\pm\\sigma_{1}\\}$ e a classe conjugada $G_{\\sigma_{1}}=\\{\\pm\\sigma_{1}\\}$, temos que $G_{\\sigma_{1}}\\subset H_{3}$. Já para a classe conjugada $G_{\\sigma_{2}}=\\{\\pm\\sigma_{2}\\}$, temos $G_{\\sigma_{2}}\\cap H_{3}\\equiv\\emptyset$."
   ]
  },
  {
   "cell_type": "markdown",
   "metadata": {},
   "source": [
    "## Composição de subconjuntos\n",
    "Sejam $A=\\{a_{1},a_{2},\\cdots,a_{N}\\}$ e $B=\\{b_{1},b_{2},\\cdots,b_{M}\\}$ dois subconjuntos de um grupo $(G,*)$. Definimos a composição desses subconjuntos como $$A*B := (a_{1}*B)\\cup(a_{2}*B)\\cup\\cdots\\cup(a_{N}*B).$$ Pode-se verificar também que $$A*B\\equiv(A*b_{1})\\cup(A*b_{2})\\cup\\cdots\\cup(A*b_{M}).$$\n",
    "Já vimos a definição de composição de um elemento de $G$ com um subconjunto de $G$: e.g. $a_{j}*B := \\{a_{j}*b_{1},\\cdots,a_{j}*b_{M}\\}$ e $A*b_{j}=\\{a_{1}*b_{j},\\cdots,a_{N}*b_{j}\\}$. \n",
    "Na sequência provaremos alguns resultados que serão úteis para a discussão do grupo fator, que é o grupo formado por cosets de um subgrupo invariante."
   ]
  },
  {
   "cell_type": "markdown",
   "metadata": {},
   "source": [
    "### Proposição\n",
    "Se $H=\\{h_{1},\\cdots,h_{|H|}\\}$ é um subgrupo de $G$, então $H*H\\equiv H$.\n",
    "\n",
    "#### Prova\n",
    "Usando o teorema do rearranjamento,\n",
    "\\begin{align}\n",
    "H*H & = (h_{1}*H)\\cup(h_{2}*H)\\cup\\cdots\\cup(h_{|H|}*H) \\\\\n",
    "&\\equiv H\\cup H\\cup\\cdots\\cup H \\\\\n",
    "& \\equiv H. \\hspace{3cm}\\square\n",
    "\\end{align}"
   ]
  },
  {
   "cell_type": "markdown",
   "metadata": {},
   "source": [
    "### Proposição\n",
    "Sejam $A=\\{a_{1},a_{2},\\cdots,a_{N}\\}$ e $B=\\{b_{1},b_{2},\\cdots,b_{M}\\}$ subconjuntos e $c$ um elemento qualquer de um grupo $G$. Segue que\n",
    "\\begin{equation}\n",
    "(c*A)*B\\equiv c*(A*B).\n",
    "\\end{equation}\n",
    "#### Prova\n",
    "\\begin{align}\n",
    "(c*A)*B & = \\{c*a_{1},\\cdots,c*a_{N}\\}*B \\\\\n",
    "& = ((c*a_{1})*B)\\cup\\cdots\\cup((c*a_{N})*B) \\\\\n",
    "& = \\{(c*a_{1})*b_{1},\\cdots,(c*a_{1})*b_{M}\\}\\cup\\cdots\\cup\\{(c*a_{N})*b_{1},\\cdots,(c*a_{N})*b_{M}\\} \\\\\n",
    "& = \\{c*(a_{1}*b_{1}),\\cdots,c*(a_{1}*b_{M}))\\}\\cup\\cdots\\cup\\{c*(a_{N}*b_{1}),\\cdots,c*(a_{N}*b_{M})\\} \\\\\n",
    "& = c*\\{a_{1}*b_{1},\\cdots,a_{1}*b_{M}\\}\\cup\\cdots\\cup c*\\{a_{N}*b_{1},\\cdots,a_{N}*b_{M}\\} \\\\\n",
    "& \\equiv c*(\\{a_{1}*b_{1},\\cdots,a_{1}*b_{M}\\}\\cup\\cdots\\cup \\{a_{N}*b_{1},\\cdots,a_{N}*b_{M}\\}) \\\\\n",
    "& = c*(a_{1}*\\{b_{1},\\cdots,b_{M}\\}\\cup\\cdots\\cup a_{N}*\\{b_{1},\\cdots,b_{M}\\}) \\\\\n",
    "& = c*(\\{a_{1},\\cdots,a_{N}\\}*\\{b_{1},\\cdots,b_{M}\\}) \\\\\n",
    "& = c*(A*B). \\hspace{3cm}\\square\n",
    "\\end{align}\n",
    "\n",
    "Pode-se verificar que $(A*c)*B=A*(c*B)$ e que $A*(B*c)=(A*B)*c$."
   ]
  },
  {
   "cell_type": "markdown",
   "metadata": {},
   "source": [
    "### Proposição\n",
    "Para $G$ um grupo e para quaisquer $c,d\\in G$ e $A,B\\subset G$, segue que\n",
    "\\begin{equation}\n",
    "(c*A)*(d*B) = c*(A*d)*B.\n",
    "\\end{equation}\n",
    "\n",
    "#### Prova\n",
    "Pela proposição anterior, e associatividade, vem que\n",
    "\\begin{align}\n",
    "(c*A)*(d*B) & = c*(A*(d*B)) \\\\\n",
    "& = c*(\\{a_{1},\\cdots,a_{N}\\}*\\{d*b_{1},\\cdots,d*b_{M}\\}) \\\\\n",
    "& = c*(a_{1}*\\{d*b_{1},\\cdots,d*b_{M}\\}\\cup\\cdots\\cup a_{N}*\\{d*b_{1},\\cdots,d*b_{M}\\}) \\\\\n",
    "& = c*(\\{(a_{1}*d)*b_{1},\\cdots,(a_{1}*d)*b_{M}\\}\\cup\\cdots\\cup \\{(a_{N}*d)*b_{1},\\cdots,(a_{N}*d)*b_{M}\\}) \\\\\n",
    "& = c*((a_{1}*d)*\\{b_{1},\\cdots,b_{M}\\}\\cup\\cdots\\cup (a_{N}*d)*\\{b_{1},\\cdots,b_{M}\\}) \\\\\n",
    "& = c*((a_{1}*d)*B\\cup\\cdots\\cup (a_{N}*d)*B) \\\\\n",
    "& = c*(\\{a_{1}*d,\\cdots,a_{N}*d\\}*B) \\\\\n",
    "& = c*(\\{a_{1},\\cdots,a_{N}\\}*d)*B \\\\\n",
    "& = c*(A*d)*B. \\hspace{3cm}\\square\n",
    "\\end{align}"
   ]
  },
  {
   "cell_type": "markdown",
   "metadata": {},
   "source": [
    "## Teorema (grupo fator)\n",
    "Segundo a operação de composição de sub-conjuntos de um grupo $G$, os cosets de um subgrupo invariante $H$ do grupo $G$ formam um grupo, que é denominado grupo fator (ou grupo quociente, pois $|G/H|=|G|/|H|$) e denotado por\n",
    "\\begin{equation}\n",
    "G/H := \\{g_{1}*H,\\cdots,g_{|G|}*H\\}.\n",
    "\\end{equation}\n",
    "\n",
    "### Prova\n",
    "Para $H$ um subgrupo invariante do grupo $G$ teremos:\n",
    "\n",
    "* A composição de dois cosets de $H$ é um coset de $H$:<br>\n",
    "\\begin{align}\n",
    "(g_{j}*H)*(g_{k}*H) &= g_{j}*(H*g_{k})*H \\\\\n",
    "& = g_{j}*(g_{k}*H)*H \\\\\n",
    "& = g_{j}*(g_{k}*(H*H)) = (g_{j}*g_{k})*H \\\\\n",
    "& = g_{l}*H.\n",
    "\\end{align}\n",
    "Pode-se verificar também que $(H*g_{j})*(H*g_{k})=(H*g_{l})$."
   ]
  },
  {
   "cell_type": "markdown",
   "metadata": {},
   "source": [
    "* A composição de cosets é associativa:\n",
    "\\begin{align}\n",
    "& ((g_{j}*H)*(g_{k}*H))*(g_{l}*H) = (g_{j}*(H*g_{k})*H)*(g_{l}*H) \\\\ \n",
    "& = (g_{j}*g_{k}*H*H)*(g_{l}*H) = (g_{m}*H)*(g_{l}*H) = g_{j}*g_{k}*(H*(g_{l}*H)) \\\\ \n",
    "& = g_{j}*((g_{k}*H)*(g_{l}*H)) = g_{j}*((H*g_{k})*(g_{l}*H)) \\\\ \n",
    "& = g_{j}*((H*H*g_{k})*(g_{l}*H)) = g_{j}*(H*(H*g_{k})*(g_{l}*H)) \\\\\n",
    "& = (g_{j}*H)*((H*g_{k})*(g_{l}*H)).\n",
    "\\end{align}\n",
    "Analogamente, pode-se verificar que $((H*g_{j})*(H*g_{k}))*(H*g_{l})=(H*g_{j})*((H*g_{k})*(H*g_{l})).$\n",
    "\n",
    "* $H$ age como o elemento identidade quando composto com seus cosets:\n",
    "\\begin{align}\n",
    "(g_{j}*H)*H & = g_{j}*(H*H) \\\\\n",
    "& = g_{j}*H.\n",
    "\\end{align}\n",
    "Analogamente, pode-se verificar que $H*(g_{j}*H) = g_{j}*H.$\n",
    "\n",
    "* $g_{j}^{-1}*H$ é o elemento inverso de $g_{j}*H$, $\\forall g_{j}\\in G$:\n",
    "\\begin{align}\n",
    "(g_{j}^{-1}*H)*(g_{j}*H) & = g_{j}^{-1}*(H*g_{j})*H \\\\\n",
    "& = g_{j}^{-1}*(g_{j}*H)*H = (g_{j}^{-1}*g_{j})*(H*H) \\\\\n",
    "& = e*H = H.\n",
    "\\end{align}\n",
    "Analogamente, pode-se verificar que $(g_{j}*H)*(g_{j}^{-1}*H)=H.$"
   ]
  },
  {
   "cell_type": "markdown",
   "metadata": {},
   "source": [
    "##### Exemplo\n",
    "Consideremos o grupo fator do subgrupo invariante $H_{3}=\\{\\sigma_{0},-\\sigma_{0},\\sigma_{1},-\\sigma_{1}\\}$. Com o código abaixo obtemos os elementos do grupo fator $G_{p}/H_{3}$:\n",
    "\\begin{align}\n",
    "G_{p}/H_{3} & = \\{H_{3},H_{3},iH_{3},iH_{3},H_{3},H_{3},iH_{3},iH_{3},C_{1},C_{1},C_{2},C_{2},C_{2},C_{2},C_{1},C_{1}\\} \\\\\n",
    "& = \\{H_{3},iH_{3},C_{1},C_{2}\\},\n",
    "\\end{align}\n",
    "onde definimos\n",
    "\\begin{align}\n",
    "C_{1} & = \\{\\sigma_{2},-\\sigma_{2},i\\sigma_{3},-i\\sigma_{3}\\}, \\\\\n",
    "C_{2} & = \\{i\\sigma_{2},-i\\sigma_{2},\\sigma_{3},-\\sigma_{3}\\}.\n",
    "\\end{align}\n",
    "A ordem do grupo fator é o número de elementos (conjuntos) diferentes em $G/H$. Aqui teremos $$|G_{p}/H_{3}|=4=16/4=|G_{p}|/|H_{3}|,$$ que indica a origem do nome desse grupo como grupo quociente."
   ]
  },
  {
   "cell_type": "code",
   "execution_count": 5,
   "metadata": {},
   "outputs": [
    {
     "data": {
      "image/png": "[encoded data removed]",
      "text/latex": [
       "$$\\left ( \\left[\\begin{matrix}1 & 0\\\\0 & 1\\end{matrix}\\right], \\quad \\left [ \\left[\\begin{matrix}1 & 0\\\\0 & 1\\end{matrix}\\right], \\quad \\left[\\begin{matrix}-1 & 0\\\\0 & -1\\end{matrix}\\right], \\quad \\left[\\begin{matrix}0 & 1\\\\1 & 0\\end{matrix}\\right], \\quad \\left[\\begin{matrix}0 & -1\\\\-1 & 0\\end{matrix}\\right]\\right ]\\right )$$"
      ],
      "text/plain": [
       "⎛⎡1  0⎤  ⎡⎡1  0⎤  ⎡-1  0 ⎤  ⎡0  1⎤  ⎡0   -1⎤⎤⎞\n",
       "⎜⎢    ⎥, ⎢⎢    ⎥, ⎢      ⎥, ⎢    ⎥, ⎢      ⎥⎥⎟\n",
       "⎝⎣0  1⎦  ⎣⎣0  1⎦  ⎣0   -1⎦  ⎣1  0⎦  ⎣-1  0 ⎦⎦⎠"
      ]
     },
     "execution_count": 5,
     "metadata": {},
     "output_type": "execute_result"
    }
   ],
   "source": [
    "j = 0; Gp[j], H3e(j)"
   ]
  },
  {
   "cell_type": "markdown",
   "metadata": {},
   "source": [
    "---\n",
    "# Exercícios\n",
    "\n",
    "1. Prove o teorema do rearranjamento cosiderando a composição pela direita $G*g_{i}.$\n",
    "\n",
    "1. Forneça 1 exemplo de subgrupo próprio do grupo de Pauli.\n",
    "\n",
    "1. Forneça 1 exemplo de coset de subgrupos próprios do grupo de Pauli.\n",
    "\n",
    "1. Forneça 1 decomposição do grupo de Pauli em termos de cosets de algum de seus subgrupos.\n",
    "\n",
    "1. Forneça 1 exemplo de classe conjugada para algum dos elementos do grupo de Pauli.\n",
    "\n",
    "1. Forneça 1 decomposição do grupo de Pauli em termos de classes conjugadas.\n",
    "\n",
    "1. Forneça 1 exemplo de subgrupo invariante do grupo de Pauli.\n",
    "\n",
    "1. Forneça 1 exemplo de classe conjugada contida e 1 exemplo de classe conjugada não contida em um certo subgrupo invariante do grupo de Pauli.\n",
    "\n",
    "1. Verifique que $(A*c)*B=A*(c*B)$ e que $A*(B*c)=(A*B)*c$, em que $A$ e $B$ são subconjuntos de um grupo $G$ e $c\\in G.$\n",
    "\n",
    "1. Verifique que $(H*g_{j})*(H*g_{k})=(H*g_{l})$, em que $H$ é um subgrupo invariante do grupo $G$ e $g_{j},g_{k},g_{l}\\in G.$\n",
    "\n",
    "1. Verifique que $((H*g_{j})*(H*g_{k}))*(H*g_{l})=(H*g_{j})*((H*g_{k})*(H*g_{l}))$, em que $H$ é um subgrupo invariante do grupo $G$ e $g_{j},g_{k},g_{l}\\in G.$\n",
    "\n",
    "1. Verifique que $H*(g_{j}*H) = g_{j}*H$, em que $H$ é um subgrupo invariante do grupo $G$ e $g_{j}\\in G.$\n",
    "\n",
    "1. Verifique que $(g_{j}*H)*(g_{j}^{-1}*H)=H$, em que $H$ é um subgrupo invariante do grupo $G$ e $g_{j}\\in G.$\n",
    "\n",
    "1. Obtenha o grupo fator de um subgrupo invariante do grupo de Pauli."
   ]
  },
  {
   "cell_type": "code",
   "execution_count": null,
   "metadata": {},
   "outputs": [],
   "source": []
  }
 ],
 "metadata": {
  "kernelspec": {
   "display_name": "Python 3",
   "language": "python",
   "name": "python3"
  },
  "language_info": {
   "codemirror_mode": {
    "name": "ipython",
    "version": 3
   },
   "file_extension": ".py",
   "mimetype": "text/x-python",
   "name": "python",
   "nbconvert_exporter": "python",
   "pygments_lexer": "ipython3",
   "version": "3.6.6"
  }
 },
 "nbformat": 4,
 "nbformat_minor": 2
}
