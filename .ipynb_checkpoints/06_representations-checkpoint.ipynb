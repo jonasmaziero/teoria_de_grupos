{
 "cells": [
  {
   "cell_type": "markdown",
   "metadata": {},
   "source": [
    "## Notas de aula de Teoria de Grupos <br> Autor: Jonas Maziero\n",
    "Link para o vídeo da aula sobre esse tópico:"
   ]
  },
  {
   "cell_type": "code",
   "execution_count": 3,
   "metadata": {},
   "outputs": [],
   "source": [
    "%run init.ipynb"
   ]
  },
  {
   "cell_type": "markdown",
   "metadata": {},
   "source": [
    "# Representações lineares de um grupo\n",
    "A representação linear de um grupo $G$ é um homomorfismo (ou isomorfismo) entre este grupo e um subgrupo $D(\\mathcal{H})$ do grupo de operadores lineares inversíveis $L(\\mathcal{H})$, com $D(\\mathcal{H})\\subseteq L(\\mathcal{H})$. Como $L(\\mathcal{H})$ é isomórfico ao grupo de matrizes inversíveis que representam esses operadores lineares em uma determinada base $\\{|\\psi\\rangle\\}$, que denotaremos por $L_{\\psi}(\\mathcal{H})$, podemos nos referir a essas representações de forma indiferente:\n",
    "\\begin{equation}\n",
    "G\\mapsto D(\\mathcal{H}) \\text{ ou } G\\mapsto D_{\\psi}(\\mathcal{H}),\n",
    "\\end{equation}\n",
    "em que $D_{\\psi}(\\mathcal{H})$ é um subgrupo de $L_{\\psi}(\\mathcal{H}).$\n",
    "\n",
    "Para $g\\in G$, denotaremos as matrizes (operadores lineares) nas quais $g$ é mapeado por $M_{g}\\in D(\\mathcal{H}).$ Pela definição de homomorfismo (isomorfismo), se $g,h\\in G$ devemos ter que\n",
    "\\begin{align}\n",
    "& g*h\\mapsto M_{g*h}=M_{g}M_{h}, \\\\\n",
    "& g^{-1}\\mapsto M_{g^{-1}}=M_{g}^{-1}, \\\\\n",
    "& e\\mapsto M_{e}=\\mathbb{I}.\n",
    "\\end{align}\n",
    "\n",
    "A _ordem_ ou _dimensão da representação_ é denotada e dada por $$\\eta_{\\psi}\\equiv[\\psi]:=\\dim\\mathcal{H},$$ i.e., é a dimensão do espaço vetorial no qual os operadores lineares (matrizes) atuam."
   ]
  },
  {
   "cell_type": "markdown",
   "metadata": {},
   "source": [
    "## Obtendo representações\n",
    "Consideremos que os elementos de um grupo $G$ atuam em um espaço de configurações $X$. Seja $x\\in X$ e $f(x)$ uma função escalar dessas configurações. Para cada $g\\in G$ com ação $$gx=\\bar{x}$$ em $X$, teremos um operador linear correspondente $O_{g}$ atuando no espaço de funções $F$ tal que \n",
    "$$O_{g}f=\\bar{f}$$\n",
    "tal que \n",
    "$$\\bar{f}(\\bar{x})=O_{g}f(gx):=f(x).$$ \n",
    "Ou seja, se mudamos a configuração $x\\rightarrow \\bar{x}=gx$, a função também muda $f\\rightarrow \\bar{f}=O_{g}f$ de forma que o valor da nova função na nova configuração seja o mesmo que o da antiga função na antiga configuração. Dessa forma, teremos também que \n",
    "$$O_{g}f(x)=\\bar{f}(x)=\\bar{f}(g*g^{-1}x)=\\bar{f}(\\bar{\\tilde{x}})=f(g^{-1}x),$$ com $\\tilde{x}:=g^{-1}x.$ \n",
    "Ou seja, a nova função na antiga configuração deve ser igual à antiga função obtida aplicando-se a transformação inversa $g^{-1}$ na antiga configuração. \n",
    "\n",
    "##### Exemplo\n",
    "Consideremos a transformação $$x\\rightarrow \\bar{x}=x-2$$ ($G$ seria $\\mathbb{R}$ sob deslocamente) e a função $$f(x)=|x|.$$ Ou seja, deslocamos todos os pontos de $X=\\mathbb{R}$ duas unidades para a esquerda. Isso equivale a transformarmos a função como $$\\bar{f}(x)=f(x+2).$$ Já a função transformada na coordenada transformada coincide com a função original na coordenada original, i.e., $$\\bar{f}(\\bar{x})=f(x+2-2)=f(x).$$"
   ]
  },
  {
   "cell_type": "code",
   "execution_count": 37,
   "metadata": {},
   "outputs": [
    {
     "data": {
      "image/png": "[encoded data removed]",
      "text/plain": [
       "<matplotlib.figure.Figure at 0x7fe9411a04a8>"
      ]
     },
     "metadata": {
      "needs_background": "light"
     },
     "output_type": "display_data"
    }
   ],
   "source": [
    "fig = plt.figure(figsize=(6,4)); x = np.arange(-5,5,0.2); f = np.abs(x); fb = np.abs(x+2)\n",
    "fbb = np.abs(x+2-2); plt.plot(x,f); plt.plot(x,fb); plt.plot(x,fbb,'.')\n",
    "plt.legend((r'$f(x)$',r'$\\bar{f}(x)$',r'$\\bar{f}(\\bar{x})$')); plt.xlabel(r'$x$')\n",
    "plt.show()"
   ]
  },
  {
   "cell_type": "markdown",
   "metadata": {},
   "source": [
    "### As operações nas funções formam um grupo\n",
    "Consideremos elementos $g,h,p\\in G$ atuando em $X$ e operadores lineares correspondentes $O_{g},O_{h},O_{p}$ atuando em $F.$ Podemos escrever \n",
    "$$\\bar{\\bar{x}}=h\\bar{x}=h*gx \\equiv px \\ \\therefore p=h*g.$$ \n",
    "Ademais,\n",
    "$$\\bar{\\bar{f}}(\\bar{\\bar{x}})=O_{h}\\bar{f}(h\\bar{x})=O_{h}*O_{g}f(h*gx) \\equiv O_{p}f(px).$$ \n",
    "Com isso temos a propriedade de fechamento: $$O_{h}*O_{g}=O_{p}=O_{h*g}.$$\n",
    "Associatividade é obtida de \n",
    "\\begin{align}\n",
    "O_{h}*(O_{g}*O_{p}) &= O_{h}*O_{g*p} = O_{h*(g*p)} = O_{(h*g)*p} = O_{h*g}*O_{p} \\\\\n",
    "&= (O_{h}*O_{g})*O_{p}.\n",
    "\\end{align}\n",
    "A identidade é $$O_{e}f(ex)=O_{e}f(x)=f(x).$$ Da composição vem a inversa: $$O_{g}*O_{g^{-1}}=O_{g*g^{-1}}=O_{e}\\ \\therefore O_{g^{-1}}=(O_{g})^{-1}.$$"
   ]
  },
  {
   "cell_type": "markdown",
   "metadata": {},
   "source": [
    "### Exemplos de representações\n",
    "Consideremos o grupo de dois elementos $G=\\{e,P\\}$ atuando em $X=\\mathbb{R}^{3}$ como segue\n",
    "$$ex:=x \\text{ e } Px:=-x.$$ Ou seja, esse grupo é constituído pela elemento identidade e pelo operador de inversão espacial. \n",
    "\n",
    "Escolhendo uma __função qualquer__ $f(x)$ teremos que\n",
    "\\begin{align}\n",
    "& O_{e}f(ex)=O_{e}f(x)=f(x) \\ \\therefore O_{e}f(x)=f(x), \\\\\n",
    "& O_{e}f(e(-x))=O_{e}f(-x)=f(-x) \\ \\therefore O_{e}f(-x)=f(-x).\n",
    "\\end{align}\n",
    "Ou seja, $O_{e}$ atua como o operador identidade. De maneira análoga,\n",
    "\\begin{align}\n",
    "& O_{P}f(Px)=O_{P}f(-x)=f(x) \\ \\therefore O_{P}f(-x)=f(x), \\\\\n",
    "& O_{P}f(P(-x))=O_{P}f(x)=f(-x) \\ \\therefore O_{P}f(x)=f(-x).\n",
    "\\end{align}\n",
    "Vemos assim que podemos escrever $O_{g}f(\\pm x)$ como combinações lineares de $f(\\pm x):$\n",
    "\\begin{align}\n",
    "& O_{e}f(x)=1f(x)+0f(-x),\\ O_{e}f(-x)=0f(x)+1f(-x),\\\\\n",
    "& O_{P}f(x)=0f(x)+1f(-x),\\ O_{P}f(-x)=1f(x)+0f(-x).\n",
    "\\end{align}\n",
    "Ou seja, podemos dar a esses operadores a seguinte representação matricial:\n",
    "$$e\\mapsto O_{e}=\\begin{bmatrix}1&0\\\\0&1\\end{bmatrix}=\\mathbb{I}_{2}, \\ P\\mapsto O_{P}=\\begin{bmatrix}0&1\\\\1&0\\end{bmatrix}=\\sigma_{x}.$$\n",
    "Como já vimos, essas duas matrizes formam um grupo."
   ]
  },
  {
   "cell_type": "markdown",
   "metadata": {},
   "source": [
    "Consideremos agora uma __função par__ $$f_{p}(x)=f_{p}(-x).$$ Nesse caso, pode-se verificar que $$O_{e}f_{p}(\\pm x)=f_{p}(\\pm x) \\text{ e } O_{P}f_{p}(\\pm x)=f_{p}(\\pm x).$$ Portanto a representação nesse caso é unidimensional: $$e\\mapsto O_{e}^{(1)}=(1) \\text{ e }P\\mapsto O_{P}^{(1)}=(1).$$\n",
    "\n",
    "Para uma __função ímpar__ $$f_{i}(x)=-f_{i}(-x),$$ pode-se verificar que $$O_{e}f_{i}(\\pm x)=f_{i}(\\pm x) \\text{ e } O_{P}f_{i}(\\pm x)=-f_{i}(\\pm x).$$ Portanto a representação nesse caso também é unidimensional: $$e\\mapsto O_{e}^{(2)}=(1) \\text{ e }P\\mapsto O_{P}^{(2)}=(-1).$$"
   ]
  },
  {
   "cell_type": "markdown",
   "metadata": {},
   "source": [
    "Se considerarmos __funções pares e funções ímpares__ obteremos\n",
    "\\begin{align}\n",
    "& O_{e}f_{p}(\\pm x)= 1f_{p}(\\pm x)+0f_{i}(\\pm x),\\ O_{e}f_{i}(\\pm x)= 0f_{p}(\\pm x)+1f_{i}(\\pm x), \\\\\n",
    "& O_{P}f_{p}(\\pm x)= 1f_{p}(\\pm x)+0f_{i}(\\pm x),\\ O_{P}f_{i}(\\pm x)= 0f_{p}(\\pm x)-1f_{i}(\\pm x).\n",
    "\\end{align}\n",
    "Com isso, obtemos a seguinte representação bidimensional\n",
    "\\begin{align}\n",
    "e\\mapsto O_{e}^{(3)} &= \\begin{bmatrix}1&0\\\\0&1\\end{bmatrix}=\\mathbb{I}_{2} , \n",
    "\\\\ P\\mapsto O_{P}^{(3)} &= \\begin{bmatrix}1&0\\\\0&-1\\end{bmatrix}=\\sigma_{3}.\n",
    "\\end{align}\n",
    "Já vimos também que essas matrizes formam um grupo. "
   ]
  },
  {
   "cell_type": "markdown",
   "metadata": {},
   "source": [
    "### Soma de representações\n",
    "Notemos que a última representação pode ser escrita em termos das duas representações anteriores como segue: \n",
    "$$O_{e}^{(3)} = \\begin{bmatrix}O_{e}^{(1)}&\\mathbb{O}_{2}\\\\\\mathbb{O}_{2}&O_{e}^{(2)}\\end{bmatrix} \\text{ e } O_{P}^{(3)} = \\begin{bmatrix}O_{P}^{(1)}&\\mathbb{O}_{2}\\\\\\mathbb{O}_{2}&O_{P}^{(2)}\\end{bmatrix}.$$\n",
    "Acima e doravante, $\\mathbb{O}_{n}$ denota a matriz nula $n\\text{x}n.$ Do mesmo modo, $\\mathbb{O}_{n\\text{x}m}$ denota a matriz nula $n\\text{x}m.$ Quando podemos relacionar as representações dessa forma, dizemos que $O^{(3)}$ é a soma das representações $O^{(1)}$ e $O^{(2)}$, o que é denotado por $$O^{(3)}=O^{(1)}+O^{(2)}.$$\n",
    "\n",
    "De forma geral, se temos um conjunto de $n$ funções linearmente independentes $f_{1},\\cdots,f_{n}$ tais que \n",
    "$$O_{g}f_{j}=\\sum_{k=1}^{n}(M_{g}^{(1)})_{j,k}f_{k},$$ para $j=1,\\cdots,n$,\n",
    "teremos obtido a representação $M_{g}^{(1)}$ para $G$. Se usamos outro conjunto LI (entre si e em relação ao 1º conjunto) $f_{n+1},\\cdots,f_{m}$ para escrever \n",
    "$$O_{g}f_{j}=\\sum_{k=n+1}^{m}(M_{g}^{(2)})_{j,k}f_{k},$$ para $j=n+1,\\cdots,m$,\n",
    "teremos obtido uma 2ª representação $M_{g}^{(2)}$ para $G$. Agora, se escrevemos \n",
    "$$O_{g}f_{j}=\\sum_{k=1}^{n}(M_{g}^{(1)})_{j,k}f_{k}+\\sum_{k=n+1}^{m}(M_{g}^{(2)})_{j,k}f_{k}$$ para $j=1,\\cdots,m$, obteremos a representação matricial\n",
    "$$M_{g}^{(3)}=\\begin{bmatrix} M_{g}^{(1)} & \\mathbb{O}_{n\\text{x}m} \\\\ \\mathbb{O}_{m\\text{x}n} & M_{g}^{(2)} \\end{bmatrix} \\equiv M_{g}^{(1)}+M_{g}^{(2)}.$$"
   ]
  },
  {
   "cell_type": "markdown",
   "metadata": {},
   "source": [
    "## Equivalência entre representações\n",
    "Consideremos as representações lineares $G\\mapsto D(\\mathcal{H})$ e $G\\mapsto D'(\\mathcal{H})$. Se todos os operadores lineares $A\\in D(\\mathcal{H})$ e $A'\\in D'(\\mathcal{H})$ são relacionados através de uma transformação de similaridade\n",
    "\\begin{equation}\n",
    "A=CA'C^{-1},\n",
    "\\end{equation}\n",
    "onde $C:\\mathcal{H}\\rightarrow\\mathcal{H}$ é um operador linear invesível, dizemos que as duas representações são equivalentes. Nesse caso usamos a notação\n",
    "\\begin{equation}\n",
    "D(\\mathcal{H}) \\simeq D'(\\mathcal{H}).\n",
    "\\end{equation}\n",
    "Essa equivalência é vista olhando para as tabelas de composição. Para $A,B\\in D(\\mathcal{H})$ e $A',B'\\in D'(\\mathcal{H})$ teremos\n",
    "\\begin{align}\n",
    "AB &= CA'C^{-1}CB'C^{-1} = CA'\\mathbb{I}B'C^{-1} \\\\ \n",
    "& = CA'B'C^{-1} = CQ'C^{-1} = Q,\n",
    "\\end{align}\n",
    "i.e., $$A'B'=Q'\\therefore AB=Q,$$ o que implica que a estrutura de ambas representações é a mesma."
   ]
  },
  {
   "cell_type": "markdown",
   "metadata": {},
   "source": [
    "## Caráter de uma representação\n",
    "Seja $G$ um grupo com representação linear $D(\\mathcal{H})$. O caráter $\\chi$ de um elemento $g\\in G$ com correspondência $g\\mapsto M_{g}$ é definido como o traço da matriz que o representa:\n",
    "\\begin{equation}\n",
    "\\chi(g) := Tr(M_{g}).\n",
    "\\end{equation}\n",
    "\n",
    "Sejam $D(\\mathcal{H})$ e $D'(\\mathcal{H})$ representações equivalentes de $G$. Se $g\\mapsto M_{g}$ e $g\\mapsto M'_{g}$ com $M_{g}\\in D(\\mathcal{H})$ $M'_{g}\\in D'(\\mathcal{H})$ e $M_{g}=CM'_{g}C^{-1}$ para $C$ um operador linear inversível, então teremos \n",
    "\\begin{align}\n",
    "Tr(M_{g}) &= Tr(CM'_{g}C^{-1}) = Tr(C^{-1}CM'_{g}) = Tr(\\mathbb{I}M'_{g}) \\\\\n",
    "&=Tr(M'_{g}).\n",
    "\\end{align}\n",
    "Por conseguinte, o conjunto de caracteres dos elementos de um grupo é o mesmo para todas as suas representações equivalentes. Com isso, vemos que é possível diferenciar representações não equivalentes de um grupo a partir dos vetores de caracteres dos seus elementos."
   ]
  },
  {
   "cell_type": "markdown",
   "metadata": {},
   "source": [
    "## Teorema (representações unitárias)\n",
    "Qualquer representação linear de um _grupo finito_, $G\\mapsto D(\\mathcal{H})$, é equivalente a uma representação unitária, $G\\mapsto U(\\mathcal{H})$ com $U(\\mathcal{H})\\subseteq U(n).$\n",
    "### Prova\n",
    "Seja $(\\cdot,\\cdot)$ a função produto interno no espaço de Hilbert $\\mathcal{H}$ no qual os operadores unitários $A_{j}\\in D(\\mathcal{H})$ estão definidos. Para $g_{m}^{j}\\in G$ e quaisquer $|\\psi\\rangle,|\\phi\\rangle\\in\\mathcal{H}$ e $g_{m}^{j}\\mapsto A_{j}=:A(g_{m}^{j})$, definiremos uma nova função\n",
    "\\begin{equation}\n",
    "\\{|\\psi\\rangle,|\\phi\\rangle\\} := \\frac{1}{|G|}\\sum_{m,j}(A(g_{m}^{j})|\\psi\\rangle,A(g_{m}^{j})|\\phi\\rangle).\n",
    "\\end{equation}\n",
    "Note que a soma é feita sobre todos os elementos de $G$. Pode-se verificar que $\\{.,.\\}$ é uma função produto interno."
   ]
  },
  {
   "cell_type": "markdown",
   "metadata": {},
   "source": [
    "Para um certo elemento $g_{n}^{k}\\in G$ teremos que\n",
    "\\begin{equation}\n",
    "\\{A(g_{n}^{k})|\\psi\\rangle,A(g_{n}^{k})|\\phi\\rangle\\} := \\frac{1}{|G|}\\sum_{m,j}(A(g_{m}^{j})A(g_{n}^{k})|\\psi\\rangle,A(g_{m}^{j})A(g_{n}^{k})|\\phi\\rangle).\n",
    "\\end{equation}\n",
    "Como estamos somando sobre todos os elementos de $G$, pelo teorema do rearranjamento e pela preservação da composição no homomorfismo teremos\n",
    "\\begin{equation}\n",
    "A(g_{n}^{k})A(g_{m}^{j}) = A(g_{n}^{k}g_{m}^{j}) = A(g_{o}^{l}).\n",
    "\\end{equation}\n",
    "Assim\n",
    "\\begin{equation}\n",
    "\\{A(g_{n}^{k})|\\psi\\rangle,A(g_{n}^{k})|\\phi\\rangle\\} := \\frac{1}{|G|}\\sum_{o,l}(A(g_{o}^{l})|\\psi\\rangle,A(g_{o}^{l})|\\phi\\rangle) = \\{|\\psi\\rangle,|\\phi\\rangle\\}.\n",
    "\\end{equation}\n",
    "Ou seja, a função $\\{\\cdot,\\cdot\\}$ é invariante sob a ação de $A(g_{n}^{k})\\ \\forall n,k$. "
   ]
  },
  {
   "cell_type": "markdown",
   "metadata": {},
   "source": [
    "Seguindo, consideramos dois conjuntos de vetores $\\{|u_{j}\\rangle\\}$ e $\\{|v_{j}\\rangle\\}$ de $\\mathcal{H}$ tais que \n",
    "\\begin{equation}\n",
    "(|u_{j}\\rangle,|u_{k}\\rangle)=\\delta_{j,k}=\\{|v_{j}\\rangle,|v_{k}\\rangle\\}\n",
    "\\end{equation}\n",
    "e\n",
    "\\begin{equation}\n",
    "|v_{j}\\rangle=C|u_{j}\\rangle,\n",
    "\\end{equation}\n",
    "em que $C$ é um operador linear definido em $\\mathcal{H}$. Teremos assim que ($\\{|u_{j}\\rangle\\}$ deve ser uma base)\n",
    "\\begin{align}\n",
    "\\{C|\\psi\\rangle,C|\\phi\\rangle\\} & = \\left\\{C\\sum_{j}\\psi_{j}|u_{j}\\rangle,C\\sum_{k}\\phi_{k}|u_{k}\\rangle\\right\\} = \\sum_{j,k}\\psi_{j}^{*}\\phi_{k}\\{C|u_{j}\\rangle,C|u_{k}\\rangle\\} \\\\\n",
    "& = \\sum_{j,k}\\psi_{j}^{*}\\phi_{k}\\{|v_{j}\\rangle,|v_{k}\\rangle\\} = \\sum_{j,k}\\psi_{j}^{*}\\phi_{k}\\delta_{j,k} \\\\\n",
    "& = \\sum_{j,k}\\psi_{j}^{*}\\phi_{k}(|u_{j}\\rangle,|u_{k}\\rangle) = \\left(\\sum_{j}\\psi_{j}|u_{j}\\rangle,\\sum_{k}\\phi_{k}|u_{k}\\rangle\\right) \\\\\n",
    "& = (|\\psi\\rangle,|\\phi\\rangle).\n",
    "\\end{align}"
   ]
  },
  {
   "cell_type": "markdown",
   "metadata": {},
   "source": [
    "Vamos usar $C$ para definir a seguinte representação equivalente de $G$:\n",
    "\\begin{equation}\n",
    "B_{j}=C^{-1}A_{j}C.\n",
    "\\end{equation}\n",
    "Agora, usando $\\{C|\\psi\\rangle,C|\\phi\\rangle\\}=(|\\psi\\rangle,|\\phi\\rangle)$ e $\\{A(g_{n}^{k})|\\psi\\rangle,A(g_{n}^{k})|\\phi\\rangle\\} = \\{|\\psi\\rangle,|\\phi\\rangle\\}$ obtemos\n",
    "\\begin{align}\n",
    "(B(g_{n}^{k})|\\psi\\rangle,B(g_{n}^{k})|\\phi\\rangle) & = (C^{-1}A(g_{n}^{k})C|\\psi\\rangle,C^{-1}A(g_{n}^{k})C|\\phi\\rangle) \\\\ \n",
    "& = \\{CC^{-1}A(g_{n}^{k})C|\\psi\\rangle,CC^{-1}A(g_{n}^{k})C|\\phi\\rangle\\} \\\\\n",
    "& = \\{\\mathbb{I}A(g_{n}^{k})C|\\psi\\rangle,\\mathbb{I}A(g_{n}^{k})C|\\phi\\rangle\\} \\\\ \n",
    "& = \\{A(g_{n}^{k})C|\\psi\\rangle,A(g_{n}^{k})C|\\phi\\rangle\\} \\\\ \n",
    "& = \\{C|\\psi\\rangle,C|\\phi\\rangle\\} \\\\ \n",
    "& = (|\\psi\\rangle,|\\phi\\rangle).\n",
    "\\end{align}\n",
    "Como $B$ preserva o produto interno, vemos que essa representação equivalente é unitária, completando assim a prova do teorema. $\\hspace{2cm}\\square$"
   ]
  },
  {
   "cell_type": "markdown",
   "metadata": {},
   "source": [
    "# Exercícios\n",
    "\n",
    "1. No contexto do exemplo de representação do grupo $G=\\{e,P\\},$ usando uma função par verifique que $O_{e}f_{p}(\\pm x)=f_{p}(\\pm x)$ e $O_{P}f_{p}(\\pm x)=f_{p}(\\pm x).$ Verifique que se a função usada for ímpar, teremos $O_{e}f_{i}(\\pm x)=f_{i}(\\pm x)$ e $O_{P}f_{i}(\\pm x)=-f_{i}(\\pm x).$\n",
    "\n",
    "1. No contexto do exemplo de representação do grupo $G=\\{e,P\\},$ usando duas funções linearmente independentes quaisquer $f(x)$ e $\\phi(x),$ obtenha uma representação matricial de ordem $4$ para $G$. <br>\n",
    "Dica: Analogamente ao que fizemos nas notas de aula, considere $f(x),f(-x),\\phi(x),\\phi(-x).$\n",
    "\n",
    "1. Verifique que a função $\\{\\cdot,\\cdot\\}$, definida acima, satisfaz as propriedades exigidas de uma função produto interno."
   ]
  },
  {
   "cell_type": "code",
   "execution_count": null,
   "metadata": {},
   "outputs": [],
   "source": []
  }
 ],
 "metadata": {
  "kernelspec": {
   "display_name": "Python 3",
   "language": "python",
   "name": "python3"
  },
  "language_info": {
   "codemirror_mode": {
    "name": "ipython",
    "version": 3
   },
   "file_extension": ".py",
   "mimetype": "text/x-python",
   "name": "python",
   "nbconvert_exporter": "python",
   "pygments_lexer": "ipython3",
   "version": "3.6.6"
  }
 },
 "nbformat": 4,
 "nbformat_minor": 2
}
