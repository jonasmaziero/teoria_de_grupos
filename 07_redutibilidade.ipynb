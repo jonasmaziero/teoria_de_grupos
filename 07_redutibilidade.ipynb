{
 "cells": [
  {
   "cell_type": "markdown",
   "metadata": {},
   "source": [
    "## Notas de aula de Teoria de Grupos <br> Autor: Jonas Maziero"
   ]
  },
  {
   "cell_type": "markdown",
   "metadata": {},
   "source": [
    "# Redutibilidade de representações\n",
    "Consideremos a representação linear de um grupo $G\\mapsto D(\\mathcal{H})$. A princípio, as matrizes $A_{\\psi}\\in D_{\\psi}(\\mathcal{H})$ tem uma forma geral, e.g.\n",
    "\\begin{equation}\n",
    "A_{\\psi} = \\begin{bmatrix} A^{(1)}_{\\psi} & O^{(1)}_{\\psi} \\\\ \\tilde{O}^{(1)}_{\\psi} & A^{(2)}_{\\psi} \\end{bmatrix},\n",
    "\\end{equation}\n",
    "com $A^{(1)}_{\\psi},A^{(2)}_{\\psi}$ sendo matrizes quadradas e $O^{(1)}_{\\psi},\\tilde{O}^{(1)}_{\\psi}$ sendo matrizes retangulares, com as dimensões apropriadas. \n",
    "\n",
    "Dizemos que a representação $G\\mapsto D_{\\psi}(\\mathcal{H})$ é __redutível__ se podemos encontrar uma base tal que todas as matrizes $A_{\\psi}\\in D_{\\psi}(\\mathcal{H})$ dessa representação tem a forma\n",
    "\\begin{equation}\n",
    "A_{\\psi} = \\begin{bmatrix} A^{(1)}_{\\psi} & O^{(1)}_{\\psi} \\\\ \\mathbb{O} & A^{(2)}_{\\psi} \\end{bmatrix}.\n",
    "\\end{equation}\n",
    "\n",
    "Dizemos que a representação $G\\mapsto D_{\\psi}(\\mathcal{H})$ é __completamente redutível__ se $O^{(1)}_{\\psi}=\\mathbb{O}$, i.e., as matrizes $A_{\\psi}$ são bloco-diagonais:\n",
    "\\begin{equation}\n",
    "A_{\\psi} = \\begin{bmatrix} A^{(1)}_{\\psi} & \\mathbb{O} \\\\ \\mathbb{O} & A^{(2)}_{\\psi} \\end{bmatrix}.\n",
    "\\end{equation}"
   ]
  },
  {
   "cell_type": "markdown",
   "metadata": {},
   "source": [
    "Nesse último caso dizemos que $A_{\\psi}$ é a soma (direta) das representações $A^{(j)}_{\\psi}$, pois estas atuam subespaços ortogonais de $\\mathcal{H}$: $$A_{\\psi}=A^{(1)}_{\\psi}+A^{(2)}_{\\psi}.$$\n",
    "\n",
    "Para representações completamente redutíveis, o caráter de um elemento é a soma dos caracteres das sub-representações, i.e., para $g\\mapsto A_{\\psi}(g)$ teremos\n",
    "\\begin{equation}\n",
    "\\chi(g)=Tr\\big(A_{\\psi}(g)\\big)=Tr\\big(A_{\\psi}^{(1)}(g)\\big)+Tr\\big(A_{\\psi}^{(2)}(g)\\big).\n",
    "\\end{equation}\n",
    "\n",
    "Quando não conseguirmos mais reduzir as representações que aparecem na \"decomposição\" de $A_{\\psi}$, teremos encontrado a __representação irredutível__ do grupo $G:$\n",
    "\\begin{equation}\n",
    "A_{\\psi}=\\begin{bmatrix} A_{\\psi}^{(1)} & & O^{(1)} & &  \\\\ \\mathbb{O} & A_{\\psi}^{(2)} & & O^{(2)} &  \\\\ \\vdots & \\vdots & \\ddots & \\vdots & \\vdots \\\\ \\mathbb{O}  & \\mathbb{O}  & \\cdots & A_{\\psi}^{(k-1)} & O^{(k-1)} \\\\ \\mathbb{O}  & \\mathbb{O}  & \\cdots & \\mathbb{O}  & A_{\\psi}^{(k)} \\end{bmatrix}.\n",
    "\\end{equation}"
   ]
  },
  {
   "cell_type": "markdown",
   "metadata": {},
   "source": [
    "## Critério para redutibilidade\n",
    "Como podemos determinar se uma representação linear qualquer $G\\mapsto D_{\\psi}(\\mathcal{H})$ é redutível? Bom, se uma representação é redutível, então para vetores $|x\\rangle\\in\\mathcal{H}_{\\iota}$ de um subspaço $\\mathcal{H}_{\\iota}\\subset\\mathcal{H}$ teremos\n",
    "\\begin{equation}\n",
    "\\begin{bmatrix} A_{\\psi}^{(1)} & O^{(1)} \\\\ \\mathbb{O} & A_{\\psi}^{(2)} \\end{bmatrix}\\begin{bmatrix} |x\\rangle \\\\ |\\oslash\\rangle\\end{bmatrix} = \\begin{bmatrix} A_{\\psi}^{(1)}|x\\rangle \\\\ |\\oslash\\rangle\\end{bmatrix}.\n",
    "\\end{equation}\n",
    "Note que $\\dim\\mathcal{H}_{\\iota}$ é igual à ordem de $A_{\\psi}^{(1)}.$\n",
    "Por conseguinte, se todas as transformações de $A_{\\psi}\\in D_{\\psi}(\\mathcal{H})$ deixam um subespaço $\\mathcal{H}_{\\iota}\\subset\\mathcal{H}$ invariante, i.e., não levam vetores do subespaço pra fora dele, i.e., se $$A_{\\psi}:\\mathcal{H}_{\\iota}\\rightarrow \\mathcal{H}_{\\iota}\\ \\forall A_{\\psi}\\in D_{\\psi}(\\mathcal{H}),$$ então a representação $$G\\mapsto D_{\\psi}(\\mathcal{H}) \\text{ é redutível}.$$\n",
    "\n",
    "Note que podemos ter desde subespaços invariantes com dimensão $\\dim\\mathcal{H}_{\\iota}=1$ até $\\dim\\mathcal{H}_{\\iota}=\\dim\\mathcal{H}-1.$"
   ]
  },
  {
   "cell_type": "markdown",
   "metadata": {},
   "source": [
    "## Teorema\n",
    "Para __representações unitárias__ (para grupos finitos, em particular), redutibilidade implica em redutibilidade completa.\n",
    "\n",
    "### Prova\n",
    "Para representações $G\\mapsto D_{\\psi}(\\mathcal{H})$ unitárias, teremos que $$A_{\\psi}A_{\\psi}^{\\dagger} = A_{\\psi}^{\\dagger}A_{\\psi} = \\mathbb{I}\\ \\forall A_{\\psi}\\in D_{\\psi}(\\mathcal{H}).$$ Se a representação é redutível, vem que\n",
    "\\begin{align}\n",
    "A_{\\psi}A_{\\psi}^{\\dagger} & = \\begin{bmatrix} A_{\\psi}^{(1)} & O^{(1)} \\\\ \\mathbb{O} & A_{\\psi}^{(2)} \\end{bmatrix}\\begin{bmatrix} (A_{\\psi}^{(1)})^{\\dagger} &  \\mathbb{O} \\\\ (O_{(1)})^{\\dagger} & (A_{\\psi}^{(2)})^{\\dagger} \\end{bmatrix} \\\\\n",
    "&= \\begin{bmatrix} A_{\\psi}^{(1)}(A_{\\psi}^{(1)})^{\\dagger} + O^{(1)}(O^{(1)})^{\\dagger}  & O^{(1)}(A_{\\psi}^{(2)})^{\\dagger} \\\\ A_{\\psi}^{(2)}(O^{(1)})^{\\dagger} & A_{\\psi}^{(2)}(A_{\\psi}^{(2)})^{\\dagger} \\end{bmatrix} \\\\\n",
    "& = \\begin{bmatrix} \\mathbb{I} + O^{(1)}(O^{(1)})^{\\dagger}  & O^{(1)}(A_{\\psi}^{(2)})^{\\dagger} \\\\ A_{\\psi}^{(2)}(O^{(1)})^{\\dagger} & \\mathbb{I} \\end{bmatrix} \\\\\n",
    "&:= \\begin{bmatrix} \\mathbb{I} & \\mathbb{O} \\\\ \\mathbb{O} & \\mathbb{I} \\end{bmatrix}.\n",
    "\\end{align}\n",
    "A única maneira de satisfazer essa igualdade de forma geral é se $$O^{(1)}=\\mathbb{O}.$$ Mas isso implica que a representação é completamente redutível, completando assim a prova do teorema. $\\hspace{1cm} \\square$\n",
    "\n",
    "Por conseguinte, para grupos finitos podemos encontrar uma representação unitária que pode ser decomposta como a soma de representações irredutíveis."
   ]
  },
  {
   "cell_type": "markdown",
   "metadata": {},
   "source": [
    "## Lemas de Schur\n",
    "Na sequência, obteremos critérios mais simples para irredutibilidade. Também obteremos restrições para o possível número de representações não equivalentes de um grupo.\n",
    "\n",
    "### Teorema\n",
    "Uma representação $G\\mapsto D(\\mathcal{H})$ de ordem $n$ é redutível se e somente se existe uma matriz $A\\in\\mathbb{C}^{m\\text{x}n}$, com $m<n$, tal que \n",
    "$$AD(g) = D'(g)A\\ \\forall g\\in G,$$\n",
    "em que $G\\mapsto D'(\\mathcal{H})$ é uma representação de ordem $m.$\n",
    "\n",
    "#### Prova\n",
    "##### $D$ é redutível  $\\ \\Rightarrow \\exists A|D'(g)A=AD(g)\\ \\forall g\\in G$\n",
    "Suponha que $\\{\\psi_{j}\\}_{j=1}^{n},$ com $n=\\dim\\mathcal{H},$ é uma base de funções usada para obter uma representação linear do grupo $G\\mapsto D(\\mathcal{H}).$ Nesse caso, $\\forall g\\in G$ teremos que $$O_{g}\\psi_{j}=\\sum_{k=1}^{n}D_{j,k}(g)\\psi_{k}.$$ \n",
    "Aqui usamos a notação $D(g)=(D_{j,k}(g))$ para a matriz de $D(\\mathcal{H})$ que representa $g$. Se a representação $D(\\mathcal{H})$ é _redutível_, por definição, existe um subespaço $\\mathcal{H}_{\\iota}\\subset\\mathcal{H}$ com dimensão $\\dim\\mathcal{H}_{\\iota}=m< n$ que é invariante sob a ação das matrizes de $D_{\\psi}(\\mathcal{H}).$ Por outro lado, podemos usar uma base de funções $\\phi_{j}\\in\\mathcal{H}_{\\iota},$ com $j=1,\\cdots,m,$ desse subespaço para obter uma outra representação $D'(\\mathcal{H})$:\n",
    "\\begin{equation}\n",
    "O_{g}\\phi_{j}=\\sum_{k=1}^{m}D'_{j,k}(g)\\phi_{k}.\n",
    "\\end{equation}"
   ]
  },
  {
   "cell_type": "markdown",
   "metadata": {},
   "source": [
    "Ademais, podemos escrever qualquer função de $\\mathcal{H}_{\\iota}\\subset\\mathcal{H}$ como combinação linear de uma base de $\\mathcal{H}$ :\n",
    "\\begin{equation}\n",
    "\\phi_{j}=\\sum_{k=1}^{n}A_{j,k}\\psi_{k} \\ (j=1,\\cdots,m).\n",
    "\\end{equation}\n",
    "Com isso, vem que\n",
    "\\begin{align}\n",
    "O_{g}\\phi_{j} &= O_{g}\\sum_{k=1}^{n}A_{j,k}\\psi_{k} = \\sum_{k=1}^{n}A_{j,k}O_{g}\\psi_{k}  \\\\\n",
    "& = \\sum_{k=1}^{n}A_{j,k}\\sum_{l=1}^{n}D_{k,l}\\psi_{l} = \\sum_{l=1}^{n}\\left(\\sum_{k=1}^{n}A_{j,k}D_{k,l}\\right)\\psi_{l} = \\sum_{l=1}^{n}\\big(AD(g)\\big)_{j,l}\\psi_{l} \\\\\n",
    "&= \\sum_{k=1}^{m}D'_{j,k}(g)\\phi_{k} = \\sum_{k=1}^{m}D'_{j,k}(g)\\sum_{l=1}^{n}A_{k,l}\\psi_{l} \\\\\n",
    "& = \\sum_{l=1}^{n}\\left(\\sum_{k=1}^{m}D'_{j,k}(g)A_{k,l}\\right)\\psi_{l} = \\sum_{l=1}^{n}\\big(D'(g)A\\big)_{j,l}\\psi_{l}\n",
    "\\end{align}\n",
    "para todo $j=1,\\cdots,m.$ Por conseguinte, se $D(\\mathcal{H})$ é uma representação redutível do grupo $G$, deve existir uma matriz $A$ tal que \n",
    "\\begin{equation}\n",
    "D'(g)A=AD(g)\\ \\forall g\\in G.\n",
    "\\end{equation}"
   ]
  },
  {
   "cell_type": "markdown",
   "metadata": {},
   "source": [
    "##### $\\exists A\\ |\\ D'(g)A=AD(g)\\ \\forall g\\in G$  $\\ \\Rightarrow\\ D$ é redutível\n",
    "Por outro lado, para duas representações $D(\\mathcal{H})$, de ordem $n$, e $D'(\\mathcal{H})$, de ordem $m<n$, de um grupo $G,$ vamos assumir que existe uma matriz $A$ $m\\text{x}n$ tal que \n",
    "$D'(g)A=AD(g)\\ \\forall g\\in G.$\n",
    "Em termos dos elementos de matriz correspondentes, teremos, para todo $j=1,\\cdots,m$ e $k=1,\\cdots,n$, que\n",
    "\\begin{equation}\n",
    "(D'(g)A)_{j,k}=(AD(g))_{j,k}\\ \\therefore\\ \\sum_{l=1}^{m}D'_{j,l}(g)A_{l,k} = \\sum_{l=1}^{n}A_{j,l}D_{l,k}(g).\n",
    "\\end{equation}\n",
    "Multiplicando pelos elementos de uma base $\\psi_{k}\\in \\mathcal{H}$ e somando sobre todos esse elementos, obteremos\n",
    "\\begin{align}\n",
    "& \\sum_{k=1}^{n}\\sum_{l=1}^{n}A_{j,l}D_{l,k}(g)\\psi_{k} =\\sum_{l=1}^{n}A_{j,l} \\sum_{k=1}^{n}D_{l,k}(g)\\psi_{k} = \\sum_{l=1}^{n}A_{j,l}O_{g}\\psi_{l} = O_{g}\\sum_{l=1}^{n}A_{j,l}\\psi_{l} = O_{g}\\phi_{j} \\\\\n",
    "& =\\sum_{k=1}^{n}\\sum_{l=1}^{m}D'_{j,l}(g)A_{l,k}\\psi_{k} =\\sum_{l=1}^{m}D'_{j,l}(g)\\sum_{k=1}^{n}A_{l,k}\\psi_{k} = \\sum_{l=1}^{m}D'_{j,l}(g)\\phi_{l}.\n",
    "\\end{align}\n",
    "Portanto\n",
    "$\\phi_{j} = \\sum_{l=1}^{n}A_{j,l}\\psi_{l}$\n",
    "forma uma base para a representação $G\\mapsto D'(\\mathcal{H}).$ Como $m<n,$ a representação $G\\mapsto D(\\mathcal{H})$ deve ser redutível."
   ]
  },
  {
   "cell_type": "markdown",
   "metadata": {},
   "source": [
    "#### Lema I (de Schur)\n",
    "Se $D(\\mathcal{H})$ e $D'(\\mathcal{H})$ são duas representações irredutíveis, com ordens diferentes, de um grupo $G,$ a única matriz $A$ que satisfaz $D'(g)A=AD(g)\\ \\forall g\\in G$ é $A=\\mathbb{O}.$\n",
    "\n",
    "##### Prova\n",
    "Na última parte da prova da proposição acima, mostramos que \n",
    "\\begin{equation}\n",
    "\\exists A\\ |\\ D'(g)A=AD(g)\\ \\forall g\\in G\\ \\Rightarrow\\ D \\text{ é redutível}.\n",
    "\\end{equation}\n",
    "Consequentemente \n",
    "\\begin{equation}\n",
    "D \\text{ é irredutível }\\Rightarrow\\nexists A\\ |\\ D'(g)A=AD(g)\\ \\forall g\\in G.\n",
    "\\end{equation}\n",
    "A única possibilidade então para satisfazer essa igualdade seria com a matriz nula $m\\times n$:\n",
    "\\begin{equation}\n",
    "A=\\mathbb{O}.\n",
    "\\end{equation}"
   ]
  },
  {
   "cell_type": "markdown",
   "metadata": {},
   "source": [
    "#### Lema I.a (Schur)\n",
    "Se $D(\\mathcal{H})$ e $D'(\\mathcal{H})$ são duas representações irredutíveis, com ordens iguais, de um grupo $G,$ e se $D'(g)A=AD(g)\\ \\forall g\\in G$, então $D(\\mathcal{H})$ e $D'(\\mathcal{H})$ são equivalentes ou $A=\\mathbb{O}.$\n",
    "\n",
    "##### Prova\n",
    "Como as ordens de $D(\\mathcal{H})$ e $D'(\\mathcal{H})$ são iguais, devemos ter $m=n.$ No contexto da 1ª parte da prova do teorema acima, as $m=n$ funções $\\phi_{j}=\\sum_{k=1}^{n}A_{j,k}\\psi_{k}$, que fornecem a representação $D'(\\mathcal{H})$, devem ser linearmente independentes (LI). Se olhamos para \n",
    "\\begin{equation}\n",
    "\\begin{bmatrix}\\phi_{1}\\\\\\vdots\\\\\\phi_{m}\\end{bmatrix}=\\begin{bmatrix}A_{1,1}&\\cdots&A_{1,m}\\\\\\vdots&\\ddots&\\vdots\\\\A_{m,1}&\\cdots&A_{m,m}\\end{bmatrix}\\begin{bmatrix}\\psi_{1}\\\\\\vdots\\\\\\psi_{m}\\end{bmatrix},\n",
    "\\end{equation}\n",
    "vemos que para que isso ocorra, as linhas da matriz $A$ devem ser LI. Ou seja, \n",
    "\\begin{equation}\n",
    "\\det(A)\\ne 0 \\text{ e } \\exists A^{-1}.\n",
    "\\end{equation}\n",
    "Dessa forma \n",
    "\\begin{equation}\n",
    "D'(g)A=AD(g) \\ \\therefore D'(g)=D'(g)AA^{-1}=AD(g)A^{-1}\\ \\forall g\\in G,\n",
    "\\end{equation}\n",
    "e portanto $D(\\mathcal{H})$ e $D'(\\mathcal{H})$ devem ser representações equivalentes. Claro, outra maneira de satisfazer $D'(g)A=AD(g)\\ \\forall g\\in G$ é com $A=\\mathbb{O}.$"
   ]
  },
  {
   "cell_type": "markdown",
   "metadata": {},
   "source": [
    "#### Lema II (Schur)\n",
    "Se $D(\\mathcal{H})$ é uma representação irredutível de um grupo $G$ e $D(g)A=AD(g)\\ \\forall g\\in G,$ então $A\\propto\\mathbb{I}$ ou $A=\\mathbb{O}.$\n",
    "\n",
    "##### Prova\n",
    "Seja $A|a\\rangle=a|a\\rangle$ a equação característica para a matriz $A.$ Usando a suposição de que $[D(g),A]=\\mathbb{O}\\ \\forall g\\in G,$ vemos que \n",
    "\\begin{equation}\n",
    "AD(g)|a\\rangle=D(g)A|a\\rangle=D(g)a|a\\rangle=aD(g)|a\\rangle.\n",
    "\\end{equation} \n",
    "Ou seja, $D(g)|a\\rangle$ também é autovetor de $A$ correspondente ao mesmo autovalor $a,$ para todo $g\\in G.$ Ou seja, o subespaço $\\mathcal{H}_{a}\\subseteq\\mathcal{H}$ gerado pelos autovetores $|a\\rangle$ é invariante sob todas as transformações do grupo $G.$ Mas isso só é possível se \n",
    "\\begin{equation}\n",
    "\\mathcal{H}_{a}=\\mathcal{H} \\text{ ou } \\mathcal{H}_{a}=\\{|\\oslash\\rangle\\}.\n",
    "\\end{equation}\n",
    "A primeira possibilidade implica que $A$ tem um único autovalor, i.e., \n",
    "\\begin{equation}\n",
    "A=a\\mathbb{I}.\n",
    "\\end{equation}\n",
    "A segunda possibilidade implica que\n",
    "\\begin{equation}\n",
    "A=\\mathbb{O}.\n",
    "\\end{equation}\n",
    "\n",
    "\n",
    "Este último Lema fornece uma maneira promissora para testar irredutibilidade, pois se conseguirmos mostrar que ao tentar encontrar $A$ tal que $AD(g)=D(g)A\\ \\forall g$ devemos ter $A\\propto \\mathbb{I}$, então $D(\\mathcal{H})$ é irredutível."
   ]
  },
  {
   "cell_type": "markdown",
   "metadata": {},
   "source": [
    "### Relações de ortogonalidade\n",
    "Com relação ao Lema II acima, dada uma representação linear $D(\\mathcal{H})$ irredutível de grau $n$ do grupo $G$, vamos verificar que a matriz\n",
    "\\begin{equation}\n",
    "A = \\sum_{g\\in G}D(g)BD(g^{-1})\n",
    "\\end{equation}\n",
    "satisfaz $AD(g)=D(g)A$ para qualquer matriz $X\\in\\mathbb{C}^{n\\times n}$. Essa verificação é feita como segue\n",
    "\\begin{align}\n",
    "D(g)A & = D(g)\\sum_{h\\in G}D(h)BD(h^{-1}) = \\sum_{h\\in G}D(g)D(h)BD(h^{-1})(D(g))^{-1}D(g) \\\\\n",
    "& = \\sum_{h\\in G}D(g)D(h)BD(h^{-1})D(g^{-1})D(g) = \\sum_{h\\in G}D(gh)BD(h^{-1}g^{-1})D(g) \\\\\n",
    "& = \\sum_{h\\in G}D(gh)BD((gh)^{-1})D(g) = \\sum_{p\\in G}D(p)BD(p^{-1})D(g) \\\\\n",
    "& = AD(g).\n",
    "\\end{align}\n",
    "Na penúltima igualdade acima, usamos o teorema do rearranjamento."
   ]
  },
  {
   "cell_type": "markdown",
   "metadata": {},
   "source": [
    "Mas, de acordo com o Lema II, temos que ter\n",
    "\\begin{equation}\n",
    "A \\propto \\mathbb{I} =: \\lambda\\mathbb{I} = \\sum_{g\\in G}D(g)BD(g^{-1}).\n",
    "\\end{equation}\n",
    "Notando que para três matrizes $X,Y,Z$ temos $\\big((XYZ)_{j,k}\\big) = \\big(\\sum_{l}X_{j,l}(YZ)_{l,k}\\big) = \\big(\\sum_{l,m}X_{j,l}Y_{l,m}Z_{m,k} \\big)$, e como a matriz $B$ é uma matriz qualquer, podemos escolher $B$ sendo nula a menos do elemento $B_{p,q}:=1$. Assim\n",
    "\\begin{align}\n",
    "\\big((D(g)BD(g^{-1}))_{j,k}\\big) & = \\Big(\\sum_{l,m}D_{j,l}(g)B_{l,m}D_{m,k}(g^{-1})\\Big) = \\Big(\\sum_{l,m}D_{j,l}(g)\\delta_{p,q}D_{m,k}(g^{-1})\\Big) \\\\\n",
    "& = \\big(D_{j,p}(g)D_{q,k}(g^{-1})\\big) = \\big(\\lambda\\delta_{j,k}\\big).\n",
    "\\end{align}\n",
    "Portanto\n",
    "\\begin{equation}\n",
    "\\sum_{g\\in G}D_{j,p}(g)D_{q,k}(g^{-1}) = \\lambda\\delta_{j,k}.\n",
    "\\end{equation}"
   ]
  },
  {
   "cell_type": "markdown",
   "metadata": {},
   "source": [
    "No falta determinar $\\lambda$. Para isso fazemos $j=k$ e somamos sobre $j$:\n",
    "\\begin{align}\n",
    "n\\lambda & = \\sum_{j}\\lambda = \\sum_{j}\\sum_{g\\in G}D_{j,p}(g)D_{q,j}(g^{-1}) = \\sum_{g\\in G}\\sum_{j}D^{-1}(g)_{q,j}D_{j,p}(g) \\\\\n",
    "& = \\sum_{g\\in G}\\big(D^{-1}(g)D(g)\\big)_{q,p} = \\sum_{g\\in G}D(g^{-1}g)_{q,p} = \\sum_{g\\in G}D(e)_{q,p} = \\sum_{g\\in G}\\mathbb{I}_{q,p} \\\\\n",
    "& = \\sum_{g\\in G}\\delta_{q,p} = |G|\\delta_{q,p}.\n",
    "\\end{align}\n",
    "Portanto\n",
    "\\begin{equation}\n",
    "\\lambda = \\frac{|G|\\delta_{q,p}}{n}.\n",
    "\\end{equation}\n",
    "Assim a relação de ortogonalidade fica escrita como segue:\n",
    "\\begin{equation}\n",
    "\\sum_{g\\in G}D_{j,p}(g)D_{q,k}(g^{-1}) = \\frac{|G|}{n}\\delta_{q,p}\\delta_{j,k}.\n",
    "\\end{equation}"
   ]
  },
  {
   "cell_type": "markdown",
   "metadata": {},
   "source": [
    "Seguindo, consideremos o Lema I, que diz que se $D(\\mathcal{H})$ e $D'(\\mathcal{H})$ são duas representações irredutíveis de um grupo $G$ com ordens $n\\ne m$, então $D'(g)A=AD(g)\\ \\forall g\\in G$ implica que $A=\\mathbb{O}.$ Vamos verificar que essa relação é satisfeita pela matriz\n",
    "\\begin{equation}\n",
    "A = \\sum_{g\\in G}D'(g)BD(g^{-1}),\n",
    "\\end{equation}\n",
    "novamente com $B$ sendo uma matriz qualquer:\n",
    "\\begin{align}\n",
    "D'(g)A & = D'(g)\\sum_{h\\in G}D'(h)BD(h^{-1}) = \\sum_{h\\in G}D'(g)D'(h)BD(h^{-1})D(g^{-1})D(g) \\\\\n",
    "& = \\sum_{h\\in G}D'(gh)BD(h^{-1}g^{-1})D(g) = \\sum_{h\\in G}D'(gh)BD((gh)^{-1})D(g) \\\\\n",
    "& = \\sum_{p\\in G}D'(p)BD(p^{-1})D(g) = AD(g).\n",
    "\\end{align}\n",
    "Escolhendo $B$ como antes, ou seja, com somente o elemento $B_{p,q}=1$ não nulo, teremos que\n",
    "\\begin{align}\n",
    "\\big((D'(g)BD(g^{-1}))_{j,k}\\big) & = \\Big(\\sum_{l,m}D'_{j,l}(g)B_{l,m}D_{m,k}(g^{-1})\\Big) = \\Big(\\sum_{l,m}D'_{j,l}(g)\\delta_{p,q}D_{m,k}(g^{-1})\\Big) \\\\\n",
    "& = \\big(D'_{j,p}(g)D_{q,k}(g^{-1})\\big) = \\mathbb{O}_{j,k} = 0.\n",
    "\\end{align}\n",
    "Assim, obtemos a seguinte relação de ortogonalidade\n",
    "\\begin{equation}\n",
    "\\sum_{g\\in G}D'_{j,p}(g)D_{q,k}(g^{-1}) = 0.\n",
    "\\end{equation}"
   ]
  },
  {
   "cell_type": "markdown",
   "metadata": {},
   "source": [
    "De forma geral, se usamos a notação $D(\\mathcal{H}):=D^{(\\mu)}(\\mathcal{H})$ e $D'(\\mathcal{H}):=D^{(\\nu)}(\\mathcal{H})$, teremos a relação de ortogonalidade geral:\n",
    "\\begin{equation}\n",
    "\\sum_{g\\in G}D^{(\\nu)}_{j,p}(g)D^{(\\mu)}_{q,k}(g^{-1}) = \\frac{|G|}{n}\\delta_{\\nu,\\mu}\\delta_{q,p}\\delta_{j,k}.\n",
    "\\end{equation}\n",
    "\n",
    "Se a representação é unitária, então $D(g^{-1})=(D(g))^{-1}=(D(g))^{\\dagger}$ e a relação de ortogonalidade fica escrita como\n",
    "\\begin{equation}\n",
    "\\sum_{g\\in G}D^{(\\nu)}_{j,p}(g)(D^{(\\mu)}_{k,q}(g))^{*} = \\frac{|G|}{n}\\delta_{\\nu,\\mu}\\delta_{q,p}\\delta_{j,k}.\n",
    "\\end{equation}\n",
    "\n",
    "Nesse ponto, observamos que, uma vez fixados $j$, $k$ e $\\mu$, os números $D^{(\\mu)}_{j,k}(g)$ formam um vetor em um espaço vetorial de dimensão $|G|.$ Denotando por $n_{\\mu}$ a ordem da representação $D^{(\\mu)}(\\mathcal{H})$, vemos que tal representação nos fornece $n_{\\mu}^{2}$ vetores $D_{j,k}^{(\\mu)}(g)$, com $j,k=1,\\cdots,n_{\\mu}$, que são ortogonais entre si e que são ortogonais para diferentes representações. Como não podemos ter mais que $|G|$ vetores linearmente independentes em um espaço de dimensão $|G|$, vemos que\n",
    "\\begin{equation}\n",
    "\\sum_{\\mu}n_{\\mu}^{2}\\le |G|.\n",
    "\\end{equation}\n",
    "Vemos assim que o número de representações irredutíveis de um grupo finito é finita."
   ]
  },
  {
   "cell_type": "markdown",
   "metadata": {},
   "source": [
    "Consideremos representações unitárias e vamos fazer $j=p$ e $k=q$ nas relações de ortogonalidade gerais:\n",
    "\\begin{equation}\n",
    "\\sum_{g\\in G}D^{(\\nu)}_{j,j}(g)(D^{(\\mu)}_{k,k}(g))^{*} = \\frac{|G|}{n}\\delta_{\\nu,\\mu}\\delta_{j,k}\\delta_{j,k} = \\frac{|G|}{n}\\delta_{\\nu,\\mu}\\delta_{j,k}^{2} = \\frac{|G|}{n}\\delta_{\\nu,\\mu}\\delta_{j,k}.\n",
    "\\end{equation}\n",
    "Seguindo, vamos somar sobre $j$ e $k$:\n",
    "\\begin{align}\n",
    "& \\sum_{j,k}\\sum_{g\\in G}D^{(\\nu)}_{j,j}(g)(D^{(\\mu)}_{k,k}(g))^{*} = \\sum_{g\\in G}\\sum_{k}(D^{(\\mu)}_{k,k}(g))^{*}\\sum_{j}D^{(\\nu)}_{j,j}(g) \\\\\n",
    "& = \\sum_{g\\in G}\\big(Tr(D^{(\\mu)}(g))\\big)^{*}Tr(D^{(\\nu)}(g)) = \\sum_{g\\in G}\\big(\\chi^{(\\mu)}(g))\\big)^{*}\\chi^{(\\nu)}(g) \\\\\n",
    "& = \\langle\\chi^{(\\mu)}|\\chi^{(\\nu)}\\rangle \\\\\n",
    "& = \\sum_{j,k}\\frac{|G|}{n}\\delta_{\\nu,\\mu}\\delta_{j,k} = \\sum_{j}\\frac{|G|}{n}\\delta_{\\nu,\\mu} = \\frac{|G|}{n}\\delta_{\\nu,\\mu}n = |G|\\delta_{\\nu,\\mu},\n",
    "\\end{align}\n",
    "em que usamos $\\chi^{(\\mu)}(g)=Tr(D^{(\\mu)}(g))$ como o caráter do elemento $g\\in G$ na representação linear $D^{(\\mu)}$. "
   ]
  },
  {
   "cell_type": "markdown",
   "metadata": {},
   "source": [
    "Consideremos que o grupo $G$ é composto pelas classes conjugadas $K_{1},\\cdots,K_{k}$, e que o número de elementos na classe conjugada $K_{j}$ é $\\kappa_{j}$. Lembremos que o caráter de todos os elementos dentro de uma certa classe conjugada é igual, i.e., \n",
    "\\begin{equation}\n",
    "\\chi^{(\\mu)}(g\\in K_{j}) =: \\chi^{(\\mu)}_{j}.\n",
    "\\end{equation}\n",
    "Com isso, podemos escrever\n",
    "\\begin{align}\n",
    "& \\sum_{g\\in G}\\big(\\chi^{(\\mu)}(g))\\big)^{*}\\chi^{(\\nu)}(g) = \\sum_{j}\\kappa_{j}\\big(\\chi^{(\\mu)}_{j}\\big)^{*}\\chi^{(\\nu)}_{j} \\\\\n",
    "& = \\sum_{j}\\big(\\sqrt{\\kappa_{j}}\\chi^{(\\mu)}_{j}\\big)^{*}\\big(\\sqrt{\\kappa_{j}}\\chi^{(\\nu)}_{j}\\big) = |G|\\delta_{\\nu,\\mu}.\n",
    "\\end{align}\n",
    "\n",
    "Os números $\\sqrt{\\kappa_{j}}\\chi^{(\\mu)}_{j}$ formam vetores em um espaço vetorial de dimensão $k$, que é o número de classes conjugadas do grupo $G$. Como esses vetores são ortogonais para representações irredutíveis diferentes, o número de representações irredutíveis não equivalentes de um grupo $G$ é menor ou igual ao número de classes conjugadas desse grupo."
   ]
  },
  {
   "cell_type": "markdown",
   "metadata": {},
   "source": [
    "---\n",
    "## Exercícios\n",
    "\n",
    "1. Cosidere duas matrizes $A_{\\psi},B_{\\psi}\\in D_{\\psi}(\\mathcal{H})$ de uma representação $G\\mapsto D_{\\psi}(\\mathcal{H})$ redutível, i.e. $A_{\\psi} = \\begin{bmatrix} A^{(1)}_{\\psi} & O^{(1)}_{\\psi} \\\\ \\mathbb{O} & A^{(2)}_{\\psi} \\end{bmatrix}$ e $B_{\\psi} = \\begin{bmatrix} B^{(1)}_{\\psi} & Q^{(1)}_{\\psi} \\\\ \\mathbb{O} & B^{(2)}_{\\psi} \\end{bmatrix}$. Verifique que a composição $C_{\\psi}=A_{\\psi}B_{\\psi}$ também tem a forma redutível $C_{\\psi} = \\begin{bmatrix} C^{(1)}_{\\psi} & P^{(1)}_{\\psi} \\\\ \\mathbb{O} & C^{(2)}_{\\psi} \\end{bmatrix}.$ \n",
    "\n",
    "1. Verifique que vetores do subespaço complementar ao subespaço invariante (i.e., vetores do tipo $\\begin{bmatrix}|\\oslash\\rangle & |x_{c}\\rangle\\end{bmatrix}^{T}$) não são invariantes sob a ação de matrizes de uma transformação redutível, $A_{\\psi} = \\begin{bmatrix} A^{(1)}_{\\psi} & O^{(1)}_{\\psi} \\\\ \\mathbb{O} & A^{(2)}_{\\psi} \\end{bmatrix}.$   "
   ]
  }
 ],
 "metadata": {
  "kernelspec": {
   "display_name": "Python 3 (ipykernel)",
   "language": "python",
   "name": "python3"
  },
  "language_info": {
   "codemirror_mode": {
    "name": "ipython",
    "version": 3
   },
   "file_extension": ".py",
   "mimetype": "text/x-python",
   "name": "python",
   "nbconvert_exporter": "python",
   "pygments_lexer": "ipython3",
   "version": "3.8.8"
  }
 },
 "nbformat": 4,
 "nbformat_minor": 4
}
