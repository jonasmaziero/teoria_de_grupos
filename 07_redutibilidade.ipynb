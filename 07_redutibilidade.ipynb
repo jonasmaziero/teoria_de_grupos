{
 "cells": [
  {
   "cell_type": "markdown",
   "metadata": {},
   "source": [
    "## Notas de aula de Teoria de Grupos <br> Autor: Jonas Maziero\n",
    "Link para o vídeo da aula sobre esse tópico:"
   ]
  },
  {
   "cell_type": "code",
   "execution_count": 1,
   "metadata": {},
   "outputs": [],
   "source": [
    "%run init.ipynb"
   ]
  },
  {
   "cell_type": "markdown",
   "metadata": {},
   "source": [
    "# Redutibilidade de representações\n",
    "Consideremos a representação linear de um grupo $G\\mapsto D(\\mathcal{H})$. A princípio, as matrizes $A_{\\psi}\\in D_{\\psi}(\\mathcal{H})$ tem uma forma geral\n",
    "\\begin{equation}\n",
    "A_{\\psi} = \\begin{bmatrix} A^{(1)}_{\\psi} & O^{(1)}_{\\psi} \\\\ \\tilde{O}^{(1)}_{\\psi} & A^{(2)}_{\\psi} \\end{bmatrix},\n",
    "\\end{equation}\n",
    "com $A^{(1)}_{\\psi},O^{(1)}_{\\psi},\\tilde{O}^{(1)}_{\\psi},A^{(2)}_{\\psi}$ sendo matrizes quaisquer (com as dimensões apropriadas). \n",
    "\n",
    "Dizemos que a representação $G\\mapsto D_{\\psi}(\\mathcal{H})$ é __redutível__ se todas as matrizes $A_{\\psi}\\in D_{\\psi}(\\mathcal{H})$ dessa representação tem a forma\n",
    "\\begin{equation}\n",
    "A_{\\psi} = \\begin{bmatrix} A^{(1)}_{\\psi} & O^{(1)}_{\\psi} \\\\ \\mathbb{O} & A^{(2)}_{\\psi} \\end{bmatrix}.\n",
    "\\end{equation}\n",
    "\n",
    "Dizemos que a representação $G\\mapsto D_{\\psi}(\\mathcal{H})$S é __completamente redutível__ se $O^{(1)}_{\\psi}=\\mathbb{O}$, i.e., as matrizes $A_{\\psi}$ são bloco-diagonais:\n",
    "\\begin{equation}\n",
    "A_{\\psi} = \\begin{bmatrix} A^{(1)}_{\\psi} & \\mathbb{O} \\\\ \\mathbb{O} & A^{(2)}_{\\psi} \\end{bmatrix}.\n",
    "\\end{equation}"
   ]
  },
  {
   "cell_type": "markdown",
   "metadata": {},
   "source": [
    "Nesse último caso, dizemos que $A_{\\psi}$ é a soma (direta) das representações $A^{(j)}_{\\psi}$, pois estas atuam subespaços ortogonais de $\\mathcal{H}$: $$A_{\\psi}=A^{(1)}_{\\psi}+A^{(2)}_{\\psi}.$$\n",
    "\n",
    "Para representações completamente redutíveis, o caráter de um elemento é a soma dos caracteres das sub-representações, i.e., para $g\\mapsto A_{\\psi}(g)$ teremos\n",
    "\\begin{equation}\n",
    "\\chi(g)=Tr(A_{\\psi}(g))=Tr(A_{\\psi}^{(1)}(g))+Tr(A_{\\psi}^{(2)}(g)).\n",
    "\\end{equation}\n",
    "\n",
    "Quando não conseguirmos mais reduzir as representações que aparecem na \"decomposição\" de $A^{\\psi}$, teremos encontrado a __representação irredutível__ do grupo $G$:\n",
    "\\begin{equation}\n",
    "A_{\\psi}=\\begin{bmatrix} A_{\\psi}^{(1)} & & O^{(1)} & &  \\\\ \\mathbb{O} & A_{\\psi}^{(2)} & & O^{(2)} &  \\\\ \\vdots & \\vdots & \\ddots & \\vdots & \\vdots \\\\ \\mathbb{O}  & \\mathbb{O}  & \\cdots & A_{\\psi}^{(k-1)} & O^{(k-1)} \\\\ \\mathbb{O}  & \\mathbb{O}  & \\cdots & \\mathbb{O}  & A_{\\psi}^{(k)} \\end{bmatrix}.\n",
    "\\end{equation}"
   ]
  },
  {
   "cell_type": "markdown",
   "metadata": {},
   "source": [
    "## Critério de redutibilidade\n",
    "Como podemos determinar se uma representação linear qualquer $G\\mapsto D_{\\psi}(\\mathcal{H})$ é redutível? Bom, se uma representação é redutível, então para vetores $|x\\rangle\\in\\mathcal{H}_{\\iota}$ de um subspaço $\\mathcal{H}_{\\iota}\\subset\\mathcal{H}$ teremos\n",
    "\\begin{equation}\n",
    "\\begin{bmatrix} A_{\\psi}^{(1)} & O^{(1)} \\\\ \\mathbb{O} & A_{\\psi}^{(2)} \\end{bmatrix}\\begin{bmatrix} |x\\rangle \\\\ |\\oslash\\rangle\\end{bmatrix} = \\begin{bmatrix} A_{\\psi}^{(1)}|x\\rangle \\\\ |\\oslash\\rangle\\end{bmatrix}.\n",
    "\\end{equation}\n",
    "Por conseguinte, se todas as transformações de $A_{\\psi}\\in D_{\\psi}(\\mathcal{H})$ deixam um subespaço $\\mathcal{H}_{\\iota}\\subset\\mathcal{H}$ invariante, i.e., não levam vetores do subespaço pra fora dele, i.e., se $$A_{\\psi}:\\mathcal{H}_{\\iota}\\rightarrow \\mathcal{H}_{\\iota}\\ \\forall A_{\\psi}\\in D_{\\psi}(\\mathcal{H}),$$ então a representação $$G\\mapsto D_{\\psi}(\\mathcal{H}) \\text{ é redutível}.$$\n",
    "\n",
    "Note que podemos ter desde subespaços invariantes com dimensão $\\dim\\mathcal{H}_{\\iota}=1$ até $\\dim\\mathcal{H}_{\\iota}=\\dim\\mathcal{H}-1.$"
   ]
  },
  {
   "cell_type": "markdown",
   "metadata": {},
   "source": [
    "## Teorema\n",
    "Para __representações unitárias__ (para grupos finitos, em particular), redutibilidade implica em redutibilidade completa.\n",
    "\n",
    "### Prova\n",
    "Para representações $G\\mapsto D_{\\psi}(\\mathcal{H})$ unitárias, teremos que $$A_{\\psi}A_{\\psi}^{\\dagger} = A_{\\psi}^{\\dagger}A_{\\psi} = \\mathbb{I}\\ \\forall A_{\\psi}\\in D_{\\psi}(\\mathcal{H}).$$ Se a representação é redutível, vem que\n",
    "\\begin{align}\n",
    "A_{\\psi}A_{\\psi}^{\\dagger} & = \\begin{bmatrix} A_{\\psi}^{(1)} & O^{(1)} \\\\ \\mathbb{O} & A_{\\psi}^{(2)} \\end{bmatrix}\\begin{bmatrix} (A_{\\psi}^{(1)})^{\\dagger} &  \\mathbb{O} \\\\ (O_{(1)})^{\\dagger} & (A_{\\psi}^{(2)})^{\\dagger} \\end{bmatrix} \\\\\n",
    "&= \\begin{bmatrix} A_{\\psi}^{(1)}(A_{\\psi}^{(1)})^{\\dagger} + O^{(1)}(O^{(1)})^{\\dagger}  & O^{(1)}(A_{\\psi}^{(2)})^{\\dagger} \\\\ A_{\\psi}^{(2)}(O^{(1)})^{\\dagger} & A_{\\psi}^{(2)}(A_{\\psi}^{(2)})^{\\dagger} \\end{bmatrix} \\\\\n",
    "& = \\begin{bmatrix} \\mathbb{I} + O^{(1)}(O^{(1)})^{\\dagger}  & O^{(1)}(A_{\\psi}^{(2)})^{\\dagger} \\\\ A_{\\psi}^{(2)}(O^{(1)})^{\\dagger} & \\mathbb{I} \\end{bmatrix} \\\\\n",
    "&:= \\begin{bmatrix} \\mathbb{I} & \\mathbb{O} \\\\ \\mathbb{O} & \\mathbb{I} \\end{bmatrix}.\n",
    "\\end{align}\n",
    "A única maneira de satisfazer essa igualdade de forma geral é se $$O^{(1)}=\\mathbb{O}.$$ Mas isso implica que a representação é completamente redutível, completando assim a prova do teorema. $\\hspace{1cm} \\square$"
   ]
  },
  {
   "cell_type": "markdown",
   "metadata": {},
   "source": [
    "# Exercícios\n",
    "\n",
    "1. Entender as notas de aula."
   ]
  },
  {
   "cell_type": "code",
   "execution_count": null,
   "metadata": {},
   "outputs": [],
   "source": []
  }
 ],
 "metadata": {
  "kernelspec": {
   "display_name": "Python 3",
   "language": "python",
   "name": "python3"
  },
  "language_info": {
   "codemirror_mode": {
    "name": "ipython",
    "version": 3
   },
   "file_extension": ".py",
   "mimetype": "text/x-python",
   "name": "python",
   "nbconvert_exporter": "python",
   "pygments_lexer": "ipython3",
   "version": "3.6.6"
  }
 },
 "nbformat": 4,
 "nbformat_minor": 4
}
